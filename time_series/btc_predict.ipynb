{
 "cells": [
  {
   "cell_type": "code",
   "execution_count": 2,
   "metadata": {},
   "outputs": [],
   "source": [
    "import pandas as pd\n",
    "import tensorflow as tf\n",
    "import seaborn as sns"
   ]
  },
  {
   "cell_type": "code",
   "execution_count": 3,
   "metadata": {},
   "outputs": [],
   "source": [
    "df = pd.read_csv('BTC_USD_2014-11-03_2022-02-04-CoinDesk.csv')"
   ]
  },
  {
   "cell_type": "code",
   "execution_count": 4,
   "metadata": {},
   "outputs": [
    {
     "data": {
      "text/html": [
       "<div>\n",
       "<style scoped>\n",
       "    .dataframe tbody tr th:only-of-type {\n",
       "        vertical-align: middle;\n",
       "    }\n",
       "\n",
       "    .dataframe tbody tr th {\n",
       "        vertical-align: top;\n",
       "    }\n",
       "\n",
       "    .dataframe thead th {\n",
       "        text-align: right;\n",
       "    }\n",
       "</style>\n",
       "<table border=\"1\" class=\"dataframe\">\n",
       "  <thead>\n",
       "    <tr style=\"text-align: right;\">\n",
       "      <th></th>\n",
       "      <th>Currency</th>\n",
       "      <th>Date</th>\n",
       "      <th>Closing Price (USD)</th>\n",
       "      <th>24h Open (USD)</th>\n",
       "      <th>24h High (USD)</th>\n",
       "      <th>24h Low (USD)</th>\n",
       "    </tr>\n",
       "  </thead>\n",
       "  <tbody>\n",
       "    <tr>\n",
       "      <th>0</th>\n",
       "      <td>BTC</td>\n",
       "      <td>2014-11-03</td>\n",
       "      <td>324.467934</td>\n",
       "      <td>323.826186</td>\n",
       "      <td>333.539527</td>\n",
       "      <td>323.106623</td>\n",
       "    </tr>\n",
       "    <tr>\n",
       "      <th>1</th>\n",
       "      <td>BTC</td>\n",
       "      <td>2014-11-04</td>\n",
       "      <td>328.644408</td>\n",
       "      <td>324.424164</td>\n",
       "      <td>330.671610</td>\n",
       "      <td>320.902900</td>\n",
       "    </tr>\n",
       "    <tr>\n",
       "      <th>2</th>\n",
       "      <td>BTC</td>\n",
       "      <td>2014-11-05</td>\n",
       "      <td>337.921358</td>\n",
       "      <td>328.653046</td>\n",
       "      <td>342.384170</td>\n",
       "      <td>328.597125</td>\n",
       "    </tr>\n",
       "    <tr>\n",
       "      <th>3</th>\n",
       "      <td>BTC</td>\n",
       "      <td>2014-11-06</td>\n",
       "      <td>348.992860</td>\n",
       "      <td>337.921358</td>\n",
       "      <td>352.585895</td>\n",
       "      <td>336.236830</td>\n",
       "    </tr>\n",
       "    <tr>\n",
       "      <th>4</th>\n",
       "      <td>BTC</td>\n",
       "      <td>2014-11-07</td>\n",
       "      <td>341.459753</td>\n",
       "      <td>348.992860</td>\n",
       "      <td>351.651854</td>\n",
       "      <td>340.196145</td>\n",
       "    </tr>\n",
       "  </tbody>\n",
       "</table>\n",
       "</div>"
      ],
      "text/plain": [
       "  Currency        Date  Closing Price (USD)  24h Open (USD)  24h High (USD)  \\\n",
       "0      BTC  2014-11-03           324.467934      323.826186      333.539527   \n",
       "1      BTC  2014-11-04           328.644408      324.424164      330.671610   \n",
       "2      BTC  2014-11-05           337.921358      328.653046      342.384170   \n",
       "3      BTC  2014-11-06           348.992860      337.921358      352.585895   \n",
       "4      BTC  2014-11-07           341.459753      348.992860      351.651854   \n",
       "\n",
       "   24h Low (USD)  \n",
       "0     323.106623  \n",
       "1     320.902900  \n",
       "2     328.597125  \n",
       "3     336.236830  \n",
       "4     340.196145  "
      ]
     },
     "execution_count": 4,
     "metadata": {},
     "output_type": "execute_result"
    }
   ],
   "source": [
    "df.head()"
   ]
  },
  {
   "cell_type": "code",
   "execution_count": 5,
   "metadata": {},
   "outputs": [
    {
     "name": "stdout",
     "output_type": "stream",
     "text": [
      "<class 'pandas.core.frame.DataFrame'>\n",
      "RangeIndex: 2651 entries, 0 to 2650\n",
      "Data columns (total 6 columns):\n",
      " #   Column               Non-Null Count  Dtype  \n",
      "---  ------               --------------  -----  \n",
      " 0   Currency             2651 non-null   object \n",
      " 1   Date                 2651 non-null   object \n",
      " 2   Closing Price (USD)  2651 non-null   float64\n",
      " 3   24h Open (USD)       2651 non-null   float64\n",
      " 4   24h High (USD)       2651 non-null   float64\n",
      " 5   24h Low (USD)        2651 non-null   float64\n",
      "dtypes: float64(4), object(2)\n",
      "memory usage: 124.4+ KB\n"
     ]
    }
   ],
   "source": [
    "df.info()"
   ]
  },
  {
   "cell_type": "code",
   "execution_count": 6,
   "metadata": {},
   "outputs": [
    {
     "data": {
      "text/plain": [
       "Text(0.5, 1.0, 'Closing Price of Bitcoin from 2013 to 2022')"
      ]
     },
     "execution_count": 6,
     "metadata": {},
     "output_type": "execute_result"
    },
    {
     "data": {
      "image/png": "[encoded data removed]",
      "text/plain": [
       "<Figure size 432x288 with 1 Axes>"
      ]
     },
     "metadata": {
      "needs_background": "light"
     },
     "output_type": "display_data"
    }
   ],
   "source": [
    "sns.lineplot(data=df, x='Date', y='Closing Price (USD)').set_title('Closing Price of Bitcoin from 2013 to 2022')"
   ]
  },
  {
   "cell_type": "code",
   "execution_count": 7,
   "metadata": {},
   "outputs": [],
   "source": [
    "import csv\n",
    "from datetime import datetime"
   ]
  },
  {
   "cell_type": "code",
   "execution_count": 8,
   "metadata": {},
   "outputs": [],
   "source": [
    "timesteps = []\n",
    "btc_price = []\n",
    "with open('BTC_USD_2014-11-03_2022-02-04-CoinDesk.csv') as f:\n",
    "    csv_reader = csv.reader(f, delimiter= ',')\n",
    "    next(csv_reader)\n",
    "    for line in csv_reader:\n",
    "        timesteps.append(datetime.strptime(line[1], \"%Y-%m-%d\"))\n",
    "        btc_price.append(float(line[2])) # Closing price\n"
   ]
  },
  {
   "cell_type": "code",
   "execution_count": 9,
   "metadata": {},
   "outputs": [],
   "source": [
    "import matplotlib.pyplot as plt\n",
    "import numpy as np"
   ]
  },
  {
   "cell_type": "code",
   "execution_count": 10,
   "metadata": {},
   "outputs": [
    {
     "data": {
      "text/plain": [
       "Text(0.5, 0, 'Date')"
      ]
     },
     "execution_count": 10,
     "metadata": {},
     "output_type": "execute_result"
    },
    {
     "data": {
      "image/png": "[encoded data removed]",
      "text/plain": [
       "<Figure size 720x504 with 1 Axes>"
      ]
     },
     "metadata": {
      "needs_background": "light"
     },
     "output_type": "display_data"
    }
   ],
   "source": [
    "plt.figure(figsize=(10,7))\n",
    "plt.plot(timesteps, btc_price)\n",
    "plt.ylabel(\"BTC Price\")\n",
    "plt.title(\"Price of Bitcoin form 1 Oct 2013 to 2022\", fontsize=16)\n",
    "plt.xlabel(\"Date\")"
   ]
  },
  {
   "cell_type": "code",
   "execution_count": 11,
   "metadata": {},
   "outputs": [],
   "source": [
    "## Create train and test sets of our time series data\n",
    "from sklearn.model_selection import train_test_split\n",
    "\n",
    "## Don't do naive train_test split!!! Temporal coherence will be affected.\n",
    "split_size = int(0.8 * len(df))"
   ]
  },
  {
   "cell_type": "code",
   "execution_count": 12,
   "metadata": {},
   "outputs": [],
   "source": [
    "X_train, y_train = timesteps[:split_size], btc_price[:split_size]\n",
    "X_test, y_test = timesteps[split_size:], btc_price[split_size:]"
   ]
  },
  {
   "cell_type": "code",
   "execution_count": 13,
   "metadata": {},
   "outputs": [
    {
     "data": {
      "image/png": "[encoded data removed]",
      "text/plain": [
       "<Figure size 720x504 with 1 Axes>"
      ]
     },
     "metadata": {
      "needs_background": "light"
     },
     "output_type": "display_data"
    }
   ],
   "source": [
    "plt.figure(figsize=(10,7))\n",
    "plt.scatter(X_train, y_train, s=5, label = \"Train data\")\n",
    "plt.scatter(X_test, y_test, s =5, label = \"Test data\")\n",
    "plt.xlabel(\"Date\")\n",
    "plt.ylabel(\"BTC Price\")\n",
    "plt.legend(fontsize=14)\n",
    "plt.show()"
   ]
  },
  {
   "cell_type": "code",
   "execution_count": 14,
   "metadata": {},
   "outputs": [],
   "source": [
    "# Create a function to plot time series data\n",
    "def plot_time_series(timesteps, values, format='.', start=0, end=None, label=None):\n",
    "  \"\"\"\n",
    "  Plots a timesteps (a series of points in time) against values (a series of values across timesteps).\n",
    "  \n",
    "  Parameters\n",
    "  ---------\n",
    "  timesteps : array of timesteps\n",
    "  values : array of values across time\n",
    "  format : style of plot, default \".\"\n",
    "  start : where to start the plot (setting a value will index from start of timesteps & values)\n",
    "  end : where to end the plot (setting a value will index from end of timesteps & values)\n",
    "  label : label to show on plot of values\n",
    "  \"\"\"\n",
    "  # Plot the series\n",
    "  plt.plot(timesteps[start:end], values[start:end], format, label=label)\n",
    "  plt.xlabel(\"Time\")\n",
    "  plt.ylabel(\"BTC Price\")\n",
    "  if label:\n",
    "    plt.legend(fontsize=14) # make label bigger\n",
    "  plt.grid(True)"
   ]
  },
  {
   "cell_type": "code",
   "execution_count": 15,
   "metadata": {},
   "outputs": [
    {
     "data": {
      "image/png": "[encoded data removed]",
      "text/plain": [
       "<Figure size 720x504 with 1 Axes>"
      ]
     },
     "metadata": {
      "needs_background": "light"
     },
     "output_type": "display_data"
    }
   ],
   "source": [
    "# Try out our plotting function\n",
    "plt.figure(figsize=(10, 7))\n",
    "plot_time_series(timesteps=X_train, values=y_train, label=\"Train data\")\n",
    "plot_time_series(timesteps=X_test, values=y_test, label=\"Test data\")"
   ]
  },
  {
   "cell_type": "code",
   "execution_count": 16,
   "metadata": {},
   "outputs": [],
   "source": [
    "naive_forecast = np.array(y_test[:-1])"
   ]
  },
  {
   "cell_type": "code",
   "execution_count": 17,
   "metadata": {},
   "outputs": [],
   "source": [
    "def MASE(y_true, y_pred):\n",
    "    '''\n",
    "    Mean Absolute Scaled Error implementation for use in tensorflow.\n",
    "\n",
    "    Assumes no seasonality.\n",
    "    '''\n",
    "\n",
    "    mae = tf.reduce_mean(tf.abs(y_true - y_pred))\n",
    "\n",
    "    # mae naive forecase no seasonality\n",
    "    mae_naive_ns = tf.reduce_mean(tf.abs(y_true[1:] - y_true[:-1]))\n",
    "\n",
    "    return mae / mae_naive_ns\n"
   ]
  },
  {
   "cell_type": "code",
   "execution_count": 18,
   "metadata": {},
   "outputs": [
    {
     "data": {
      "text/plain": [
       "0.998293997073448"
      ]
     },
     "execution_count": 18,
     "metadata": {},
     "output_type": "execute_result"
    }
   ],
   "source": [
    "MASE(y_true=np.array(y_test[1:]), y_pred=naive_forecast).numpy()"
   ]
  },
  {
   "cell_type": "code",
   "execution_count": 117,
   "metadata": {},
   "outputs": [],
   "source": [
    "def evaluate_preds(y_true, y_pred) -> dict:\n",
    "    '''\n",
    "\n",
    "\n",
    "    @warning Converts all datatypes to float32 when evaluating\n",
    "\n",
    "    '''\n",
    "    y_true = tf.cast(y_true, tf.float32)\n",
    "    y_pred = tf.cast(y_pred, tf.float32)\n",
    "\n",
    "    mae = tf.keras.metrics.mean_absolute_error(y_true, y_pred)\n",
    "    mse = tf.keras.metrics.mean_squared_error(y_true, y_pred)\n",
    "    rmse = tf.sqrt(mse)\n",
    "    mape = tf.keras.metrics.mean_absolute_percentage_error(y_true, y_pred)\n",
    "    mase = MASE(y_true, y_pred)\n",
    "\n",
    "    if mae.ndim > 0: # if mae isn't already a scalar, reduce it to one by aggregating tensors to mean\n",
    "        mae = tf.reduce_mean(mae)\n",
    "        mse = tf.reduce_mean(mse)\n",
    "        rmse = tf.reduce_mean(rmse)\n",
    "        mape = tf.reduce_mean(mape)\n",
    "        mase = tf.reduce_mean(mase)\n",
    "\n",
    "    return {\n",
    "        \"MAE\" : mae.numpy(),\n",
    "        \"MSE\" : mse.numpy(),\n",
    "        \"RSME\" : rmse.numpy(),\n",
    "        \"MAPE\" : mape.numpy(),\n",
    "        \"MASE\" : mase.numpy(),\n",
    "    }"
   ]
  },
  {
   "cell_type": "code",
   "execution_count": 122,
   "metadata": {},
   "outputs": [],
   "source": [
    "naive_res = evaluate_preds(y_true=y_test[1:], y_pred = naive_forecast)"
   ]
  },
  {
   "cell_type": "markdown",
   "metadata": {},
   "source": [
    "### Windowing our datasets - turning ts data into supervised learning"
   ]
  },
  {
   "cell_type": "code",
   "execution_count": 21,
   "metadata": {},
   "outputs": [],
   "source": [
    "HORIZON = 1\n",
    "WINDOW_SIZE = 7"
   ]
  },
  {
   "cell_type": "code",
   "execution_count": 22,
   "metadata": {},
   "outputs": [],
   "source": [
    "def get_labelled_window(x, horizon = HORIZON):\n",
    "    '''\n",
    "    Creates labels for windowed dataset\n",
    "\n",
    "    Input : [0,1,2,3,4,5,6,7]\n",
    "    '''\n",
    "    return x[:, :-horizon], x[:, -horizon:]"
   ]
  },
  {
   "cell_type": "code",
   "execution_count": 23,
   "metadata": {},
   "outputs": [
    {
     "data": {
      "text/plain": [
       "(<tf.Tensor: shape=(1, 7), dtype=int32, numpy=array([[1, 2, 3, 4, 5, 6, 7]])>,\n",
       " <tf.Tensor: shape=(1, 1), dtype=int32, numpy=array([[8]])>)"
      ]
     },
     "execution_count": 23,
     "metadata": {},
     "output_type": "execute_result"
    }
   ],
   "source": [
    "test_window, test_label = get_labelled_window(tf.expand_dims(tf.range(8) + 1, axis = 0))\n",
    "test_window, test_label"
   ]
  },
  {
   "cell_type": "code",
   "execution_count": 24,
   "metadata": {},
   "outputs": [],
   "source": [
    "def make_windows(x, window_size = WINDOW_SIZE, horizon = HORIZON):\n",
    "    '''\n",
    "    Turns a 1D array into a 2D array of sequential labelled windows of window_size with horizon size labels.\n",
    "    '''\n",
    "    # Create a nested window\n",
    "    window_step = np.expand_dims(np.arange(window_size+ horizon), axis= 0)\n",
    "\n",
    "    window_index = window_step + np.expand_dims(np.arange(len(x) - (window_size + horizon - 1)), axis=0).T\n",
    "\n",
    "    # Index on the target array\n",
    "    windowed_array = x[window_index]\n",
    "\n",
    "    # windows with labels\n",
    "    windows, labels = get_labelled_window(windowed_array, horizon=horizon)\n",
    "    return windows, labels\n"
   ]
  },
  {
   "cell_type": "code",
   "execution_count": 25,
   "metadata": {},
   "outputs": [
    {
     "data": {
      "text/plain": [
       "array([[0, 1, 2, 3, 4, 5, 6, 7]])"
      ]
     },
     "execution_count": 25,
     "metadata": {},
     "output_type": "execute_result"
    }
   ],
   "source": [
    "np.expand_dims(np.arange(8), axis = 0)"
   ]
  },
  {
   "cell_type": "code",
   "execution_count": 51,
   "metadata": {},
   "outputs": [
    {
     "data": {
      "text/plain": [
       "((2644, 7), (2644, 1))"
      ]
     },
     "execution_count": 51,
     "metadata": {},
     "output_type": "execute_result"
    }
   ],
   "source": [
    "windows, labels = make_windows(np.array(btc_price))\n",
    "windows.shape, labels.shape"
   ]
  },
  {
   "cell_type": "code",
   "execution_count": 27,
   "metadata": {},
   "outputs": [
    {
     "data": {
      "text/plain": [
       "324.467934"
      ]
     },
     "execution_count": 27,
     "metadata": {},
     "output_type": "execute_result"
    }
   ],
   "source": [
    "btc_price[0]"
   ]
  },
  {
   "cell_type": "code",
   "execution_count": 28,
   "metadata": {},
   "outputs": [
    {
     "data": {
      "text/plain": [
       "array([324.467934, 328.644408, 337.921358, 348.99286 , 341.459753,\n",
       "       344.745289, 357.239982])"
      ]
     },
     "execution_count": 28,
     "metadata": {},
     "output_type": "execute_result"
    }
   ],
   "source": [
    "windows[0]"
   ]
  },
  {
   "cell_type": "code",
   "execution_count": 29,
   "metadata": {},
   "outputs": [
    {
     "name": "stdout",
     "output_type": "stream",
     "text": [
      "Window : [324.467934 328.644408 337.921358 348.99286  341.459753 344.745289\n",
      " 357.239982] -> Label : [371.116917]\n",
      "Window : [328.644408 337.921358 348.99286  341.459753 344.745289 357.239982\n",
      " 371.116917] -> Label : [366.664633]\n",
      "Window : [337.921358 348.99286  341.459753 344.745289 357.239982 371.116917\n",
      " 366.664633] -> Label : [428.882925]\n"
     ]
    }
   ],
   "source": [
    "for i in range(3):\n",
    "    print(f\"Window : {windows[i]} -> Label : {labels[i]}\")"
   ]
  },
  {
   "cell_type": "code",
   "execution_count": 52,
   "metadata": {},
   "outputs": [],
   "source": [
    "def train_test_split_windows(windows, labels, test_split= 0.2):\n",
    "    '''\n",
    "    Splits matching pairs of windows and labels into train and test splits\n",
    "    '''\n",
    "\n",
    "    split_size = int(len(windows) * (1 - test_split))\n",
    "    train_windows = windows[:split_size]\n",
    "    train_labels = labels[:split_size]\n",
    "    test_windows = windows[split_size:]\n",
    "    test_labels = labels[split_size:]\n",
    "    return train_windows, train_labels, test_windows, test_labels"
   ]
  },
  {
   "cell_type": "code",
   "execution_count": 53,
   "metadata": {},
   "outputs": [],
   "source": [
    "train_windows, train_labels, test_windows, test_labels = train_test_split_windows(windows, labels)"
   ]
  },
  {
   "cell_type": "markdown",
   "metadata": {},
   "source": [
    "### Make a modelling checkpoint"
   ]
  },
  {
   "cell_type": "code",
   "execution_count": 54,
   "metadata": {},
   "outputs": [],
   "source": [
    "import os\n",
    "\n",
    "# Model checkpoint callback with a specific filename\n",
    "\n",
    "def checkpoint_cb( model_name, save_path = 'models'):\n",
    "    return tf.keras.callbacks.ModelCheckpoint(filepath=os.path.join(save_path, model_name), verbose=0, save_best_only=True)\n"
   ]
  },
  {
   "cell_type": "code",
   "execution_count": 55,
   "metadata": {},
   "outputs": [
    {
     "name": "stdout",
     "output_type": "stream",
     "text": [
      "Epoch 1/100\n",
      " 1/17 [>.............................] - ETA: 3s - loss: 2887.5535 - mae: 2887.5535 - mse: 14889796.0000INFO:tensorflow:Assets written to: models\\Basic_Regression\\assets\n",
      "17/17 [==============================] - 1s 23ms/step - loss: 1100.0088 - mae: 1100.0088 - mse: 3562633.0000 - val_loss: 4832.4214 - val_mae: 4832.4214 - val_mse: 35321380.0000\n",
      "Epoch 2/100\n",
      " 1/17 [>.............................] - ETA: 0s - loss: 480.1158 - mae: 480.1158 - mse: 581015.8750INFO:tensorflow:Assets written to: models\\Basic_Regression\\assets\n",
      "17/17 [==============================] - 0s 21ms/step - loss: 326.0253 - mae: 326.0253 - mse: 339046.6562 - val_loss: 1938.8119 - val_mae: 1938.8119 - val_mse: 7271532.5000\n",
      "Epoch 3/100\n",
      " 1/17 [>.............................] - ETA: 0s - loss: 258.6329 - mae: 258.6329 - mse: 226584.7812INFO:tensorflow:Assets written to: models\\Basic_Regression\\assets\n",
      "17/17 [==============================] - 0s 19ms/step - loss: 238.5033 - mae: 238.5033 - mse: 216512.0469 - val_loss: 1862.6833 - val_mae: 1862.6833 - val_mse: 6723281.0000\n",
      "Epoch 4/100\n",
      " 1/17 [>.............................] - ETA: 0s - loss: 221.6058 - mae: 221.6058 - mse: 200151.4688INFO:tensorflow:Assets written to: models\\Basic_Regression\\assets\n",
      "17/17 [==============================] - 0s 19ms/step - loss: 217.9016 - mae: 217.9016 - mse: 189999.0000 - val_loss: 1797.5853 - val_mae: 1797.5853 - val_mse: 6169264.5000\n",
      "Epoch 5/100\n",
      " 1/17 [>.............................] - ETA: 0s - loss: 236.4433 - mae: 236.4433 - mse: 233427.0312INFO:tensorflow:Assets written to: models\\Basic_Regression\\assets\n",
      "17/17 [==============================] - 0s 19ms/step - loss: 209.6864 - mae: 209.6864 - mse: 181247.8594 - val_loss: 1759.8129 - val_mae: 1759.8129 - val_mse: 5802266.0000\n",
      "Epoch 6/100\n",
      " 1/17 [>.............................] - ETA: 0s - loss: 172.5761 - mae: 172.5761 - mse: 122325.9141INFO:tensorflow:Assets written to: models\\Basic_Regression\\assets\n",
      "17/17 [==============================] - 1s 36ms/step - loss: 207.2642 - mae: 207.2642 - mse: 175999.5938 - val_loss: 1736.6100 - val_mae: 1736.6100 - val_mse: 5524972.5000\n",
      "Epoch 7/100\n",
      " 1/17 [>.............................] - ETA: 0s - loss: 236.9054 - mae: 236.9054 - mse: 174441.4375INFO:tensorflow:Assets written to: models\\Basic_Regression\\assets\n",
      "17/17 [==============================] - 0s 19ms/step - loss: 198.8942 - mae: 198.8942 - mse: 162395.4844 - val_loss: 1671.9849 - val_mae: 1671.9849 - val_mse: 5206596.0000\n",
      "Epoch 8/100\n",
      " 1/17 [>.............................] - ETA: 0s - loss: 179.4370 - mae: 179.4370 - mse: 257998.2656INFO:tensorflow:Assets written to: models\\Basic_Regression\\assets\n",
      "17/17 [==============================] - 0s 19ms/step - loss: 191.9970 - mae: 191.9970 - mse: 155308.6094 - val_loss: 1597.7091 - val_mae: 1597.7091 - val_mse: 4767023.5000\n",
      "Epoch 9/100\n",
      " 1/17 [>.............................] - ETA: 0s - loss: 239.1881 - mae: 239.1881 - mse: 370481.8750INFO:tensorflow:Assets written to: models\\Basic_Regression\\assets\n",
      "17/17 [==============================] - 0s 19ms/step - loss: 183.0917 - mae: 183.0917 - mse: 142734.1719 - val_loss: 1556.5275 - val_mae: 1556.5275 - val_mse: 4502266.0000\n",
      "Epoch 10/100\n",
      " 1/17 [>.............................] - ETA: 0s - loss: 155.4874 - mae: 155.4874 - mse: 96258.8750INFO:tensorflow:Assets written to: models\\Basic_Regression\\assets\n",
      "17/17 [==============================] - 0s 19ms/step - loss: 177.1573 - mae: 177.1573 - mse: 134641.3594 - val_loss: 1502.5200 - val_mae: 1502.5200 - val_mse: 4281372.0000\n",
      "Epoch 11/100\n",
      " 1/17 [>.............................] - ETA: 0s - loss: 131.7504 - mae: 131.7504 - mse: 69129.6953INFO:tensorflow:Assets written to: models\\Basic_Regression\\assets\n",
      "17/17 [==============================] - 0s 19ms/step - loss: 173.1776 - mae: 173.1776 - mse: 128734.8828 - val_loss: 1464.0345 - val_mae: 1464.0345 - val_mse: 4065034.2500\n",
      "Epoch 12/100\n",
      "17/17 [==============================] - 0s 2ms/step - loss: 168.8621 - mae: 168.8621 - mse: 119908.8359 - val_loss: 1477.6394 - val_mae: 1477.6394 - val_mse: 4344430.5000\n",
      "Epoch 13/100\n",
      " 1/17 [>.............................] - ETA: 0s - loss: 175.3227 - mae: 175.3227 - mse: 162061.0312INFO:tensorflow:Assets written to: models\\Basic_Regression\\assets\n",
      "17/17 [==============================] - 0s 19ms/step - loss: 167.2007 - mae: 167.2007 - mse: 118854.7031 - val_loss: 1435.6801 - val_mae: 1435.6801 - val_mse: 4110816.0000\n",
      "Epoch 14/100\n",
      " 1/17 [>.............................] - ETA: 0s - loss: 167.6595 - mae: 167.6595 - mse: 136108.3438INFO:tensorflow:Assets written to: models\\Basic_Regression\\assets\n",
      "17/17 [==============================] - 0s 19ms/step - loss: 161.7444 - mae: 161.7444 - mse: 115189.5859 - val_loss: 1372.5480 - val_mae: 1372.5480 - val_mse: 3614053.7500\n",
      "Epoch 15/100\n",
      " 1/17 [>.............................] - ETA: 0s - loss: 179.6233 - mae: 179.6233 - mse: 240010.7812INFO:tensorflow:Assets written to: models\\Basic_Regression\\assets\n",
      "17/17 [==============================] - 0s 19ms/step - loss: 156.9918 - mae: 156.9918 - mse: 109645.4922 - val_loss: 1353.1664 - val_mae: 1353.1664 - val_mse: 3524554.7500\n",
      "Epoch 16/100\n",
      " 1/17 [>.............................] - ETA: 0s - loss: 149.3721 - mae: 149.3721 - mse: 79354.5312INFO:tensorflow:Assets written to: models\\Basic_Regression\\assets\n",
      "17/17 [==============================] - 0s 19ms/step - loss: 154.7787 - mae: 154.7787 - mse: 107324.2969 - val_loss: 1322.7933 - val_mae: 1322.7933 - val_mse: 3477713.2500\n",
      "Epoch 17/100\n",
      "17/17 [==============================] - 0s 2ms/step - loss: 151.3074 - mae: 151.3074 - mse: 102843.6875 - val_loss: 1332.7867 - val_mae: 1332.7867 - val_mse: 3416255.7500\n",
      "Epoch 18/100\n",
      "17/17 [==============================] - 0s 2ms/step - loss: 153.8849 - mae: 153.8849 - mse: 103798.4062 - val_loss: 1338.2802 - val_mae: 1338.2802 - val_mse: 3609273.2500\n",
      "Epoch 19/100\n",
      " 1/17 [>.............................] - ETA: 0s - loss: 169.0337 - mae: 169.0337 - mse: 162950.4688INFO:tensorflow:Assets written to: models\\Basic_Regression\\assets\n",
      "17/17 [==============================] - 0s 19ms/step - loss: 153.2554 - mae: 153.2554 - mse: 102605.8047 - val_loss: 1283.9106 - val_mae: 1283.9106 - val_mse: 3306646.5000\n",
      "Epoch 20/100\n",
      "17/17 [==============================] - 0s 2ms/step - loss: 153.9077 - mae: 153.9077 - mse: 102811.9141 - val_loss: 1350.1631 - val_mae: 1350.1631 - val_mse: 3435702.7500\n",
      "Epoch 21/100\n",
      " 1/17 [>.............................] - ETA: 0s - loss: 164.2326 - mae: 164.2326 - mse: 94429.6250INFO:tensorflow:Assets written to: models\\Basic_Regression\\assets\n",
      "17/17 [==============================] - 0s 19ms/step - loss: 149.0597 - mae: 149.0597 - mse: 99317.6094 - val_loss: 1269.5768 - val_mae: 1269.5768 - val_mse: 3221166.7500\n",
      "Epoch 22/100\n",
      " 1/17 [>.............................] - ETA: 0s - loss: 149.9391 - mae: 149.9391 - mse: 82166.7266INFO:tensorflow:Assets written to: models\\Basic_Regression\\assets\n",
      "17/17 [==============================] - 0s 19ms/step - loss: 147.3143 - mae: 147.3143 - mse: 98465.0469 - val_loss: 1264.8407 - val_mae: 1264.8407 - val_mse: 3192708.0000\n",
      "Epoch 23/100\n",
      "17/17 [==============================] - 0s 2ms/step - loss: 148.8669 - mae: 148.8669 - mse: 99371.8828 - val_loss: 1281.2993 - val_mae: 1281.2993 - val_mse: 3339289.5000\n",
      "Epoch 24/100\n",
      " 1/17 [>.............................] - ETA: 0s - loss: 115.2026 - mae: 115.2026 - mse: 51699.9609INFO:tensorflow:Assets written to: models\\Basic_Regression\\assets\n",
      "17/17 [==============================] - 0s 19ms/step - loss: 145.2228 - mae: 145.2228 - mse: 95431.9766 - val_loss: 1249.4242 - val_mae: 1249.4242 - val_mse: 3162298.2500\n",
      "Epoch 25/100\n",
      " 1/17 [>.............................] - ETA: 0s - loss: 137.5238 - mae: 137.5238 - mse: 78049.4844INFO:tensorflow:Assets written to: models\\Basic_Regression\\assets\n",
      "17/17 [==============================] - 0s 19ms/step - loss: 144.6646 - mae: 144.6646 - mse: 95354.7969 - val_loss: 1245.0958 - val_mae: 1245.0958 - val_mse: 3129555.5000\n",
      "Epoch 26/100\n",
      "17/17 [==============================] - 0s 2ms/step - loss: 145.2990 - mae: 145.2990 - mse: 96702.6094 - val_loss: 1256.2775 - val_mae: 1256.2775 - val_mse: 3226755.2500\n",
      "Epoch 27/100\n",
      "17/17 [==============================] - 0s 2ms/step - loss: 144.8088 - mae: 144.8088 - mse: 94450.2891 - val_loss: 1247.9430 - val_mae: 1247.9430 - val_mse: 3106416.0000\n",
      "Epoch 28/100\n",
      "17/17 [==============================] - 0s 2ms/step - loss: 143.5622 - mae: 143.5622 - mse: 94440.3047 - val_loss: 1263.2506 - val_mae: 1263.2506 - val_mse: 3266166.7500\n",
      "Epoch 29/100\n",
      " 1/17 [>.............................] - ETA: 0s - loss: 188.1716 - mae: 188.1716 - mse: 187246.2188INFO:tensorflow:Assets written to: models\\Basic_Regression\\assets\n",
      "17/17 [==============================] - 0s 19ms/step - loss: 145.0703 - mae: 145.0703 - mse: 94538.9219 - val_loss: 1233.2272 - val_mae: 1233.2272 - val_mse: 3064966.2500\n",
      "Epoch 30/100\n",
      " 1/17 [>.............................] - ETA: 0s - loss: 169.6327 - mae: 169.6327 - mse: 122043.3594INFO:tensorflow:Assets written to: models\\Basic_Regression\\assets\n",
      "17/17 [==============================] - 0s 19ms/step - loss: 145.1772 - mae: 145.1772 - mse: 93205.6172 - val_loss: 1224.8976 - val_mae: 1224.8976 - val_mse: 3050499.7500\n",
      "Epoch 31/100\n",
      "17/17 [==============================] - 0s 2ms/step - loss: 145.2660 - mae: 145.2660 - mse: 95290.3750 - val_loss: 1229.0269 - val_mae: 1229.0269 - val_mse: 3043492.0000\n",
      "Epoch 32/100\n",
      " 1/17 [>.............................] - ETA: 0s - loss: 183.0150 - mae: 183.0150 - mse: 113587.8359INFO:tensorflow:Assets written to: models\\Basic_Regression\\assets\n",
      "17/17 [==============================] - 0s 19ms/step - loss: 144.4902 - mae: 144.4902 - mse: 93946.7109 - val_loss: 1217.0050 - val_mae: 1217.0050 - val_mse: 3039840.0000\n",
      "Epoch 33/100\n",
      " 1/17 [>.............................] - ETA: 0s - loss: 160.8796 - mae: 160.8796 - mse: 121879.4688INFO:tensorflow:Assets written to: models\\Basic_Regression\\assets\n",
      "17/17 [==============================] - 0s 20ms/step - loss: 140.9361 - mae: 140.9361 - mse: 90534.8203 - val_loss: 1214.5574 - val_mae: 1214.5574 - val_mse: 3013901.2500\n",
      "Epoch 34/100\n",
      "17/17 [==============================] - 0s 2ms/step - loss: 141.4242 - mae: 141.4242 - mse: 91378.6484 - val_loss: 1254.8671 - val_mae: 1254.8671 - val_mse: 3227164.0000\n",
      "Epoch 35/100\n",
      "17/17 [==============================] - 0s 2ms/step - loss: 142.7932 - mae: 142.7932 - mse: 91201.2031 - val_loss: 1242.3945 - val_mae: 1242.3945 - val_mse: 3057855.5000\n",
      "Epoch 36/100\n",
      "17/17 [==============================] - 0s 2ms/step - loss: 142.6788 - mae: 142.6788 - mse: 90644.3672 - val_loss: 1220.2126 - val_mae: 1220.2126 - val_mse: 3085187.2500\n",
      "Epoch 37/100\n",
      "17/17 [==============================] - 0s 2ms/step - loss: 140.6822 - mae: 140.6822 - mse: 90400.6094 - val_loss: 1227.1687 - val_mae: 1227.1687 - val_mse: 3013656.0000\n",
      "Epoch 38/100\n",
      " 1/17 [>.............................] - ETA: 0s - loss: 157.0331 - mae: 157.0331 - mse: 126925.0000INFO:tensorflow:Assets written to: models\\Basic_Regression\\assets\n",
      "17/17 [==============================] - 0s 19ms/step - loss: 139.2202 - mae: 139.2202 - mse: 89063.1484 - val_loss: 1214.2247 - val_mae: 1214.2247 - val_mse: 3061598.7500\n",
      "Epoch 39/100\n",
      " 1/17 [>.............................] - ETA: 0s - loss: 100.0414 - mae: 100.0414 - mse: 48183.9453INFO:tensorflow:Assets written to: models\\Basic_Regression\\assets\n",
      "17/17 [==============================] - 0s 19ms/step - loss: 141.1915 - mae: 141.1915 - mse: 89097.6875 - val_loss: 1205.9772 - val_mae: 1205.9772 - val_mse: 3028169.0000\n",
      "Epoch 40/100\n",
      "17/17 [==============================] - 0s 2ms/step - loss: 140.2305 - mae: 140.2305 - mse: 90272.2578 - val_loss: 1210.4696 - val_mae: 1210.4696 - val_mse: 2969456.7500\n",
      "Epoch 41/100\n",
      " 1/17 [>.............................] - ETA: 0s - loss: 144.1943 - mae: 144.1943 - mse: 96643.6953INFO:tensorflow:Assets written to: models\\Basic_Regression\\assets\n",
      "17/17 [==============================] - 0s 19ms/step - loss: 140.7156 - mae: 140.7156 - mse: 90302.2812 - val_loss: 1190.8586 - val_mae: 1190.8586 - val_mse: 2947143.2500\n",
      "Epoch 42/100\n",
      "17/17 [==============================] - 0s 2ms/step - loss: 137.1881 - mae: 137.1881 - mse: 87136.0078 - val_loss: 1223.5610 - val_mae: 1223.5610 - val_mse: 2991205.2500\n",
      "Epoch 43/100\n",
      "17/17 [==============================] - 0s 2ms/step - loss: 137.4839 - mae: 137.4839 - mse: 87961.3750 - val_loss: 1192.3264 - val_mae: 1192.3264 - val_mse: 2975102.0000\n",
      "Epoch 44/100\n",
      " 1/17 [>.............................] - ETA: 0s - loss: 120.9327 - mae: 120.9327 - mse: 52985.2227INFO:tensorflow:Assets written to: models\\Basic_Regression\\assets\n",
      "17/17 [==============================] - 0s 19ms/step - loss: 137.6774 - mae: 137.6774 - mse: 88068.9766 - val_loss: 1186.4855 - val_mae: 1186.4855 - val_mse: 2918501.0000\n",
      "Epoch 45/100\n",
      "17/17 [==============================] - 0s 2ms/step - loss: 149.1908 - mae: 149.1908 - mse: 94516.7734 - val_loss: 1195.9091 - val_mae: 1195.9091 - val_mse: 2926036.0000\n",
      "Epoch 46/100\n",
      "17/17 [==============================] - 0s 2ms/step - loss: 137.7889 - mae: 137.7889 - mse: 87056.9453 - val_loss: 1239.6759 - val_mae: 1239.6759 - val_mse: 3148561.0000\n",
      "Epoch 47/100\n",
      "17/17 [==============================] - 0s 2ms/step - loss: 144.2467 - mae: 144.2467 - mse: 93770.3594 - val_loss: 1238.7310 - val_mae: 1238.7310 - val_mse: 3024261.2500\n",
      "Epoch 48/100\n",
      "17/17 [==============================] - 0s 2ms/step - loss: 145.5402 - mae: 145.5402 - mse: 91261.7812 - val_loss: 1266.5190 - val_mae: 1266.5190 - val_mse: 3251128.7500\n",
      "Epoch 49/100\n",
      " 1/17 [>.............................] - ETA: 0s - loss: 140.0802 - mae: 140.0802 - mse: 65199.1641INFO:tensorflow:Assets written to: models\\Basic_Regression\\assets\n",
      "17/17 [==============================] - 0s 19ms/step - loss: 140.5540 - mae: 140.5540 - mse: 88150.4219 - val_loss: 1173.8748 - val_mae: 1173.8748 - val_mse: 2894586.2500\n",
      "Epoch 50/100\n",
      "17/17 [==============================] - 0s 2ms/step - loss: 139.4987 - mae: 139.4987 - mse: 86102.8828 - val_loss: 1216.1863 - val_mae: 1216.1863 - val_mse: 3058416.7500\n",
      "Epoch 51/100\n",
      "17/17 [==============================] - 0s 2ms/step - loss: 143.5760 - mae: 143.5760 - mse: 88443.8516 - val_loss: 1202.7545 - val_mae: 1202.7545 - val_mse: 2926406.7500\n",
      "Epoch 52/100\n",
      "17/17 [==============================] - 0s 2ms/step - loss: 137.3636 - mae: 137.3636 - mse: 84436.3672 - val_loss: 1187.4672 - val_mae: 1187.4672 - val_mse: 2955236.5000\n",
      "Epoch 53/100\n",
      "17/17 [==============================] - 0s 2ms/step - loss: 138.8073 - mae: 138.8073 - mse: 85644.7969 - val_loss: 1285.1787 - val_mae: 1285.1787 - val_mse: 3169237.0000\n",
      "Epoch 54/100\n",
      "17/17 [==============================] - 0s 2ms/step - loss: 141.0556 - mae: 141.0556 - mse: 89139.4062 - val_loss: 1180.2330 - val_mae: 1180.2330 - val_mse: 2929822.2500\n",
      "Epoch 55/100\n",
      " 1/17 [>.............................] - ETA: 0s - loss: 161.7261 - mae: 161.7261 - mse: 127429.7109INFO:tensorflow:Assets written to: models\\Basic_Regression\\assets\n",
      "17/17 [==============================] - 0s 19ms/step - loss: 139.7080 - mae: 139.7080 - mse: 89632.3750 - val_loss: 1171.3090 - val_mae: 1171.3090 - val_mse: 2897711.0000\n",
      "Epoch 56/100\n",
      " 1/17 [>.............................] - ETA: 0s - loss: 128.4098 - mae: 128.4098 - mse: 62673.2070INFO:tensorflow:Assets written to: models\\Basic_Regression\\assets\n",
      "17/17 [==============================] - 0s 19ms/step - loss: 137.7280 - mae: 137.7280 - mse: 85759.8906 - val_loss: 1167.3553 - val_mae: 1167.3553 - val_mse: 2884312.2500\n",
      "Epoch 57/100\n",
      " 1/17 [>.............................] - ETA: 0s - loss: 115.2193 - mae: 115.2193 - mse: 51403.1172INFO:tensorflow:Assets written to: models\\Basic_Regression\\assets\n",
      "17/17 [==============================] - 0s 19ms/step - loss: 138.4172 - mae: 138.4172 - mse: 87486.4688 - val_loss: 1165.7684 - val_mae: 1165.7684 - val_mse: 2858905.5000\n",
      "Epoch 58/100\n",
      "17/17 [==============================] - 0s 2ms/step - loss: 139.5711 - mae: 139.5711 - mse: 86207.4531 - val_loss: 1284.6182 - val_mae: 1284.6182 - val_mse: 3168568.2500\n",
      "Epoch 59/100\n",
      "17/17 [==============================] - 0s 2ms/step - loss: 137.4915 - mae: 137.4915 - mse: 86821.5859 - val_loss: 1167.6244 - val_mae: 1167.6244 - val_mse: 2885756.0000\n",
      "Epoch 60/100\n",
      "17/17 [==============================] - 0s 2ms/step - loss: 137.4839 - mae: 137.4839 - mse: 86542.3125 - val_loss: 1216.8805 - val_mae: 1216.8805 - val_mse: 3051518.7500\n",
      "Epoch 61/100\n",
      "17/17 [==============================] - 0s 2ms/step - loss: 138.7612 - mae: 138.7612 - mse: 85837.2578 - val_loss: 1188.8071 - val_mae: 1188.8071 - val_mse: 2954784.2500\n",
      "Epoch 62/100\n",
      "17/17 [==============================] - 0s 2ms/step - loss: 137.6039 - mae: 137.6039 - mse: 86945.5625 - val_loss: 1200.6973 - val_mae: 1200.6973 - val_mse: 2911490.7500\n",
      "Epoch 63/100\n",
      "17/17 [==============================] - 0s 2ms/step - loss: 137.7038 - mae: 137.7038 - mse: 85061.7500 - val_loss: 1183.5376 - val_mae: 1183.5376 - val_mse: 2936461.5000\n",
      "Epoch 64/100\n",
      " 1/17 [>.............................] - ETA: 0s - loss: 133.5981 - mae: 133.5981 - mse: 56673.2422INFO:tensorflow:Assets written to: models\\Basic_Regression\\assets\n",
      "17/17 [==============================] - 0s 22ms/step - loss: 137.7446 - mae: 137.7446 - mse: 86433.8125 - val_loss: 1163.1316 - val_mae: 1163.1316 - val_mse: 2869422.2500\n",
      "Epoch 65/100\n",
      "17/17 [==============================] - 0s 2ms/step - loss: 135.6216 - mae: 135.6216 - mse: 84227.1797 - val_loss: 1174.5527 - val_mae: 1174.5527 - val_mse: 2855044.0000\n",
      "Epoch 66/100\n",
      "17/17 [==============================] - 0s 2ms/step - loss: 135.2639 - mae: 135.2639 - mse: 84476.3594 - val_loss: 1198.7582 - val_mae: 1198.7582 - val_mse: 2905013.2500\n",
      "Epoch 67/100\n",
      "17/17 [==============================] - 0s 2ms/step - loss: 137.4402 - mae: 137.4402 - mse: 85881.8438 - val_loss: 1198.7954 - val_mae: 1198.7954 - val_mse: 2986088.5000\n",
      "Epoch 68/100\n",
      "17/17 [==============================] - 0s 2ms/step - loss: 138.1136 - mae: 138.1136 - mse: 85909.9375 - val_loss: 1182.5857 - val_mae: 1182.5857 - val_mse: 2867758.5000\n",
      "Epoch 69/100\n",
      "17/17 [==============================] - 0s 2ms/step - loss: 134.9343 - mae: 134.9343 - mse: 84021.6094 - val_loss: 1215.6560 - val_mae: 1215.6560 - val_mse: 3042528.5000\n",
      "Epoch 70/100\n",
      " 1/17 [>.............................] - ETA: 0s - loss: 109.9536 - mae: 109.9536 - mse: 59806.5781INFO:tensorflow:Assets written to: models\\Basic_Regression\\assets\n",
      "17/17 [==============================] - 0s 19ms/step - loss: 136.1590 - mae: 136.1590 - mse: 83648.6328 - val_loss: 1161.7458 - val_mae: 1161.7458 - val_mse: 2832334.7500\n",
      "Epoch 71/100\n",
      "17/17 [==============================] - 0s 2ms/step - loss: 134.1623 - mae: 134.1623 - mse: 84342.9141 - val_loss: 1200.2009 - val_mae: 1200.2009 - val_mse: 2989144.7500\n",
      "Epoch 72/100\n",
      "17/17 [==============================] - 0s 2ms/step - loss: 133.5909 - mae: 133.5909 - mse: 83178.6719 - val_loss: 1178.3068 - val_mae: 1178.3068 - val_mse: 2857181.7500\n",
      "Epoch 73/100\n",
      "17/17 [==============================] - 0s 2ms/step - loss: 136.0924 - mae: 136.0924 - mse: 83541.5781 - val_loss: 1201.5133 - val_mae: 1201.5133 - val_mse: 2993297.5000\n",
      "Epoch 74/100\n",
      "17/17 [==============================] - 0s 2ms/step - loss: 138.5354 - mae: 138.5354 - mse: 87112.5547 - val_loss: 1177.9244 - val_mae: 1177.9244 - val_mse: 2854854.2500\n",
      "Epoch 75/100\n",
      "17/17 [==============================] - 0s 2ms/step - loss: 133.1730 - mae: 133.1730 - mse: 82610.0859 - val_loss: 1177.0339 - val_mae: 1177.0339 - val_mse: 2852087.5000\n",
      "Epoch 76/100\n",
      "17/17 [==============================] - 0s 2ms/step - loss: 136.3862 - mae: 136.3862 - mse: 84007.8047 - val_loss: 1179.5499 - val_mae: 1179.5499 - val_mse: 2917643.7500\n",
      "Epoch 77/100\n",
      "17/17 [==============================] - 0s 2ms/step - loss: 133.4189 - mae: 133.4189 - mse: 82847.4062 - val_loss: 1180.7435 - val_mae: 1180.7435 - val_mse: 2858711.5000\n",
      "Epoch 78/100\n",
      "17/17 [==============================] - 0s 2ms/step - loss: 135.1774 - mae: 135.1774 - mse: 84386.9609 - val_loss: 1216.2390 - val_mae: 1216.2390 - val_mse: 2951514.0000\n",
      "Epoch 79/100\n",
      "17/17 [==============================] - 0s 2ms/step - loss: 134.2957 - mae: 134.2957 - mse: 82071.7109 - val_loss: 1211.8495 - val_mae: 1211.8495 - val_mse: 3024365.2500\n",
      "Epoch 80/100\n",
      " 1/17 [>.............................] - ETA: 0s - loss: 117.2368 - mae: 117.2368 - mse: 52591.3672INFO:tensorflow:Assets written to: models\\Basic_Regression\\assets\n",
      "17/17 [==============================] - 1s 38ms/step - loss: 138.4166 - mae: 138.4166 - mse: 84778.9531 - val_loss: 1154.3478 - val_mae: 1154.3478 - val_mse: 2831816.7500\n",
      "Epoch 81/100\n",
      "17/17 [==============================] - 0s 2ms/step - loss: 134.0037 - mae: 134.0037 - mse: 83089.4766 - val_loss: 1156.9806 - val_mae: 1156.9806 - val_mse: 2840927.5000\n",
      "Epoch 82/100\n",
      "17/17 [==============================] - 0s 2ms/step - loss: 133.2936 - mae: 133.2936 - mse: 81893.0078 - val_loss: 1161.0953 - val_mae: 1161.0953 - val_mse: 2819268.5000\n",
      "Epoch 83/100\n",
      "17/17 [==============================] - 0s 2ms/step - loss: 133.9187 - mae: 133.9187 - mse: 82944.4609 - val_loss: 1158.1207 - val_mae: 1158.1207 - val_mse: 2843879.0000\n",
      "Epoch 84/100\n",
      "17/17 [==============================] - 0s 2ms/step - loss: 136.1581 - mae: 136.1581 - mse: 85319.9922 - val_loss: 1248.9554 - val_mae: 1248.9554 - val_mse: 3159199.7500\n",
      "Epoch 85/100\n",
      "17/17 [==============================] - 0s 2ms/step - loss: 141.1752 - mae: 141.1752 - mse: 85738.6406 - val_loss: 1178.5933 - val_mae: 1178.5933 - val_mse: 2910859.7500\n",
      "Epoch 86/100\n",
      "17/17 [==============================] - 0s 2ms/step - loss: 134.3971 - mae: 134.3971 - mse: 83346.8125 - val_loss: 1173.8964 - val_mae: 1173.8964 - val_mse: 2840531.5000\n",
      "Epoch 87/100\n",
      "17/17 [==============================] - 0s 2ms/step - loss: 138.6716 - mae: 138.6716 - mse: 85438.7969 - val_loss: 1299.0344 - val_mae: 1299.0344 - val_mse: 3354265.2500\n",
      "Epoch 88/100\n",
      " 1/17 [>.............................] - ETA: 0s - loss: 126.6734 - mae: 126.6734 - mse: 59464.5625INFO:tensorflow:Assets written to: models\\Basic_Regression\\assets\n",
      "17/17 [==============================] - 0s 18ms/step - loss: 144.0350 - mae: 144.0350 - mse: 85832.5312 - val_loss: 1148.0674 - val_mae: 1148.0674 - val_mse: 2798140.2500\n",
      "Epoch 89/100\n",
      "17/17 [==============================] - 0s 2ms/step - loss: 134.4126 - mae: 134.4126 - mse: 83118.4688 - val_loss: 1178.6228 - val_mae: 1178.6228 - val_mse: 2850672.5000\n",
      "Epoch 90/100\n",
      "17/17 [==============================] - 0s 2ms/step - loss: 135.9302 - mae: 135.9302 - mse: 84471.6719 - val_loss: 1149.1436 - val_mae: 1149.1436 - val_mse: 2806135.0000\n",
      "Epoch 91/100\n",
      "17/17 [==============================] - 0s 2ms/step - loss: 132.7269 - mae: 132.7269 - mse: 81690.2266 - val_loss: 1152.5922 - val_mae: 1152.5922 - val_mse: 2800297.7500\n",
      "Epoch 92/100\n",
      "17/17 [==============================] - 0s 2ms/step - loss: 138.0502 - mae: 138.0502 - mse: 83817.1641 - val_loss: 1210.9938 - val_mae: 1210.9938 - val_mse: 2935016.5000\n",
      "Epoch 93/100\n",
      "17/17 [==============================] - 0s 2ms/step - loss: 136.2990 - mae: 136.2990 - mse: 83977.4609 - val_loss: 1154.4585 - val_mae: 1154.4585 - val_mse: 2827028.0000\n",
      "Epoch 94/100\n",
      " 1/17 [>.............................] - ETA: 0s - loss: 166.3980 - mae: 166.3980 - mse: 150132.7812INFO:tensorflow:Assets written to: models\\Basic_Regression\\assets\n",
      "17/17 [==============================] - 0s 19ms/step - loss: 145.7048 - mae: 145.7048 - mse: 88719.6953 - val_loss: 1147.9894 - val_mae: 1147.9894 - val_mse: 2799419.2500\n",
      "Epoch 95/100\n",
      "17/17 [==============================] - 0s 2ms/step - loss: 135.4870 - mae: 135.4870 - mse: 84201.3906 - val_loss: 1172.7299 - val_mae: 1172.7299 - val_mse: 2835702.2500\n",
      "Epoch 96/100\n",
      "17/17 [==============================] - 0s 2ms/step - loss: 134.1915 - mae: 134.1915 - mse: 82612.3438 - val_loss: 1171.4586 - val_mae: 1171.4586 - val_mse: 2832420.2500\n",
      "Epoch 97/100\n",
      " 1/17 [>.............................] - ETA: 0s - loss: 118.9392 - mae: 118.9392 - mse: 63405.0156INFO:tensorflow:Assets written to: models\\Basic_Regression\\assets\n",
      "17/17 [==============================] - 0s 18ms/step - loss: 133.4753 - mae: 133.4753 - mse: 82279.9922 - val_loss: 1146.1454 - val_mae: 1146.1454 - val_mse: 2788494.7500\n",
      "Epoch 98/100\n",
      "17/17 [==============================] - 0s 2ms/step - loss: 132.3125 - mae: 132.3125 - mse: 81229.1328 - val_loss: 1146.7180 - val_mae: 1146.7180 - val_mse: 2786954.7500\n",
      "Epoch 99/100\n",
      "17/17 [==============================] - 0s 2ms/step - loss: 134.2297 - mae: 134.2297 - mse: 82210.7891 - val_loss: 1172.5747 - val_mae: 1172.5747 - val_mse: 2885879.7500\n",
      "Epoch 100/100\n",
      "17/17 [==============================] - 0s 2ms/step - loss: 136.5226 - mae: 136.5226 - mse: 83922.4297 - val_loss: 1272.8016 - val_mae: 1272.8016 - val_mse: 3129840.5000\n"
     ]
    },
    {
     "data": {
      "text/plain": [
       "<keras.callbacks.History at 0x2125b0b59a0>"
      ]
     },
     "execution_count": 55,
     "metadata": {},
     "output_type": "execute_result"
    }
   ],
   "source": [
    "### Basic Linear Regression model\n",
    "from tensorflow.keras import layers\n",
    "tf.random.set_seed(42)\n",
    "\n",
    "model1 = tf.keras.Sequential([\n",
    "    layers.Dense(128, activation='relu'),\n",
    "    layers.Dense(HORIZON, activation='linear') # no activatoin\n",
    "], name = 'Basic_Regression')\n",
    "\n",
    "model1.compile(loss = \"mae\", optimizer = tf.keras.optimizers.Adam(), metrics=[\"mae\", \"mse\"])\n",
    "\n",
    "model1.fit(\n",
    "    x = train_windows, \n",
    "    y = train_labels, \n",
    "    epochs=100, \n",
    "    verbose = 1,\n",
    "    batch_size=128, \n",
    "    validation_data = (test_windows, test_labels), \n",
    "    callbacks=  [checkpoint_cb(model_name=model1.name)])"
   ]
  },
  {
   "cell_type": "code",
   "execution_count": 56,
   "metadata": {},
   "outputs": [
    {
     "name": "stdout",
     "output_type": "stream",
     "text": [
      "17/17 [==============================] - 0s 625us/step - loss: 1272.8014 - mae: 1272.8014 - mse: 3129840.5000\n"
     ]
    },
    {
     "data": {
      "text/plain": [
       "[1272.8013916015625, 1272.8013916015625, 3129840.5]"
      ]
     },
     "execution_count": 56,
     "metadata": {},
     "output_type": "execute_result"
    }
   ],
   "source": [
    "model1.evaluate(test_windows, test_labels)"
   ]
  },
  {
   "cell_type": "code",
   "execution_count": 57,
   "metadata": {},
   "outputs": [],
   "source": [
    "model1 = tf.keras.models.load_model('models/Basic_Regression')"
   ]
  },
  {
   "cell_type": "code",
   "execution_count": 58,
   "metadata": {},
   "outputs": [
    {
     "name": "stdout",
     "output_type": "stream",
     "text": [
      "17/17 [==============================] - 0s 625us/step - loss: 1146.1456 - mae: 1146.1456 - mse: 2788494.7500\n"
     ]
    },
    {
     "data": {
      "text/plain": [
       "[1146.1456298828125, 1146.1456298828125, 2788494.75]"
      ]
     },
     "execution_count": 58,
     "metadata": {},
     "output_type": "execute_result"
    }
   ],
   "source": [
    "model1.evaluate(test_windows, test_labels)"
   ]
  },
  {
   "cell_type": "code",
   "execution_count": 59,
   "metadata": {},
   "outputs": [],
   "source": [
    "def make_preds(model, input_data):\n",
    "    forecast = model.predict(input_data)\n",
    "    return tf.squeeze(forecast)"
   ]
  },
  {
   "cell_type": "code",
   "execution_count": 60,
   "metadata": {},
   "outputs": [],
   "source": [
    "model_preds = make_preds(model1, test_windows)"
   ]
  },
  {
   "cell_type": "code",
   "execution_count": 61,
   "metadata": {},
   "outputs": [],
   "source": [
    "model_res = evaluate_preds(y_true=tf.squeeze(test_labels), y_pred = model_preds)"
   ]
  },
  {
   "cell_type": "code",
   "execution_count": 64,
   "metadata": {},
   "outputs": [
    {
     "data": {
      "text/plain": [
       "{'MAE': 1146.1455,\n",
       " 'MSE': 2788495.0,\n",
       " 'RSME': 1669.8788,\n",
       " 'MAPE': 2.8602996,\n",
       " 'MASE': 1.0055571}"
      ]
     },
     "execution_count": 64,
     "metadata": {},
     "output_type": "execute_result"
    }
   ],
   "source": [
    "model_res"
   ]
  },
  {
   "cell_type": "code",
   "execution_count": 66,
   "metadata": {},
   "outputs": [
    {
     "data": {
      "image/png": "[encoded data removed]",
      "text/plain": [
       "<Figure size 720x504 with 1 Axes>"
      ]
     },
     "metadata": {
      "needs_background": "light"
     },
     "output_type": "display_data"
    }
   ],
   "source": [
    "offset = 300\n",
    "plt.figure(figsize=(10, 7))\n",
    "# Account for the test_window offset and index into test_labels to ensure correct plotting\n",
    "plot_time_series(timesteps=X_test[-len(test_windows):], values=test_labels[:, 0], start=offset, label=\"Test_data\")\n",
    "plot_time_series(timesteps=X_test[-len(test_windows):], values=model_preds, start=offset, format=\"-\", label=\"model_1_preds\")"
   ]
  },
  {
   "cell_type": "code",
   "execution_count": 67,
   "metadata": {},
   "outputs": [],
   "source": [
    "HORIZON = 1\n",
    "WINDOW_SIZE = 30\n",
    "\n",
    "windows, labels = make_windows(np.array(btc_price), horizon=HORIZON, window_size=WINDOW_SIZE)"
   ]
  },
  {
   "cell_type": "code",
   "execution_count": 68,
   "metadata": {},
   "outputs": [
    {
     "data": {
      "text/plain": [
       "(2621, 30)"
      ]
     },
     "execution_count": 68,
     "metadata": {},
     "output_type": "execute_result"
    }
   ],
   "source": [
    "windows.shape"
   ]
  },
  {
   "cell_type": "code",
   "execution_count": 69,
   "metadata": {},
   "outputs": [
    {
     "data": {
      "text/plain": [
       "(2621, 1)"
      ]
     },
     "execution_count": 69,
     "metadata": {},
     "output_type": "execute_result"
    }
   ],
   "source": [
    "labels.shape"
   ]
  },
  {
   "cell_type": "code",
   "execution_count": 70,
   "metadata": {},
   "outputs": [],
   "source": [
    "train_windows, train_labels, test_windows, test_labels = train_test_split_windows(windows, labels)"
   ]
  },
  {
   "cell_type": "code",
   "execution_count": 71,
   "metadata": {},
   "outputs": [
    {
     "data": {
      "text/plain": [
       "((2096, 30), (2096, 1), (525, 30), (525, 1))"
      ]
     },
     "execution_count": 71,
     "metadata": {},
     "output_type": "execute_result"
    }
   ],
   "source": [
    "train_windows.shape, train_labels.shape, test_windows.shape, test_labels.shape, "
   ]
  },
  {
   "cell_type": "code",
   "execution_count": 73,
   "metadata": {},
   "outputs": [
    {
     "name": "stdout",
     "output_type": "stream",
     "text": [
      "INFO:tensorflow:Assets written to: models\\Basic_Regression_One_month\\assets\n",
      "INFO:tensorflow:Assets written to: models\\Basic_Regression_One_month\\assets\n",
      "INFO:tensorflow:Assets written to: models\\Basic_Regression_One_month\\assets\n",
      "INFO:tensorflow:Assets written to: models\\Basic_Regression_One_month\\assets\n",
      "INFO:tensorflow:Assets written to: models\\Basic_Regression_One_month\\assets\n",
      "INFO:tensorflow:Assets written to: models\\Basic_Regression_One_month\\assets\n",
      "INFO:tensorflow:Assets written to: models\\Basic_Regression_One_month\\assets\n",
      "INFO:tensorflow:Assets written to: models\\Basic_Regression_One_month\\assets\n",
      "INFO:tensorflow:Assets written to: models\\Basic_Regression_One_month\\assets\n",
      "INFO:tensorflow:Assets written to: models\\Basic_Regression_One_month\\assets\n",
      "INFO:tensorflow:Assets written to: models\\Basic_Regression_One_month\\assets\n",
      "INFO:tensorflow:Assets written to: models\\Basic_Regression_One_month\\assets\n",
      "INFO:tensorflow:Assets written to: models\\Basic_Regression_One_month\\assets\n",
      "INFO:tensorflow:Assets written to: models\\Basic_Regression_One_month\\assets\n",
      "INFO:tensorflow:Assets written to: models\\Basic_Regression_One_month\\assets\n",
      "INFO:tensorflow:Assets written to: models\\Basic_Regression_One_month\\assets\n",
      "INFO:tensorflow:Assets written to: models\\Basic_Regression_One_month\\assets\n",
      "INFO:tensorflow:Assets written to: models\\Basic_Regression_One_month\\assets\n",
      "INFO:tensorflow:Assets written to: models\\Basic_Regression_One_month\\assets\n",
      "INFO:tensorflow:Assets written to: models\\Basic_Regression_One_month\\assets\n",
      "INFO:tensorflow:Assets written to: models\\Basic_Regression_One_month\\assets\n",
      "INFO:tensorflow:Assets written to: models\\Basic_Regression_One_month\\assets\n",
      "INFO:tensorflow:Assets written to: models\\Basic_Regression_One_month\\assets\n",
      "INFO:tensorflow:Assets written to: models\\Basic_Regression_One_month\\assets\n",
      "INFO:tensorflow:Assets written to: models\\Basic_Regression_One_month\\assets\n",
      "INFO:tensorflow:Assets written to: models\\Basic_Regression_One_month\\assets\n",
      "INFO:tensorflow:Assets written to: models\\Basic_Regression_One_month\\assets\n",
      "INFO:tensorflow:Assets written to: models\\Basic_Regression_One_month\\assets\n"
     ]
    },
    {
     "data": {
      "text/plain": [
       "<keras.callbacks.History at 0x212597a2fa0>"
      ]
     },
     "execution_count": 73,
     "metadata": {},
     "output_type": "execute_result"
    }
   ],
   "source": [
    "tf.random.set_seed(42)\n",
    "\n",
    "model2 = tf.keras.Sequential([\n",
    "    layers.Dense(128, activation='relu'),\n",
    "    layers.Dense(HORIZON),\n",
    "], name='Basic_Regression_One_month')\n",
    "\n",
    "model2.compile(loss=\"mae\", optimizer=tf.keras.optimizers.Adam())\n",
    "\n",
    "model2.fit(\n",
    "    x=train_windows,\n",
    "    y=train_labels,\n",
    "    epochs= 100,\n",
    "    batch_size = 128,\n",
    "    verbose= 0,\n",
    "    validation_data = (test_windows, test_labels),\n",
    "    callbacks=[checkpoint_cb(model2.name)]\n",
    ")"
   ]
  },
  {
   "cell_type": "code",
   "execution_count": 74,
   "metadata": {},
   "outputs": [
    {
     "name": "stdout",
     "output_type": "stream",
     "text": [
      "17/17 [==============================] - 0s 562us/step - loss: 1254.8922\n"
     ]
    },
    {
     "data": {
      "text/plain": [
       "1254.8922119140625"
      ]
     },
     "execution_count": 74,
     "metadata": {},
     "output_type": "execute_result"
    }
   ],
   "source": [
    "model2.evaluate(test_windows, test_labels)"
   ]
  },
  {
   "cell_type": "code",
   "execution_count": 76,
   "metadata": {},
   "outputs": [],
   "source": [
    "model2=tf.keras.models.load_model('models/Basic_Regression_One_month')"
   ]
  },
  {
   "cell_type": "code",
   "execution_count": 77,
   "metadata": {},
   "outputs": [
    {
     "name": "stdout",
     "output_type": "stream",
     "text": [
      "17/17 [==============================] - 0s 562us/step - loss: 1244.7632\n"
     ]
    },
    {
     "data": {
      "text/plain": [
       "1244.76318359375"
      ]
     },
     "execution_count": 77,
     "metadata": {},
     "output_type": "execute_result"
    }
   ],
   "source": [
    "model2.evaluate(test_windows, test_labels)"
   ]
  },
  {
   "cell_type": "code",
   "execution_count": 78,
   "metadata": {},
   "outputs": [],
   "source": [
    "model2_preds = make_preds(model2, test_windows)\n"
   ]
  },
  {
   "cell_type": "code",
   "execution_count": 79,
   "metadata": {},
   "outputs": [],
   "source": [
    "model2_res = evaluate_preds(y_true=tf.squeeze(test_labels), y_pred=model2_preds)"
   ]
  },
  {
   "cell_type": "code",
   "execution_count": 80,
   "metadata": {},
   "outputs": [
    {
     "data": {
      "text/plain": [
       "{'MAE': 1146.1455,\n",
       " 'MSE': 2788495.0,\n",
       " 'RSME': 1669.8788,\n",
       " 'MAPE': 2.8602996,\n",
       " 'MASE': 1.0055571}"
      ]
     },
     "execution_count": 80,
     "metadata": {},
     "output_type": "execute_result"
    }
   ],
   "source": [
    "model_res"
   ]
  },
  {
   "cell_type": "code",
   "execution_count": 82,
   "metadata": {},
   "outputs": [
    {
     "data": {
      "image/png": "[encoded data removed]",
      "text/plain": [
       "<Figure size 720x504 with 1 Axes>"
      ]
     },
     "metadata": {
      "needs_background": "light"
     },
     "output_type": "display_data"
    }
   ],
   "source": [
    "\n",
    "offset = 300\n",
    "plt.figure(figsize=(10, 7))\n",
    "# Account for the test_window offset\n",
    "plot_time_series(timesteps=X_test[-len(test_windows):], values=test_labels[:, 0], start=offset, label=\"test_data\")\n",
    "plot_time_series(timesteps=X_test[-len(test_windows):], values=model2_preds, start=offset, format=\"-\", label=\"model_2_preds\")"
   ]
  },
  {
   "cell_type": "code",
   "execution_count": 106,
   "metadata": {},
   "outputs": [
    {
     "data": {
      "text/plain": [
       "((2615, 30), (2615, 7))"
      ]
     },
     "execution_count": 106,
     "metadata": {},
     "output_type": "execute_result"
    }
   ],
   "source": [
    "HORIZON = 7\n",
    "WINDOW_SIZE = 30\n",
    "\n",
    "windows, labels = make_windows(np.array(btc_price), window_size=WINDOW_SIZE, horizon=HORIZON)\n",
    "windows.shape, labels.shape"
   ]
  },
  {
   "cell_type": "code",
   "execution_count": 107,
   "metadata": {},
   "outputs": [],
   "source": [
    "train_windows, train_labels, test_windows, test_labels = train_test_split_windows(windows, labels)"
   ]
  },
  {
   "cell_type": "code",
   "execution_count": 108,
   "metadata": {},
   "outputs": [
    {
     "data": {
      "text/plain": [
       "((2092, 30), (2092, 7), (523, 30), (523, 7))"
      ]
     },
     "execution_count": 108,
     "metadata": {},
     "output_type": "execute_result"
    }
   ],
   "source": [
    "train_windows.shape, train_labels.shape, test_windows.shape, test_labels.shape"
   ]
  },
  {
   "cell_type": "code",
   "execution_count": 109,
   "metadata": {},
   "outputs": [],
   "source": [
    "tf.random.set_seed(42)\n",
    "\n",
    "model3 = tf.keras.Sequential([\n",
    "    layers.Dense(128, activation='relu'),\n",
    "    layers.Dense(HORIZON),\n",
    "], name='Big_Horizon_Big_Window')\n",
    "\n",
    "model3.compile(loss='mae', optimizer = tf.keras.optimizers.Adam())"
   ]
  },
  {
   "cell_type": "code",
   "execution_count": 110,
   "metadata": {},
   "outputs": [
    {
     "name": "stdout",
     "output_type": "stream",
     "text": [
      "INFO:tensorflow:Assets written to: models\\Big_Horizon_Big_Window\\assets\n",
      "INFO:tensorflow:Assets written to: models\\Big_Horizon_Big_Window\\assets\n",
      "INFO:tensorflow:Assets written to: models\\Big_Horizon_Big_Window\\assets\n",
      "INFO:tensorflow:Assets written to: models\\Big_Horizon_Big_Window\\assets\n",
      "INFO:tensorflow:Assets written to: models\\Big_Horizon_Big_Window\\assets\n",
      "INFO:tensorflow:Assets written to: models\\Big_Horizon_Big_Window\\assets\n",
      "INFO:tensorflow:Assets written to: models\\Big_Horizon_Big_Window\\assets\n",
      "INFO:tensorflow:Assets written to: models\\Big_Horizon_Big_Window\\assets\n",
      "INFO:tensorflow:Assets written to: models\\Big_Horizon_Big_Window\\assets\n",
      "INFO:tensorflow:Assets written to: models\\Big_Horizon_Big_Window\\assets\n",
      "INFO:tensorflow:Assets written to: models\\Big_Horizon_Big_Window\\assets\n",
      "INFO:tensorflow:Assets written to: models\\Big_Horizon_Big_Window\\assets\n",
      "INFO:tensorflow:Assets written to: models\\Big_Horizon_Big_Window\\assets\n",
      "INFO:tensorflow:Assets written to: models\\Big_Horizon_Big_Window\\assets\n",
      "INFO:tensorflow:Assets written to: models\\Big_Horizon_Big_Window\\assets\n",
      "INFO:tensorflow:Assets written to: models\\Big_Horizon_Big_Window\\assets\n",
      "INFO:tensorflow:Assets written to: models\\Big_Horizon_Big_Window\\assets\n",
      "INFO:tensorflow:Assets written to: models\\Big_Horizon_Big_Window\\assets\n",
      "INFO:tensorflow:Assets written to: models\\Big_Horizon_Big_Window\\assets\n",
      "INFO:tensorflow:Assets written to: models\\Big_Horizon_Big_Window\\assets\n",
      "INFO:tensorflow:Assets written to: models\\Big_Horizon_Big_Window\\assets\n",
      "INFO:tensorflow:Assets written to: models\\Big_Horizon_Big_Window\\assets\n",
      "INFO:tensorflow:Assets written to: models\\Big_Horizon_Big_Window\\assets\n",
      "INFO:tensorflow:Assets written to: models\\Big_Horizon_Big_Window\\assets\n",
      "INFO:tensorflow:Assets written to: models\\Big_Horizon_Big_Window\\assets\n",
      "INFO:tensorflow:Assets written to: models\\Big_Horizon_Big_Window\\assets\n",
      "INFO:tensorflow:Assets written to: models\\Big_Horizon_Big_Window\\assets\n",
      "INFO:tensorflow:Assets written to: models\\Big_Horizon_Big_Window\\assets\n",
      "INFO:tensorflow:Assets written to: models\\Big_Horizon_Big_Window\\assets\n",
      "INFO:tensorflow:Assets written to: models\\Big_Horizon_Big_Window\\assets\n",
      "INFO:tensorflow:Assets written to: models\\Big_Horizon_Big_Window\\assets\n",
      "INFO:tensorflow:Assets written to: models\\Big_Horizon_Big_Window\\assets\n",
      "INFO:tensorflow:Assets written to: models\\Big_Horizon_Big_Window\\assets\n",
      "INFO:tensorflow:Assets written to: models\\Big_Horizon_Big_Window\\assets\n",
      "INFO:tensorflow:Assets written to: models\\Big_Horizon_Big_Window\\assets\n",
      "INFO:tensorflow:Assets written to: models\\Big_Horizon_Big_Window\\assets\n",
      "INFO:tensorflow:Assets written to: models\\Big_Horizon_Big_Window\\assets\n",
      "INFO:tensorflow:Assets written to: models\\Big_Horizon_Big_Window\\assets\n",
      "INFO:tensorflow:Assets written to: models\\Big_Horizon_Big_Window\\assets\n",
      "INFO:tensorflow:Assets written to: models\\Big_Horizon_Big_Window\\assets\n"
     ]
    },
    {
     "data": {
      "text/plain": [
       "<keras.callbacks.History at 0x2125fb086a0>"
      ]
     },
     "execution_count": 110,
     "metadata": {},
     "output_type": "execute_result"
    }
   ],
   "source": [
    "model3.fit(\n",
    "    x=train_windows,\n",
    "    y=train_labels,\n",
    "    epochs = 100,\n",
    "    batch_size = 128,\n",
    "    verbose=0,\n",
    "    validation_data=(test_windows, test_labels),\n",
    "    callbacks=[checkpoint_cb(model3.name)]\n",
    ")"
   ]
  },
  {
   "cell_type": "code",
   "execution_count": 111,
   "metadata": {},
   "outputs": [
    {
     "name": "stdout",
     "output_type": "stream",
     "text": [
      "17/17 [==============================] - 0s 562us/step - loss: 2409.2229\n"
     ]
    },
    {
     "data": {
      "text/plain": [
       "2409.222900390625"
      ]
     },
     "execution_count": 111,
     "metadata": {},
     "output_type": "execute_result"
    }
   ],
   "source": [
    "model3.evaluate(test_windows, test_labels)"
   ]
  },
  {
   "cell_type": "code",
   "execution_count": 112,
   "metadata": {},
   "outputs": [],
   "source": [
    "model3= tf.keras.models.load_model('models/Big_Horizon_Big_Window')"
   ]
  },
  {
   "cell_type": "code",
   "execution_count": 113,
   "metadata": {},
   "outputs": [
    {
     "name": "stdout",
     "output_type": "stream",
     "text": [
      "17/17 [==============================] - 0s 562us/step - loss: 2409.2229\n"
     ]
    },
    {
     "data": {
      "text/plain": [
       "2409.222900390625"
      ]
     },
     "execution_count": 113,
     "metadata": {},
     "output_type": "execute_result"
    }
   ],
   "source": [
    "model3.evaluate(test_windows, test_labels)"
   ]
  },
  {
   "cell_type": "code",
   "execution_count": 114,
   "metadata": {},
   "outputs": [],
   "source": [
    "model3_preds = make_preds(model3, test_windows)"
   ]
  },
  {
   "cell_type": "code",
   "execution_count": 118,
   "metadata": {},
   "outputs": [],
   "source": [
    "model3_res = evaluate_preds(y_true=tf.squeeze(test_labels), y_pred=model3_preds)"
   ]
  },
  {
   "cell_type": "code",
   "execution_count": 119,
   "metadata": {},
   "outputs": [
    {
     "data": {
      "text/plain": [
       "{'MAE': 2409.223,\n",
       " 'MSE': 11583614.0,\n",
       " 'RSME': 2754.9846,\n",
       " 'MAPE': 6.0454555,\n",
       " 'MASE': 2.1096451}"
      ]
     },
     "execution_count": 119,
     "metadata": {},
     "output_type": "execute_result"
    }
   ],
   "source": [
    "model3_res"
   ]
  },
  {
   "cell_type": "code",
   "execution_count": 121,
   "metadata": {},
   "outputs": [
    {
     "data": {
      "image/png": "[encoded data removed]",
      "text/plain": [
       "<Figure size 720x504 with 1 Axes>"
      ]
     },
     "metadata": {
      "needs_background": "light"
     },
     "output_type": "display_data"
    }
   ],
   "source": [
    "offset = 300\n",
    "plt.figure(figsize=(10, 7))\n",
    "# Plot model_3_preds by aggregating them (note: this condenses information so the preds will look fruther ahead than the test data)\n",
    "plot_time_series(timesteps=X_test[-len(test_windows):], \n",
    "                 values=test_labels[:, 0], \n",
    "                 start=offset, \n",
    "                 label=\"Test_data\")\n",
    "plot_time_series(timesteps=X_test[-len(test_windows):], \n",
    "                 values=tf.reduce_mean(model3_preds, axis=1), \n",
    "                 format=\"-\",\n",
    "                 start=offset, \n",
    "                 label=\"model_3_preds\")"
   ]
  },
  {
   "cell_type": "code",
   "execution_count": 126,
   "metadata": {},
   "outputs": [
    {
     "data": {
      "text/plain": [
       "<AxesSubplot:>"
      ]
     },
     "execution_count": 126,
     "metadata": {},
     "output_type": "execute_result"
    },
    {
     "data": {
      "image/png": "[encoded data removed]",
      "text/plain": [
       "<Figure size 720x504 with 1 Axes>"
      ]
     },
     "metadata": {
      "needs_background": "light"
     },
     "output_type": "display_data"
    }
   ],
   "source": [
    "pd.DataFrame({\n",
    "    \"naive\" : naive_res[\"MAE\"],\n",
    "    \"horizon_1_window_7\" : model_res[\"MAE\"],\n",
    "    \"horizon_1_window_30\" : model2_res[\"MAE\"],\n",
    "    \"horizon_7_window_30\" : model3_res[\"MAE\"],\n",
    "     \n",
    "}, index=[\"MAE\"]).plot(figsize=(10, 7), kind=\"bar\")"
   ]
  },
  {
   "cell_type": "markdown",
   "metadata": {},
   "source": [
    "### Conv 1D"
   ]
  },
  {
   "cell_type": "code",
   "execution_count": 127,
   "metadata": {},
   "outputs": [],
   "source": [
    "HORIZON = 1\n",
    "WINDOW_SIZE = 7"
   ]
  },
  {
   "cell_type": "code",
   "execution_count": 128,
   "metadata": {},
   "outputs": [],
   "source": [
    "windows, labels = make_windows(np.array(btc_price), window_size=WINDOW_SIZE, horizon=HORIZON)"
   ]
  },
  {
   "cell_type": "code",
   "execution_count": 129,
   "metadata": {},
   "outputs": [
    {
     "data": {
      "text/plain": [
       "((2644, 7), (2644, 1))"
      ]
     },
     "execution_count": 129,
     "metadata": {},
     "output_type": "execute_result"
    }
   ],
   "source": [
    "windows.shape, labels.shape"
   ]
  },
  {
   "cell_type": "code",
   "execution_count": 130,
   "metadata": {},
   "outputs": [
    {
     "data": {
      "text/plain": [
       "((2115, 7), (2115, 1), (529, 7), (529, 1))"
      ]
     },
     "execution_count": 130,
     "metadata": {},
     "output_type": "execute_result"
    }
   ],
   "source": [
    "train_windows, train_labels, test_windows, test_labels = train_test_split_windows(windows, labels)\n",
    "train_windows.shape, train_labels.shape, test_windows.shape, test_labels.shape \n"
   ]
  },
  {
   "cell_type": "code",
   "execution_count": 131,
   "metadata": {},
   "outputs": [],
   "source": [
    "### Reshape time series into \"convolutional\" layers\n",
    "\n",
    "x = tf.constant(train_windows[0])"
   ]
  },
  {
   "cell_type": "code",
   "execution_count": 132,
   "metadata": {},
   "outputs": [
    {
     "name": "stdout",
     "output_type": "stream",
     "text": [
      "Original shape (7,)\n",
      "Expanded shape : (7, 1)\n"
     ]
    }
   ],
   "source": [
    "expand_dims_layer = layers.Lambda(lambda x : tf.expand_dims(x, axis=1))\n",
    "print(f\"Original shape {x.shape}\")\n",
    "print(f\"Expanded shape : {expand_dims_layer(x).shape}\")"
   ]
  },
  {
   "cell_type": "code",
   "execution_count": 135,
   "metadata": {},
   "outputs": [
    {
     "name": "stdout",
     "output_type": "stream",
     "text": [
      "Original values with expanded shape :\n",
      "[[324.46793]\n",
      " [328.6444 ]\n",
      " [337.92136]\n",
      " [348.99286]\n",
      " [341.45975]\n",
      " [344.7453 ]\n",
      " [357.24   ]]\n"
     ]
    }
   ],
   "source": [
    "print(f\"Original values with expanded shape :\\n{expand_dims_layer(x)}\")"
   ]
  },
  {
   "cell_type": "code",
   "execution_count": 136,
   "metadata": {},
   "outputs": [
    {
     "name": "stdout",
     "output_type": "stream",
     "text": [
      "INFO:tensorflow:Assets written to: models\\model4_conv1D\\assets\n",
      "INFO:tensorflow:Assets written to: models\\model4_conv1D\\assets\n",
      "INFO:tensorflow:Assets written to: models\\model4_conv1D\\assets\n",
      "INFO:tensorflow:Assets written to: models\\model4_conv1D\\assets\n",
      "INFO:tensorflow:Assets written to: models\\model4_conv1D\\assets\n",
      "INFO:tensorflow:Assets written to: models\\model4_conv1D\\assets\n",
      "INFO:tensorflow:Assets written to: models\\model4_conv1D\\assets\n",
      "INFO:tensorflow:Assets written to: models\\model4_conv1D\\assets\n",
      "INFO:tensorflow:Assets written to: models\\model4_conv1D\\assets\n",
      "INFO:tensorflow:Assets written to: models\\model4_conv1D\\assets\n",
      "INFO:tensorflow:Assets written to: models\\model4_conv1D\\assets\n",
      "INFO:tensorflow:Assets written to: models\\model4_conv1D\\assets\n",
      "INFO:tensorflow:Assets written to: models\\model4_conv1D\\assets\n",
      "INFO:tensorflow:Assets written to: models\\model4_conv1D\\assets\n",
      "INFO:tensorflow:Assets written to: models\\model4_conv1D\\assets\n",
      "INFO:tensorflow:Assets written to: models\\model4_conv1D\\assets\n",
      "INFO:tensorflow:Assets written to: models\\model4_conv1D\\assets\n",
      "INFO:tensorflow:Assets written to: models\\model4_conv1D\\assets\n",
      "INFO:tensorflow:Assets written to: models\\model4_conv1D\\assets\n",
      "INFO:tensorflow:Assets written to: models\\model4_conv1D\\assets\n",
      "INFO:tensorflow:Assets written to: models\\model4_conv1D\\assets\n",
      "INFO:tensorflow:Assets written to: models\\model4_conv1D\\assets\n",
      "INFO:tensorflow:Assets written to: models\\model4_conv1D\\assets\n",
      "INFO:tensorflow:Assets written to: models\\model4_conv1D\\assets\n",
      "INFO:tensorflow:Assets written to: models\\model4_conv1D\\assets\n",
      "INFO:tensorflow:Assets written to: models\\model4_conv1D\\assets\n",
      "INFO:tensorflow:Assets written to: models\\model4_conv1D\\assets\n",
      "INFO:tensorflow:Assets written to: models\\model4_conv1D\\assets\n",
      "INFO:tensorflow:Assets written to: models\\model4_conv1D\\assets\n",
      "INFO:tensorflow:Assets written to: models\\model4_conv1D\\assets\n",
      "INFO:tensorflow:Assets written to: models\\model4_conv1D\\assets\n",
      "INFO:tensorflow:Assets written to: models\\model4_conv1D\\assets\n",
      "INFO:tensorflow:Assets written to: models\\model4_conv1D\\assets\n",
      "INFO:tensorflow:Assets written to: models\\model4_conv1D\\assets\n",
      "INFO:tensorflow:Assets written to: models\\model4_conv1D\\assets\n",
      "INFO:tensorflow:Assets written to: models\\model4_conv1D\\assets\n",
      "INFO:tensorflow:Assets written to: models\\model4_conv1D\\assets\n",
      "INFO:tensorflow:Assets written to: models\\model4_conv1D\\assets\n",
      "INFO:tensorflow:Assets written to: models\\model4_conv1D\\assets\n",
      "INFO:tensorflow:Assets written to: models\\model4_conv1D\\assets\n",
      "INFO:tensorflow:Assets written to: models\\model4_conv1D\\assets\n",
      "INFO:tensorflow:Assets written to: models\\model4_conv1D\\assets\n",
      "INFO:tensorflow:Assets written to: models\\model4_conv1D\\assets\n",
      "INFO:tensorflow:Assets written to: models\\model4_conv1D\\assets\n",
      "INFO:tensorflow:Assets written to: models\\model4_conv1D\\assets\n",
      "INFO:tensorflow:Assets written to: models\\model4_conv1D\\assets\n",
      "INFO:tensorflow:Assets written to: models\\model4_conv1D\\assets\n",
      "INFO:tensorflow:Assets written to: models\\model4_conv1D\\assets\n",
      "INFO:tensorflow:Assets written to: models\\model4_conv1D\\assets\n"
     ]
    },
    {
     "data": {
      "text/plain": [
       "<keras.callbacks.History at 0x21264c596a0>"
      ]
     },
     "execution_count": 136,
     "metadata": {},
     "output_type": "execute_result"
    }
   ],
   "source": [
    "tf.random.set_seed(42)\n",
    "\n",
    "model4 = tf.keras.Sequential([\n",
    "    layers.Lambda(lambda x : tf.expand_dims(x, axis=1)),\n",
    "    layers.Conv1D(filters=128, kernel_size=5, padding='causal', activation='relu'),\n",
    "    layers.Dense(HORIZON),\n",
    "], name = \"model4_conv1D\")\n",
    "\n",
    "model4.compile(loss=\"mae\", optimizer=tf.keras.optimizers.Adam())\n",
    "\n",
    "model4.fit(\n",
    "    train_windows, \n",
    "    train_labels, \n",
    "    batch_size = 128,\n",
    "    epochs = 100,\n",
    "    verbose = 0, \n",
    "    validation_data = (test_windows, test_labels),\n",
    "    callbacks = [checkpoint_cb(model_name=model4.name)]\n",
    ")"
   ]
  },
  {
   "cell_type": "code",
   "execution_count": 137,
   "metadata": {},
   "outputs": [
    {
     "name": "stdout",
     "output_type": "stream",
     "text": [
      "Model: \"model4_conv1D\"\n",
      "_________________________________________________________________\n",
      " Layer (type)                Output Shape              Param #   \n",
      "=================================================================\n",
      " lambda_1 (Lambda)           (None, 1, 7)              0         \n",
      "                                                                 \n",
      " conv1d (Conv1D)             (None, 1, 128)            4608      \n",
      "                                                                 \n",
      " dense_14 (Dense)            (None, 1, 1)              129       \n",
      "                                                                 \n",
      "=================================================================\n",
      "Total params: 4,737\n",
      "Trainable params: 4,737\n",
      "Non-trainable params: 0\n",
      "_________________________________________________________________\n"
     ]
    }
   ],
   "source": [
    "model4.summary()"
   ]
  },
  {
   "cell_type": "code",
   "execution_count": 138,
   "metadata": {},
   "outputs": [
    {
     "name": "stdout",
     "output_type": "stream",
     "text": [
      "17/17 [==============================] - 0s 750us/step - loss: 1152.1501\n"
     ]
    },
    {
     "data": {
      "text/plain": [
       "1152.150146484375"
      ]
     },
     "execution_count": 138,
     "metadata": {},
     "output_type": "execute_result"
    }
   ],
   "source": [
    "model4 = tf.keras.models.load_model('models/model4_conv1D')\n",
    "model4.evaluate(test_windows, test_labels)"
   ]
  },
  {
   "cell_type": "code",
   "execution_count": 142,
   "metadata": {},
   "outputs": [
    {
     "data": {
      "text/plain": [
       "TensorShape([529])"
      ]
     },
     "execution_count": 142,
     "metadata": {},
     "output_type": "execute_result"
    }
   ],
   "source": [
    "model4_preds = make_preds(model4, test_windows)\n",
    "model4_preds.shape"
   ]
  },
  {
   "cell_type": "code",
   "execution_count": 146,
   "metadata": {},
   "outputs": [
    {
     "name": "stdout",
     "output_type": "stream",
     "text": [
      "(529, 1)\n"
     ]
    }
   ],
   "source": [
    "print(test_labels.shape)\n",
    "model4_res = evaluate_preds(y_true=tf.squeeze(test_labels), y_pred=model4_preds)"
   ]
  },
  {
   "cell_type": "code",
   "execution_count": 147,
   "metadata": {},
   "outputs": [
    {
     "data": {
      "text/plain": [
       "{'MAE': 1152.1499,\n",
       " 'MSE': 2817928.8,\n",
       " 'RSME': 1678.6687,\n",
       " 'MAPE': 2.8751795,\n",
       " 'MASE': 1.0108249}"
      ]
     },
     "execution_count": 147,
     "metadata": {},
     "output_type": "execute_result"
    }
   ],
   "source": [
    "model4_res"
   ]
  },
  {
   "cell_type": "code",
   "execution_count": 158,
   "metadata": {},
   "outputs": [],
   "source": [
    "def create_LSTM():\n",
    "    inputs = layers.Input(shape=(WINDOW_SIZE))\n",
    "    x = layers.Lambda(lambda x : tf.expand_dims(x, axis=1))(inputs)\n",
    "\n",
    "    x = layers.LSTM(128, activation='relu')(x)\n",
    "\n",
    "    output = layers.Dense(HORIZON)(x)\n",
    "    return tf.keras.Model(inputs=inputs, outputs=output, name='LSTM_ts')"
   ]
  },
  {
   "cell_type": "code",
   "execution_count": 159,
   "metadata": {},
   "outputs": [],
   "source": [
    "model5 = create_LSTM()"
   ]
  },
  {
   "cell_type": "code",
   "execution_count": 160,
   "metadata": {},
   "outputs": [],
   "source": [
    "model5.compile(loss='mae', optimizer=tf.keras.optimizers.Adam())"
   ]
  },
  {
   "cell_type": "code",
   "execution_count": 161,
   "metadata": {},
   "outputs": [
    {
     "name": "stdout",
     "output_type": "stream",
     "text": [
      "Model: \"LSTM_ts\"\n",
      "_________________________________________________________________\n",
      " Layer (type)                Output Shape              Param #   \n",
      "=================================================================\n",
      " input_4 (InputLayer)        [(None, 7)]               0         \n",
      "                                                                 \n",
      " lambda_5 (Lambda)           (None, 1, 7)              0         \n",
      "                                                                 \n",
      " lstm_3 (LSTM)               (None, 128)               69632     \n",
      "                                                                 \n",
      " dense_17 (Dense)            (None, 1)                 129       \n",
      "                                                                 \n",
      "=================================================================\n",
      "Total params: 69,761\n",
      "Trainable params: 69,761\n",
      "Non-trainable params: 0\n",
      "_________________________________________________________________\n"
     ]
    }
   ],
   "source": [
    "model5.summary()"
   ]
  },
  {
   "cell_type": "code",
   "execution_count": 162,
   "metadata": {},
   "outputs": [
    {
     "name": "stdout",
     "output_type": "stream",
     "text": [
      "INFO:tensorflow:Assets written to: models\\LSTM_ts\\assets\n"
     ]
    },
    {
     "name": "stderr",
     "output_type": "stream",
     "text": [
      "INFO:tensorflow:Assets written to: models\\LSTM_ts\\assets\n",
      "WARNING:absl:<keras.layers.recurrent.LSTMCell object at 0x000002126D671A90> has the same name 'LSTMCell' as a built-in Keras object. Consider renaming <class 'keras.layers.recurrent.LSTMCell'> to avoid naming conflicts when loading with `tf.keras.models.load_model`. If renaming is not possible, pass the object in the `custom_objects` parameter of the load function.\n"
     ]
    },
    {
     "name": "stdout",
     "output_type": "stream",
     "text": [
      "INFO:tensorflow:Assets written to: models\\LSTM_ts\\assets\n"
     ]
    },
    {
     "name": "stderr",
     "output_type": "stream",
     "text": [
      "INFO:tensorflow:Assets written to: models\\LSTM_ts\\assets\n",
      "WARNING:absl:<keras.layers.recurrent.LSTMCell object at 0x000002126D671A90> has the same name 'LSTMCell' as a built-in Keras object. Consider renaming <class 'keras.layers.recurrent.LSTMCell'> to avoid naming conflicts when loading with `tf.keras.models.load_model`. If renaming is not possible, pass the object in the `custom_objects` parameter of the load function.\n"
     ]
    },
    {
     "name": "stdout",
     "output_type": "stream",
     "text": [
      "INFO:tensorflow:Assets written to: models\\LSTM_ts\\assets\n"
     ]
    },
    {
     "name": "stderr",
     "output_type": "stream",
     "text": [
      "INFO:tensorflow:Assets written to: models\\LSTM_ts\\assets\n",
      "WARNING:absl:<keras.layers.recurrent.LSTMCell object at 0x000002126D671A90> has the same name 'LSTMCell' as a built-in Keras object. Consider renaming <class 'keras.layers.recurrent.LSTMCell'> to avoid naming conflicts when loading with `tf.keras.models.load_model`. If renaming is not possible, pass the object in the `custom_objects` parameter of the load function.\n"
     ]
    },
    {
     "name": "stdout",
     "output_type": "stream",
     "text": [
      "INFO:tensorflow:Assets written to: models\\LSTM_ts\\assets\n"
     ]
    },
    {
     "name": "stderr",
     "output_type": "stream",
     "text": [
      "INFO:tensorflow:Assets written to: models\\LSTM_ts\\assets\n",
      "WARNING:absl:<keras.layers.recurrent.LSTMCell object at 0x000002126D671A90> has the same name 'LSTMCell' as a built-in Keras object. Consider renaming <class 'keras.layers.recurrent.LSTMCell'> to avoid naming conflicts when loading with `tf.keras.models.load_model`. If renaming is not possible, pass the object in the `custom_objects` parameter of the load function.\n"
     ]
    },
    {
     "name": "stdout",
     "output_type": "stream",
     "text": [
      "INFO:tensorflow:Assets written to: models\\LSTM_ts\\assets\n"
     ]
    },
    {
     "name": "stderr",
     "output_type": "stream",
     "text": [
      "INFO:tensorflow:Assets written to: models\\LSTM_ts\\assets\n",
      "WARNING:absl:<keras.layers.recurrent.LSTMCell object at 0x000002126D671A90> has the same name 'LSTMCell' as a built-in Keras object. Consider renaming <class 'keras.layers.recurrent.LSTMCell'> to avoid naming conflicts when loading with `tf.keras.models.load_model`. If renaming is not possible, pass the object in the `custom_objects` parameter of the load function.\n"
     ]
    },
    {
     "name": "stdout",
     "output_type": "stream",
     "text": [
      "INFO:tensorflow:Assets written to: models\\LSTM_ts\\assets\n"
     ]
    },
    {
     "name": "stderr",
     "output_type": "stream",
     "text": [
      "INFO:tensorflow:Assets written to: models\\LSTM_ts\\assets\n",
      "WARNING:absl:<keras.layers.recurrent.LSTMCell object at 0x000002126D671A90> has the same name 'LSTMCell' as a built-in Keras object. Consider renaming <class 'keras.layers.recurrent.LSTMCell'> to avoid naming conflicts when loading with `tf.keras.models.load_model`. If renaming is not possible, pass the object in the `custom_objects` parameter of the load function.\n"
     ]
    },
    {
     "name": "stdout",
     "output_type": "stream",
     "text": [
      "INFO:tensorflow:Assets written to: models\\LSTM_ts\\assets\n"
     ]
    },
    {
     "name": "stderr",
     "output_type": "stream",
     "text": [
      "INFO:tensorflow:Assets written to: models\\LSTM_ts\\assets\n",
      "WARNING:absl:<keras.layers.recurrent.LSTMCell object at 0x000002126D671A90> has the same name 'LSTMCell' as a built-in Keras object. Consider renaming <class 'keras.layers.recurrent.LSTMCell'> to avoid naming conflicts when loading with `tf.keras.models.load_model`. If renaming is not possible, pass the object in the `custom_objects` parameter of the load function.\n"
     ]
    },
    {
     "name": "stdout",
     "output_type": "stream",
     "text": [
      "INFO:tensorflow:Assets written to: models\\LSTM_ts\\assets\n"
     ]
    },
    {
     "name": "stderr",
     "output_type": "stream",
     "text": [
      "INFO:tensorflow:Assets written to: models\\LSTM_ts\\assets\n",
      "WARNING:absl:<keras.layers.recurrent.LSTMCell object at 0x000002126D671A90> has the same name 'LSTMCell' as a built-in Keras object. Consider renaming <class 'keras.layers.recurrent.LSTMCell'> to avoid naming conflicts when loading with `tf.keras.models.load_model`. If renaming is not possible, pass the object in the `custom_objects` parameter of the load function.\n"
     ]
    },
    {
     "name": "stdout",
     "output_type": "stream",
     "text": [
      "INFO:tensorflow:Assets written to: models\\LSTM_ts\\assets\n"
     ]
    },
    {
     "name": "stderr",
     "output_type": "stream",
     "text": [
      "INFO:tensorflow:Assets written to: models\\LSTM_ts\\assets\n",
      "WARNING:absl:<keras.layers.recurrent.LSTMCell object at 0x000002126D671A90> has the same name 'LSTMCell' as a built-in Keras object. Consider renaming <class 'keras.layers.recurrent.LSTMCell'> to avoid naming conflicts when loading with `tf.keras.models.load_model`. If renaming is not possible, pass the object in the `custom_objects` parameter of the load function.\n"
     ]
    },
    {
     "name": "stdout",
     "output_type": "stream",
     "text": [
      "INFO:tensorflow:Assets written to: models\\LSTM_ts\\assets\n"
     ]
    },
    {
     "name": "stderr",
     "output_type": "stream",
     "text": [
      "INFO:tensorflow:Assets written to: models\\LSTM_ts\\assets\n",
      "WARNING:absl:<keras.layers.recurrent.LSTMCell object at 0x000002126D671A90> has the same name 'LSTMCell' as a built-in Keras object. Consider renaming <class 'keras.layers.recurrent.LSTMCell'> to avoid naming conflicts when loading with `tf.keras.models.load_model`. If renaming is not possible, pass the object in the `custom_objects` parameter of the load function.\n"
     ]
    },
    {
     "name": "stdout",
     "output_type": "stream",
     "text": [
      "INFO:tensorflow:Assets written to: models\\LSTM_ts\\assets\n"
     ]
    },
    {
     "name": "stderr",
     "output_type": "stream",
     "text": [
      "INFO:tensorflow:Assets written to: models\\LSTM_ts\\assets\n",
      "WARNING:absl:<keras.layers.recurrent.LSTMCell object at 0x000002126D671A90> has the same name 'LSTMCell' as a built-in Keras object. Consider renaming <class 'keras.layers.recurrent.LSTMCell'> to avoid naming conflicts when loading with `tf.keras.models.load_model`. If renaming is not possible, pass the object in the `custom_objects` parameter of the load function.\n"
     ]
    },
    {
     "name": "stdout",
     "output_type": "stream",
     "text": [
      "INFO:tensorflow:Assets written to: models\\LSTM_ts\\assets\n"
     ]
    },
    {
     "name": "stderr",
     "output_type": "stream",
     "text": [
      "INFO:tensorflow:Assets written to: models\\LSTM_ts\\assets\n",
      "WARNING:absl:<keras.layers.recurrent.LSTMCell object at 0x000002126D671A90> has the same name 'LSTMCell' as a built-in Keras object. Consider renaming <class 'keras.layers.recurrent.LSTMCell'> to avoid naming conflicts when loading with `tf.keras.models.load_model`. If renaming is not possible, pass the object in the `custom_objects` parameter of the load function.\n"
     ]
    },
    {
     "name": "stdout",
     "output_type": "stream",
     "text": [
      "INFO:tensorflow:Assets written to: models\\LSTM_ts\\assets\n"
     ]
    },
    {
     "name": "stderr",
     "output_type": "stream",
     "text": [
      "INFO:tensorflow:Assets written to: models\\LSTM_ts\\assets\n",
      "WARNING:absl:<keras.layers.recurrent.LSTMCell object at 0x000002126D671A90> has the same name 'LSTMCell' as a built-in Keras object. Consider renaming <class 'keras.layers.recurrent.LSTMCell'> to avoid naming conflicts when loading with `tf.keras.models.load_model`. If renaming is not possible, pass the object in the `custom_objects` parameter of the load function.\n"
     ]
    },
    {
     "name": "stdout",
     "output_type": "stream",
     "text": [
      "INFO:tensorflow:Assets written to: models\\LSTM_ts\\assets\n"
     ]
    },
    {
     "name": "stderr",
     "output_type": "stream",
     "text": [
      "INFO:tensorflow:Assets written to: models\\LSTM_ts\\assets\n",
      "WARNING:absl:<keras.layers.recurrent.LSTMCell object at 0x000002126D671A90> has the same name 'LSTMCell' as a built-in Keras object. Consider renaming <class 'keras.layers.recurrent.LSTMCell'> to avoid naming conflicts when loading with `tf.keras.models.load_model`. If renaming is not possible, pass the object in the `custom_objects` parameter of the load function.\n"
     ]
    },
    {
     "name": "stdout",
     "output_type": "stream",
     "text": [
      "INFO:tensorflow:Assets written to: models\\LSTM_ts\\assets\n"
     ]
    },
    {
     "name": "stderr",
     "output_type": "stream",
     "text": [
      "INFO:tensorflow:Assets written to: models\\LSTM_ts\\assets\n",
      "WARNING:absl:<keras.layers.recurrent.LSTMCell object at 0x000002126D671A90> has the same name 'LSTMCell' as a built-in Keras object. Consider renaming <class 'keras.layers.recurrent.LSTMCell'> to avoid naming conflicts when loading with `tf.keras.models.load_model`. If renaming is not possible, pass the object in the `custom_objects` parameter of the load function.\n"
     ]
    },
    {
     "name": "stdout",
     "output_type": "stream",
     "text": [
      "INFO:tensorflow:Assets written to: models\\LSTM_ts\\assets\n"
     ]
    },
    {
     "name": "stderr",
     "output_type": "stream",
     "text": [
      "INFO:tensorflow:Assets written to: models\\LSTM_ts\\assets\n",
      "WARNING:absl:<keras.layers.recurrent.LSTMCell object at 0x000002126D671A90> has the same name 'LSTMCell' as a built-in Keras object. Consider renaming <class 'keras.layers.recurrent.LSTMCell'> to avoid naming conflicts when loading with `tf.keras.models.load_model`. If renaming is not possible, pass the object in the `custom_objects` parameter of the load function.\n"
     ]
    },
    {
     "name": "stdout",
     "output_type": "stream",
     "text": [
      "INFO:tensorflow:Assets written to: models\\LSTM_ts\\assets\n"
     ]
    },
    {
     "name": "stderr",
     "output_type": "stream",
     "text": [
      "INFO:tensorflow:Assets written to: models\\LSTM_ts\\assets\n",
      "WARNING:absl:<keras.layers.recurrent.LSTMCell object at 0x000002126D671A90> has the same name 'LSTMCell' as a built-in Keras object. Consider renaming <class 'keras.layers.recurrent.LSTMCell'> to avoid naming conflicts when loading with `tf.keras.models.load_model`. If renaming is not possible, pass the object in the `custom_objects` parameter of the load function.\n"
     ]
    },
    {
     "name": "stdout",
     "output_type": "stream",
     "text": [
      "INFO:tensorflow:Assets written to: models\\LSTM_ts\\assets\n"
     ]
    },
    {
     "name": "stderr",
     "output_type": "stream",
     "text": [
      "INFO:tensorflow:Assets written to: models\\LSTM_ts\\assets\n",
      "WARNING:absl:<keras.layers.recurrent.LSTMCell object at 0x000002126D671A90> has the same name 'LSTMCell' as a built-in Keras object. Consider renaming <class 'keras.layers.recurrent.LSTMCell'> to avoid naming conflicts when loading with `tf.keras.models.load_model`. If renaming is not possible, pass the object in the `custom_objects` parameter of the load function.\n"
     ]
    },
    {
     "name": "stdout",
     "output_type": "stream",
     "text": [
      "INFO:tensorflow:Assets written to: models\\LSTM_ts\\assets\n"
     ]
    },
    {
     "name": "stderr",
     "output_type": "stream",
     "text": [
      "INFO:tensorflow:Assets written to: models\\LSTM_ts\\assets\n",
      "WARNING:absl:<keras.layers.recurrent.LSTMCell object at 0x000002126D671A90> has the same name 'LSTMCell' as a built-in Keras object. Consider renaming <class 'keras.layers.recurrent.LSTMCell'> to avoid naming conflicts when loading with `tf.keras.models.load_model`. If renaming is not possible, pass the object in the `custom_objects` parameter of the load function.\n"
     ]
    },
    {
     "name": "stdout",
     "output_type": "stream",
     "text": [
      "INFO:tensorflow:Assets written to: models\\LSTM_ts\\assets\n"
     ]
    },
    {
     "name": "stderr",
     "output_type": "stream",
     "text": [
      "INFO:tensorflow:Assets written to: models\\LSTM_ts\\assets\n",
      "WARNING:absl:<keras.layers.recurrent.LSTMCell object at 0x000002126D671A90> has the same name 'LSTMCell' as a built-in Keras object. Consider renaming <class 'keras.layers.recurrent.LSTMCell'> to avoid naming conflicts when loading with `tf.keras.models.load_model`. If renaming is not possible, pass the object in the `custom_objects` parameter of the load function.\n"
     ]
    },
    {
     "name": "stdout",
     "output_type": "stream",
     "text": [
      "INFO:tensorflow:Assets written to: models\\LSTM_ts\\assets\n"
     ]
    },
    {
     "name": "stderr",
     "output_type": "stream",
     "text": [
      "INFO:tensorflow:Assets written to: models\\LSTM_ts\\assets\n",
      "WARNING:absl:<keras.layers.recurrent.LSTMCell object at 0x000002126D671A90> has the same name 'LSTMCell' as a built-in Keras object. Consider renaming <class 'keras.layers.recurrent.LSTMCell'> to avoid naming conflicts when loading with `tf.keras.models.load_model`. If renaming is not possible, pass the object in the `custom_objects` parameter of the load function.\n"
     ]
    },
    {
     "name": "stdout",
     "output_type": "stream",
     "text": [
      "INFO:tensorflow:Assets written to: models\\LSTM_ts\\assets\n"
     ]
    },
    {
     "name": "stderr",
     "output_type": "stream",
     "text": [
      "INFO:tensorflow:Assets written to: models\\LSTM_ts\\assets\n",
      "WARNING:absl:<keras.layers.recurrent.LSTMCell object at 0x000002126D671A90> has the same name 'LSTMCell' as a built-in Keras object. Consider renaming <class 'keras.layers.recurrent.LSTMCell'> to avoid naming conflicts when loading with `tf.keras.models.load_model`. If renaming is not possible, pass the object in the `custom_objects` parameter of the load function.\n"
     ]
    },
    {
     "name": "stdout",
     "output_type": "stream",
     "text": [
      "INFO:tensorflow:Assets written to: models\\LSTM_ts\\assets\n"
     ]
    },
    {
     "name": "stderr",
     "output_type": "stream",
     "text": [
      "INFO:tensorflow:Assets written to: models\\LSTM_ts\\assets\n",
      "WARNING:absl:<keras.layers.recurrent.LSTMCell object at 0x000002126D671A90> has the same name 'LSTMCell' as a built-in Keras object. Consider renaming <class 'keras.layers.recurrent.LSTMCell'> to avoid naming conflicts when loading with `tf.keras.models.load_model`. If renaming is not possible, pass the object in the `custom_objects` parameter of the load function.\n"
     ]
    },
    {
     "name": "stdout",
     "output_type": "stream",
     "text": [
      "INFO:tensorflow:Assets written to: models\\LSTM_ts\\assets\n"
     ]
    },
    {
     "name": "stderr",
     "output_type": "stream",
     "text": [
      "INFO:tensorflow:Assets written to: models\\LSTM_ts\\assets\n",
      "WARNING:absl:<keras.layers.recurrent.LSTMCell object at 0x000002126D671A90> has the same name 'LSTMCell' as a built-in Keras object. Consider renaming <class 'keras.layers.recurrent.LSTMCell'> to avoid naming conflicts when loading with `tf.keras.models.load_model`. If renaming is not possible, pass the object in the `custom_objects` parameter of the load function.\n"
     ]
    },
    {
     "name": "stdout",
     "output_type": "stream",
     "text": [
      "INFO:tensorflow:Assets written to: models\\LSTM_ts\\assets\n"
     ]
    },
    {
     "name": "stderr",
     "output_type": "stream",
     "text": [
      "INFO:tensorflow:Assets written to: models\\LSTM_ts\\assets\n",
      "WARNING:absl:<keras.layers.recurrent.LSTMCell object at 0x000002126D671A90> has the same name 'LSTMCell' as a built-in Keras object. Consider renaming <class 'keras.layers.recurrent.LSTMCell'> to avoid naming conflicts when loading with `tf.keras.models.load_model`. If renaming is not possible, pass the object in the `custom_objects` parameter of the load function.\n"
     ]
    },
    {
     "name": "stdout",
     "output_type": "stream",
     "text": [
      "INFO:tensorflow:Assets written to: models\\LSTM_ts\\assets\n"
     ]
    },
    {
     "name": "stderr",
     "output_type": "stream",
     "text": [
      "INFO:tensorflow:Assets written to: models\\LSTM_ts\\assets\n",
      "WARNING:absl:<keras.layers.recurrent.LSTMCell object at 0x000002126D671A90> has the same name 'LSTMCell' as a built-in Keras object. Consider renaming <class 'keras.layers.recurrent.LSTMCell'> to avoid naming conflicts when loading with `tf.keras.models.load_model`. If renaming is not possible, pass the object in the `custom_objects` parameter of the load function.\n"
     ]
    },
    {
     "name": "stdout",
     "output_type": "stream",
     "text": [
      "INFO:tensorflow:Assets written to: models\\LSTM_ts\\assets\n"
     ]
    },
    {
     "name": "stderr",
     "output_type": "stream",
     "text": [
      "INFO:tensorflow:Assets written to: models\\LSTM_ts\\assets\n",
      "WARNING:absl:<keras.layers.recurrent.LSTMCell object at 0x000002126D671A90> has the same name 'LSTMCell' as a built-in Keras object. Consider renaming <class 'keras.layers.recurrent.LSTMCell'> to avoid naming conflicts when loading with `tf.keras.models.load_model`. If renaming is not possible, pass the object in the `custom_objects` parameter of the load function.\n"
     ]
    },
    {
     "name": "stdout",
     "output_type": "stream",
     "text": [
      "INFO:tensorflow:Assets written to: models\\LSTM_ts\\assets\n"
     ]
    },
    {
     "name": "stderr",
     "output_type": "stream",
     "text": [
      "INFO:tensorflow:Assets written to: models\\LSTM_ts\\assets\n",
      "WARNING:absl:<keras.layers.recurrent.LSTMCell object at 0x000002126D671A90> has the same name 'LSTMCell' as a built-in Keras object. Consider renaming <class 'keras.layers.recurrent.LSTMCell'> to avoid naming conflicts when loading with `tf.keras.models.load_model`. If renaming is not possible, pass the object in the `custom_objects` parameter of the load function.\n"
     ]
    },
    {
     "name": "stdout",
     "output_type": "stream",
     "text": [
      "INFO:tensorflow:Assets written to: models\\LSTM_ts\\assets\n"
     ]
    },
    {
     "name": "stderr",
     "output_type": "stream",
     "text": [
      "INFO:tensorflow:Assets written to: models\\LSTM_ts\\assets\n",
      "WARNING:absl:<keras.layers.recurrent.LSTMCell object at 0x000002126D671A90> has the same name 'LSTMCell' as a built-in Keras object. Consider renaming <class 'keras.layers.recurrent.LSTMCell'> to avoid naming conflicts when loading with `tf.keras.models.load_model`. If renaming is not possible, pass the object in the `custom_objects` parameter of the load function.\n"
     ]
    },
    {
     "name": "stdout",
     "output_type": "stream",
     "text": [
      "INFO:tensorflow:Assets written to: models\\LSTM_ts\\assets\n"
     ]
    },
    {
     "name": "stderr",
     "output_type": "stream",
     "text": [
      "INFO:tensorflow:Assets written to: models\\LSTM_ts\\assets\n",
      "WARNING:absl:<keras.layers.recurrent.LSTMCell object at 0x000002126D671A90> has the same name 'LSTMCell' as a built-in Keras object. Consider renaming <class 'keras.layers.recurrent.LSTMCell'> to avoid naming conflicts when loading with `tf.keras.models.load_model`. If renaming is not possible, pass the object in the `custom_objects` parameter of the load function.\n"
     ]
    },
    {
     "name": "stdout",
     "output_type": "stream",
     "text": [
      "INFO:tensorflow:Assets written to: models\\LSTM_ts\\assets\n"
     ]
    },
    {
     "name": "stderr",
     "output_type": "stream",
     "text": [
      "INFO:tensorflow:Assets written to: models\\LSTM_ts\\assets\n",
      "WARNING:absl:<keras.layers.recurrent.LSTMCell object at 0x000002126D671A90> has the same name 'LSTMCell' as a built-in Keras object. Consider renaming <class 'keras.layers.recurrent.LSTMCell'> to avoid naming conflicts when loading with `tf.keras.models.load_model`. If renaming is not possible, pass the object in the `custom_objects` parameter of the load function.\n"
     ]
    },
    {
     "name": "stdout",
     "output_type": "stream",
     "text": [
      "INFO:tensorflow:Assets written to: models\\LSTM_ts\\assets\n"
     ]
    },
    {
     "name": "stderr",
     "output_type": "stream",
     "text": [
      "INFO:tensorflow:Assets written to: models\\LSTM_ts\\assets\n",
      "WARNING:absl:<keras.layers.recurrent.LSTMCell object at 0x000002126D671A90> has the same name 'LSTMCell' as a built-in Keras object. Consider renaming <class 'keras.layers.recurrent.LSTMCell'> to avoid naming conflicts when loading with `tf.keras.models.load_model`. If renaming is not possible, pass the object in the `custom_objects` parameter of the load function.\n"
     ]
    },
    {
     "name": "stdout",
     "output_type": "stream",
     "text": [
      "INFO:tensorflow:Assets written to: models\\LSTM_ts\\assets\n"
     ]
    },
    {
     "name": "stderr",
     "output_type": "stream",
     "text": [
      "INFO:tensorflow:Assets written to: models\\LSTM_ts\\assets\n",
      "WARNING:absl:<keras.layers.recurrent.LSTMCell object at 0x000002126D671A90> has the same name 'LSTMCell' as a built-in Keras object. Consider renaming <class 'keras.layers.recurrent.LSTMCell'> to avoid naming conflicts when loading with `tf.keras.models.load_model`. If renaming is not possible, pass the object in the `custom_objects` parameter of the load function.\n"
     ]
    },
    {
     "name": "stdout",
     "output_type": "stream",
     "text": [
      "INFO:tensorflow:Assets written to: models\\LSTM_ts\\assets\n"
     ]
    },
    {
     "name": "stderr",
     "output_type": "stream",
     "text": [
      "INFO:tensorflow:Assets written to: models\\LSTM_ts\\assets\n",
      "WARNING:absl:<keras.layers.recurrent.LSTMCell object at 0x000002126D671A90> has the same name 'LSTMCell' as a built-in Keras object. Consider renaming <class 'keras.layers.recurrent.LSTMCell'> to avoid naming conflicts when loading with `tf.keras.models.load_model`. If renaming is not possible, pass the object in the `custom_objects` parameter of the load function.\n"
     ]
    },
    {
     "name": "stdout",
     "output_type": "stream",
     "text": [
      "INFO:tensorflow:Assets written to: models\\LSTM_ts\\assets\n"
     ]
    },
    {
     "name": "stderr",
     "output_type": "stream",
     "text": [
      "INFO:tensorflow:Assets written to: models\\LSTM_ts\\assets\n",
      "WARNING:absl:<keras.layers.recurrent.LSTMCell object at 0x000002126D671A90> has the same name 'LSTMCell' as a built-in Keras object. Consider renaming <class 'keras.layers.recurrent.LSTMCell'> to avoid naming conflicts when loading with `tf.keras.models.load_model`. If renaming is not possible, pass the object in the `custom_objects` parameter of the load function.\n"
     ]
    },
    {
     "name": "stdout",
     "output_type": "stream",
     "text": [
      "INFO:tensorflow:Assets written to: models\\LSTM_ts\\assets\n"
     ]
    },
    {
     "name": "stderr",
     "output_type": "stream",
     "text": [
      "INFO:tensorflow:Assets written to: models\\LSTM_ts\\assets\n",
      "WARNING:absl:<keras.layers.recurrent.LSTMCell object at 0x000002126D671A90> has the same name 'LSTMCell' as a built-in Keras object. Consider renaming <class 'keras.layers.recurrent.LSTMCell'> to avoid naming conflicts when loading with `tf.keras.models.load_model`. If renaming is not possible, pass the object in the `custom_objects` parameter of the load function.\n"
     ]
    },
    {
     "name": "stdout",
     "output_type": "stream",
     "text": [
      "INFO:tensorflow:Assets written to: models\\LSTM_ts\\assets\n"
     ]
    },
    {
     "name": "stderr",
     "output_type": "stream",
     "text": [
      "INFO:tensorflow:Assets written to: models\\LSTM_ts\\assets\n",
      "WARNING:absl:<keras.layers.recurrent.LSTMCell object at 0x000002126D671A90> has the same name 'LSTMCell' as a built-in Keras object. Consider renaming <class 'keras.layers.recurrent.LSTMCell'> to avoid naming conflicts when loading with `tf.keras.models.load_model`. If renaming is not possible, pass the object in the `custom_objects` parameter of the load function.\n"
     ]
    },
    {
     "name": "stdout",
     "output_type": "stream",
     "text": [
      "INFO:tensorflow:Assets written to: models\\LSTM_ts\\assets\n"
     ]
    },
    {
     "name": "stderr",
     "output_type": "stream",
     "text": [
      "INFO:tensorflow:Assets written to: models\\LSTM_ts\\assets\n",
      "WARNING:absl:<keras.layers.recurrent.LSTMCell object at 0x000002126D671A90> has the same name 'LSTMCell' as a built-in Keras object. Consider renaming <class 'keras.layers.recurrent.LSTMCell'> to avoid naming conflicts when loading with `tf.keras.models.load_model`. If renaming is not possible, pass the object in the `custom_objects` parameter of the load function.\n"
     ]
    },
    {
     "name": "stdout",
     "output_type": "stream",
     "text": [
      "INFO:tensorflow:Assets written to: models\\LSTM_ts\\assets\n"
     ]
    },
    {
     "name": "stderr",
     "output_type": "stream",
     "text": [
      "INFO:tensorflow:Assets written to: models\\LSTM_ts\\assets\n",
      "WARNING:absl:<keras.layers.recurrent.LSTMCell object at 0x000002126D671A90> has the same name 'LSTMCell' as a built-in Keras object. Consider renaming <class 'keras.layers.recurrent.LSTMCell'> to avoid naming conflicts when loading with `tf.keras.models.load_model`. If renaming is not possible, pass the object in the `custom_objects` parameter of the load function.\n"
     ]
    },
    {
     "name": "stdout",
     "output_type": "stream",
     "text": [
      "INFO:tensorflow:Assets written to: models\\LSTM_ts\\assets\n"
     ]
    },
    {
     "name": "stderr",
     "output_type": "stream",
     "text": [
      "INFO:tensorflow:Assets written to: models\\LSTM_ts\\assets\n",
      "WARNING:absl:<keras.layers.recurrent.LSTMCell object at 0x000002126D671A90> has the same name 'LSTMCell' as a built-in Keras object. Consider renaming <class 'keras.layers.recurrent.LSTMCell'> to avoid naming conflicts when loading with `tf.keras.models.load_model`. If renaming is not possible, pass the object in the `custom_objects` parameter of the load function.\n"
     ]
    },
    {
     "name": "stdout",
     "output_type": "stream",
     "text": [
      "INFO:tensorflow:Assets written to: models\\LSTM_ts\\assets\n"
     ]
    },
    {
     "name": "stderr",
     "output_type": "stream",
     "text": [
      "INFO:tensorflow:Assets written to: models\\LSTM_ts\\assets\n",
      "WARNING:absl:<keras.layers.recurrent.LSTMCell object at 0x000002126D671A90> has the same name 'LSTMCell' as a built-in Keras object. Consider renaming <class 'keras.layers.recurrent.LSTMCell'> to avoid naming conflicts when loading with `tf.keras.models.load_model`. If renaming is not possible, pass the object in the `custom_objects` parameter of the load function.\n"
     ]
    },
    {
     "name": "stdout",
     "output_type": "stream",
     "text": [
      "INFO:tensorflow:Assets written to: models\\LSTM_ts\\assets\n"
     ]
    },
    {
     "name": "stderr",
     "output_type": "stream",
     "text": [
      "INFO:tensorflow:Assets written to: models\\LSTM_ts\\assets\n",
      "WARNING:absl:<keras.layers.recurrent.LSTMCell object at 0x000002126D671A90> has the same name 'LSTMCell' as a built-in Keras object. Consider renaming <class 'keras.layers.recurrent.LSTMCell'> to avoid naming conflicts when loading with `tf.keras.models.load_model`. If renaming is not possible, pass the object in the `custom_objects` parameter of the load function.\n"
     ]
    },
    {
     "name": "stdout",
     "output_type": "stream",
     "text": [
      "INFO:tensorflow:Assets written to: models\\LSTM_ts\\assets\n"
     ]
    },
    {
     "name": "stderr",
     "output_type": "stream",
     "text": [
      "INFO:tensorflow:Assets written to: models\\LSTM_ts\\assets\n",
      "WARNING:absl:<keras.layers.recurrent.LSTMCell object at 0x000002126D671A90> has the same name 'LSTMCell' as a built-in Keras object. Consider renaming <class 'keras.layers.recurrent.LSTMCell'> to avoid naming conflicts when loading with `tf.keras.models.load_model`. If renaming is not possible, pass the object in the `custom_objects` parameter of the load function.\n"
     ]
    },
    {
     "name": "stdout",
     "output_type": "stream",
     "text": [
      "INFO:tensorflow:Assets written to: models\\LSTM_ts\\assets\n"
     ]
    },
    {
     "name": "stderr",
     "output_type": "stream",
     "text": [
      "INFO:tensorflow:Assets written to: models\\LSTM_ts\\assets\n",
      "WARNING:absl:<keras.layers.recurrent.LSTMCell object at 0x000002126D671A90> has the same name 'LSTMCell' as a built-in Keras object. Consider renaming <class 'keras.layers.recurrent.LSTMCell'> to avoid naming conflicts when loading with `tf.keras.models.load_model`. If renaming is not possible, pass the object in the `custom_objects` parameter of the load function.\n"
     ]
    },
    {
     "name": "stdout",
     "output_type": "stream",
     "text": [
      "INFO:tensorflow:Assets written to: models\\LSTM_ts\\assets\n"
     ]
    },
    {
     "name": "stderr",
     "output_type": "stream",
     "text": [
      "INFO:tensorflow:Assets written to: models\\LSTM_ts\\assets\n",
      "WARNING:absl:<keras.layers.recurrent.LSTMCell object at 0x000002126D671A90> has the same name 'LSTMCell' as a built-in Keras object. Consider renaming <class 'keras.layers.recurrent.LSTMCell'> to avoid naming conflicts when loading with `tf.keras.models.load_model`. If renaming is not possible, pass the object in the `custom_objects` parameter of the load function.\n"
     ]
    },
    {
     "name": "stdout",
     "output_type": "stream",
     "text": [
      "INFO:tensorflow:Assets written to: models\\LSTM_ts\\assets\n"
     ]
    },
    {
     "name": "stderr",
     "output_type": "stream",
     "text": [
      "INFO:tensorflow:Assets written to: models\\LSTM_ts\\assets\n",
      "WARNING:absl:<keras.layers.recurrent.LSTMCell object at 0x000002126D671A90> has the same name 'LSTMCell' as a built-in Keras object. Consider renaming <class 'keras.layers.recurrent.LSTMCell'> to avoid naming conflicts when loading with `tf.keras.models.load_model`. If renaming is not possible, pass the object in the `custom_objects` parameter of the load function.\n"
     ]
    },
    {
     "name": "stdout",
     "output_type": "stream",
     "text": [
      "INFO:tensorflow:Assets written to: models\\LSTM_ts\\assets\n"
     ]
    },
    {
     "name": "stderr",
     "output_type": "stream",
     "text": [
      "INFO:tensorflow:Assets written to: models\\LSTM_ts\\assets\n",
      "WARNING:absl:<keras.layers.recurrent.LSTMCell object at 0x000002126D671A90> has the same name 'LSTMCell' as a built-in Keras object. Consider renaming <class 'keras.layers.recurrent.LSTMCell'> to avoid naming conflicts when loading with `tf.keras.models.load_model`. If renaming is not possible, pass the object in the `custom_objects` parameter of the load function.\n"
     ]
    },
    {
     "name": "stdout",
     "output_type": "stream",
     "text": [
      "INFO:tensorflow:Assets written to: models\\LSTM_ts\\assets\n"
     ]
    },
    {
     "name": "stderr",
     "output_type": "stream",
     "text": [
      "INFO:tensorflow:Assets written to: models\\LSTM_ts\\assets\n",
      "WARNING:absl:<keras.layers.recurrent.LSTMCell object at 0x000002126D671A90> has the same name 'LSTMCell' as a built-in Keras object. Consider renaming <class 'keras.layers.recurrent.LSTMCell'> to avoid naming conflicts when loading with `tf.keras.models.load_model`. If renaming is not possible, pass the object in the `custom_objects` parameter of the load function.\n"
     ]
    },
    {
     "name": "stdout",
     "output_type": "stream",
     "text": [
      "INFO:tensorflow:Assets written to: models\\LSTM_ts\\assets\n"
     ]
    },
    {
     "name": "stderr",
     "output_type": "stream",
     "text": [
      "INFO:tensorflow:Assets written to: models\\LSTM_ts\\assets\n",
      "WARNING:absl:<keras.layers.recurrent.LSTMCell object at 0x000002126D671A90> has the same name 'LSTMCell' as a built-in Keras object. Consider renaming <class 'keras.layers.recurrent.LSTMCell'> to avoid naming conflicts when loading with `tf.keras.models.load_model`. If renaming is not possible, pass the object in the `custom_objects` parameter of the load function.\n"
     ]
    },
    {
     "name": "stdout",
     "output_type": "stream",
     "text": [
      "INFO:tensorflow:Assets written to: models\\LSTM_ts\\assets\n"
     ]
    },
    {
     "name": "stderr",
     "output_type": "stream",
     "text": [
      "INFO:tensorflow:Assets written to: models\\LSTM_ts\\assets\n",
      "WARNING:absl:<keras.layers.recurrent.LSTMCell object at 0x000002126D671A90> has the same name 'LSTMCell' as a built-in Keras object. Consider renaming <class 'keras.layers.recurrent.LSTMCell'> to avoid naming conflicts when loading with `tf.keras.models.load_model`. If renaming is not possible, pass the object in the `custom_objects` parameter of the load function.\n"
     ]
    },
    {
     "name": "stdout",
     "output_type": "stream",
     "text": [
      "INFO:tensorflow:Assets written to: models\\LSTM_ts\\assets\n"
     ]
    },
    {
     "name": "stderr",
     "output_type": "stream",
     "text": [
      "INFO:tensorflow:Assets written to: models\\LSTM_ts\\assets\n",
      "WARNING:absl:<keras.layers.recurrent.LSTMCell object at 0x000002126D671A90> has the same name 'LSTMCell' as a built-in Keras object. Consider renaming <class 'keras.layers.recurrent.LSTMCell'> to avoid naming conflicts when loading with `tf.keras.models.load_model`. If renaming is not possible, pass the object in the `custom_objects` parameter of the load function.\n"
     ]
    },
    {
     "name": "stdout",
     "output_type": "stream",
     "text": [
      "INFO:tensorflow:Assets written to: models\\LSTM_ts\\assets\n"
     ]
    },
    {
     "name": "stderr",
     "output_type": "stream",
     "text": [
      "INFO:tensorflow:Assets written to: models\\LSTM_ts\\assets\n",
      "WARNING:absl:<keras.layers.recurrent.LSTMCell object at 0x000002126D671A90> has the same name 'LSTMCell' as a built-in Keras object. Consider renaming <class 'keras.layers.recurrent.LSTMCell'> to avoid naming conflicts when loading with `tf.keras.models.load_model`. If renaming is not possible, pass the object in the `custom_objects` parameter of the load function.\n"
     ]
    },
    {
     "name": "stdout",
     "output_type": "stream",
     "text": [
      "INFO:tensorflow:Assets written to: models\\LSTM_ts\\assets\n"
     ]
    },
    {
     "name": "stderr",
     "output_type": "stream",
     "text": [
      "INFO:tensorflow:Assets written to: models\\LSTM_ts\\assets\n",
      "WARNING:absl:<keras.layers.recurrent.LSTMCell object at 0x000002126D671A90> has the same name 'LSTMCell' as a built-in Keras object. Consider renaming <class 'keras.layers.recurrent.LSTMCell'> to avoid naming conflicts when loading with `tf.keras.models.load_model`. If renaming is not possible, pass the object in the `custom_objects` parameter of the load function.\n"
     ]
    },
    {
     "name": "stdout",
     "output_type": "stream",
     "text": [
      "INFO:tensorflow:Assets written to: models\\LSTM_ts\\assets\n"
     ]
    },
    {
     "name": "stderr",
     "output_type": "stream",
     "text": [
      "INFO:tensorflow:Assets written to: models\\LSTM_ts\\assets\n",
      "WARNING:absl:<keras.layers.recurrent.LSTMCell object at 0x000002126D671A90> has the same name 'LSTMCell' as a built-in Keras object. Consider renaming <class 'keras.layers.recurrent.LSTMCell'> to avoid naming conflicts when loading with `tf.keras.models.load_model`. If renaming is not possible, pass the object in the `custom_objects` parameter of the load function.\n"
     ]
    },
    {
     "name": "stdout",
     "output_type": "stream",
     "text": [
      "INFO:tensorflow:Assets written to: models\\LSTM_ts\\assets\n"
     ]
    },
    {
     "name": "stderr",
     "output_type": "stream",
     "text": [
      "INFO:tensorflow:Assets written to: models\\LSTM_ts\\assets\n",
      "WARNING:absl:<keras.layers.recurrent.LSTMCell object at 0x000002126D671A90> has the same name 'LSTMCell' as a built-in Keras object. Consider renaming <class 'keras.layers.recurrent.LSTMCell'> to avoid naming conflicts when loading with `tf.keras.models.load_model`. If renaming is not possible, pass the object in the `custom_objects` parameter of the load function.\n"
     ]
    },
    {
     "name": "stdout",
     "output_type": "stream",
     "text": [
      "INFO:tensorflow:Assets written to: models\\LSTM_ts\\assets\n"
     ]
    },
    {
     "name": "stderr",
     "output_type": "stream",
     "text": [
      "INFO:tensorflow:Assets written to: models\\LSTM_ts\\assets\n",
      "WARNING:absl:<keras.layers.recurrent.LSTMCell object at 0x000002126D671A90> has the same name 'LSTMCell' as a built-in Keras object. Consider renaming <class 'keras.layers.recurrent.LSTMCell'> to avoid naming conflicts when loading with `tf.keras.models.load_model`. If renaming is not possible, pass the object in the `custom_objects` parameter of the load function.\n"
     ]
    },
    {
     "name": "stdout",
     "output_type": "stream",
     "text": [
      "INFO:tensorflow:Assets written to: models\\LSTM_ts\\assets\n"
     ]
    },
    {
     "name": "stderr",
     "output_type": "stream",
     "text": [
      "INFO:tensorflow:Assets written to: models\\LSTM_ts\\assets\n",
      "WARNING:absl:<keras.layers.recurrent.LSTMCell object at 0x000002126D671A90> has the same name 'LSTMCell' as a built-in Keras object. Consider renaming <class 'keras.layers.recurrent.LSTMCell'> to avoid naming conflicts when loading with `tf.keras.models.load_model`. If renaming is not possible, pass the object in the `custom_objects` parameter of the load function.\n"
     ]
    },
    {
     "name": "stdout",
     "output_type": "stream",
     "text": [
      "INFO:tensorflow:Assets written to: models\\LSTM_ts\\assets\n"
     ]
    },
    {
     "name": "stderr",
     "output_type": "stream",
     "text": [
      "INFO:tensorflow:Assets written to: models\\LSTM_ts\\assets\n",
      "WARNING:absl:<keras.layers.recurrent.LSTMCell object at 0x000002126D671A90> has the same name 'LSTMCell' as a built-in Keras object. Consider renaming <class 'keras.layers.recurrent.LSTMCell'> to avoid naming conflicts when loading with `tf.keras.models.load_model`. If renaming is not possible, pass the object in the `custom_objects` parameter of the load function.\n"
     ]
    },
    {
     "name": "stdout",
     "output_type": "stream",
     "text": [
      "INFO:tensorflow:Assets written to: models\\LSTM_ts\\assets\n"
     ]
    },
    {
     "name": "stderr",
     "output_type": "stream",
     "text": [
      "INFO:tensorflow:Assets written to: models\\LSTM_ts\\assets\n",
      "WARNING:absl:<keras.layers.recurrent.LSTMCell object at 0x000002126D671A90> has the same name 'LSTMCell' as a built-in Keras object. Consider renaming <class 'keras.layers.recurrent.LSTMCell'> to avoid naming conflicts when loading with `tf.keras.models.load_model`. If renaming is not possible, pass the object in the `custom_objects` parameter of the load function.\n"
     ]
    },
    {
     "name": "stdout",
     "output_type": "stream",
     "text": [
      "INFO:tensorflow:Assets written to: models\\LSTM_ts\\assets\n"
     ]
    },
    {
     "name": "stderr",
     "output_type": "stream",
     "text": [
      "INFO:tensorflow:Assets written to: models\\LSTM_ts\\assets\n",
      "WARNING:absl:<keras.layers.recurrent.LSTMCell object at 0x000002126D671A90> has the same name 'LSTMCell' as a built-in Keras object. Consider renaming <class 'keras.layers.recurrent.LSTMCell'> to avoid naming conflicts when loading with `tf.keras.models.load_model`. If renaming is not possible, pass the object in the `custom_objects` parameter of the load function.\n"
     ]
    },
    {
     "name": "stdout",
     "output_type": "stream",
     "text": [
      "INFO:tensorflow:Assets written to: models\\LSTM_ts\\assets\n"
     ]
    },
    {
     "name": "stderr",
     "output_type": "stream",
     "text": [
      "INFO:tensorflow:Assets written to: models\\LSTM_ts\\assets\n",
      "WARNING:absl:<keras.layers.recurrent.LSTMCell object at 0x000002126D671A90> has the same name 'LSTMCell' as a built-in Keras object. Consider renaming <class 'keras.layers.recurrent.LSTMCell'> to avoid naming conflicts when loading with `tf.keras.models.load_model`. If renaming is not possible, pass the object in the `custom_objects` parameter of the load function.\n"
     ]
    },
    {
     "name": "stdout",
     "output_type": "stream",
     "text": [
      "INFO:tensorflow:Assets written to: models\\LSTM_ts\\assets\n"
     ]
    },
    {
     "name": "stderr",
     "output_type": "stream",
     "text": [
      "INFO:tensorflow:Assets written to: models\\LSTM_ts\\assets\n",
      "WARNING:absl:<keras.layers.recurrent.LSTMCell object at 0x000002126D671A90> has the same name 'LSTMCell' as a built-in Keras object. Consider renaming <class 'keras.layers.recurrent.LSTMCell'> to avoid naming conflicts when loading with `tf.keras.models.load_model`. If renaming is not possible, pass the object in the `custom_objects` parameter of the load function.\n"
     ]
    },
    {
     "name": "stdout",
     "output_type": "stream",
     "text": [
      "INFO:tensorflow:Assets written to: models\\LSTM_ts\\assets\n"
     ]
    },
    {
     "name": "stderr",
     "output_type": "stream",
     "text": [
      "INFO:tensorflow:Assets written to: models\\LSTM_ts\\assets\n",
      "WARNING:absl:<keras.layers.recurrent.LSTMCell object at 0x000002126D671A90> has the same name 'LSTMCell' as a built-in Keras object. Consider renaming <class 'keras.layers.recurrent.LSTMCell'> to avoid naming conflicts when loading with `tf.keras.models.load_model`. If renaming is not possible, pass the object in the `custom_objects` parameter of the load function.\n"
     ]
    },
    {
     "name": "stdout",
     "output_type": "stream",
     "text": [
      "INFO:tensorflow:Assets written to: models\\LSTM_ts\\assets\n"
     ]
    },
    {
     "name": "stderr",
     "output_type": "stream",
     "text": [
      "INFO:tensorflow:Assets written to: models\\LSTM_ts\\assets\n",
      "WARNING:absl:<keras.layers.recurrent.LSTMCell object at 0x000002126D671A90> has the same name 'LSTMCell' as a built-in Keras object. Consider renaming <class 'keras.layers.recurrent.LSTMCell'> to avoid naming conflicts when loading with `tf.keras.models.load_model`. If renaming is not possible, pass the object in the `custom_objects` parameter of the load function.\n"
     ]
    },
    {
     "name": "stdout",
     "output_type": "stream",
     "text": [
      "INFO:tensorflow:Assets written to: models\\LSTM_ts\\assets\n"
     ]
    },
    {
     "name": "stderr",
     "output_type": "stream",
     "text": [
      "INFO:tensorflow:Assets written to: models\\LSTM_ts\\assets\n",
      "WARNING:absl:<keras.layers.recurrent.LSTMCell object at 0x000002126D671A90> has the same name 'LSTMCell' as a built-in Keras object. Consider renaming <class 'keras.layers.recurrent.LSTMCell'> to avoid naming conflicts when loading with `tf.keras.models.load_model`. If renaming is not possible, pass the object in the `custom_objects` parameter of the load function.\n"
     ]
    },
    {
     "name": "stdout",
     "output_type": "stream",
     "text": [
      "INFO:tensorflow:Assets written to: models\\LSTM_ts\\assets\n"
     ]
    },
    {
     "name": "stderr",
     "output_type": "stream",
     "text": [
      "INFO:tensorflow:Assets written to: models\\LSTM_ts\\assets\n",
      "WARNING:absl:<keras.layers.recurrent.LSTMCell object at 0x000002126D671A90> has the same name 'LSTMCell' as a built-in Keras object. Consider renaming <class 'keras.layers.recurrent.LSTMCell'> to avoid naming conflicts when loading with `tf.keras.models.load_model`. If renaming is not possible, pass the object in the `custom_objects` parameter of the load function.\n"
     ]
    },
    {
     "name": "stdout",
     "output_type": "stream",
     "text": [
      "INFO:tensorflow:Assets written to: models\\LSTM_ts\\assets\n"
     ]
    },
    {
     "name": "stderr",
     "output_type": "stream",
     "text": [
      "INFO:tensorflow:Assets written to: models\\LSTM_ts\\assets\n",
      "WARNING:absl:<keras.layers.recurrent.LSTMCell object at 0x000002126D671A90> has the same name 'LSTMCell' as a built-in Keras object. Consider renaming <class 'keras.layers.recurrent.LSTMCell'> to avoid naming conflicts when loading with `tf.keras.models.load_model`. If renaming is not possible, pass the object in the `custom_objects` parameter of the load function.\n"
     ]
    },
    {
     "name": "stdout",
     "output_type": "stream",
     "text": [
      "INFO:tensorflow:Assets written to: models\\LSTM_ts\\assets\n"
     ]
    },
    {
     "name": "stderr",
     "output_type": "stream",
     "text": [
      "INFO:tensorflow:Assets written to: models\\LSTM_ts\\assets\n",
      "WARNING:absl:<keras.layers.recurrent.LSTMCell object at 0x000002126D671A90> has the same name 'LSTMCell' as a built-in Keras object. Consider renaming <class 'keras.layers.recurrent.LSTMCell'> to avoid naming conflicts when loading with `tf.keras.models.load_model`. If renaming is not possible, pass the object in the `custom_objects` parameter of the load function.\n"
     ]
    },
    {
     "name": "stdout",
     "output_type": "stream",
     "text": [
      "INFO:tensorflow:Assets written to: models\\LSTM_ts\\assets\n"
     ]
    },
    {
     "name": "stderr",
     "output_type": "stream",
     "text": [
      "INFO:tensorflow:Assets written to: models\\LSTM_ts\\assets\n",
      "WARNING:absl:<keras.layers.recurrent.LSTMCell object at 0x000002126D671A90> has the same name 'LSTMCell' as a built-in Keras object. Consider renaming <class 'keras.layers.recurrent.LSTMCell'> to avoid naming conflicts when loading with `tf.keras.models.load_model`. If renaming is not possible, pass the object in the `custom_objects` parameter of the load function.\n"
     ]
    },
    {
     "data": {
      "text/plain": [
       "<keras.callbacks.History at 0x2126d0886a0>"
      ]
     },
     "execution_count": 162,
     "metadata": {},
     "output_type": "execute_result"
    }
   ],
   "source": [
    "model5.fit(\n",
    "    x= train_windows,\n",
    "    y= train_labels, \n",
    "    epochs = 100,\n",
    "    verbose= 0,\n",
    "    batch_size = 128,\n",
    "    validation_data = (test_windows, test_labels),\n",
    "    callbacks=[checkpoint_cb(model_name=model5.name)]\n",
    ")"
   ]
  },
  {
   "cell_type": "code",
   "execution_count": 163,
   "metadata": {},
   "outputs": [],
   "source": [
    "model5 = tf.keras.models.load_model('models/LSTM_ts')"
   ]
  },
  {
   "cell_type": "code",
   "execution_count": 164,
   "metadata": {},
   "outputs": [
    {
     "name": "stdout",
     "output_type": "stream",
     "text": [
      "17/17 [==============================] - 0s 813us/step - loss: 1232.2941\n"
     ]
    },
    {
     "data": {
      "text/plain": [
       "1232.2940673828125"
      ]
     },
     "execution_count": 164,
     "metadata": {},
     "output_type": "execute_result"
    }
   ],
   "source": [
    "model5.evaluate(test_windows, test_labels)"
   ]
  },
  {
   "cell_type": "code",
   "execution_count": 166,
   "metadata": {},
   "outputs": [],
   "source": [
    "model5_preds = make_preds(model5, test_windows)"
   ]
  },
  {
   "cell_type": "code",
   "execution_count": 169,
   "metadata": {},
   "outputs": [],
   "source": [
    "model5_res = evaluate_preds(y_true=tf.squeeze(test_labels), y_pred=model5_preds)"
   ]
  },
  {
   "cell_type": "code",
   "execution_count": 170,
   "metadata": {},
   "outputs": [
    {
     "data": {
      "text/plain": [
       "{'MAE': 1232.2938,\n",
       " 'MSE': 3096133.8,\n",
       " 'RSME': 1759.5834,\n",
       " 'MAPE': 3.0802,\n",
       " 'MASE': 1.0811383}"
      ]
     },
     "execution_count": 170,
     "metadata": {},
     "output_type": "execute_result"
    }
   ],
   "source": [
    "model5_res"
   ]
  },
  {
   "cell_type": "code",
   "execution_count": 214,
   "metadata": {},
   "outputs": [],
   "source": [
    "class NBeatsBlock(tf.keras.layers.Layer):\n",
    "    def __init__(self, \n",
    "        input_size : int,\n",
    "        theta_size : int,\n",
    "        horizon : int,\n",
    "        n_neurons : int,\n",
    "        n_layers : int,\n",
    "        **kwargs):\n",
    "\n",
    "        super().__init__(**kwargs)\n",
    "        self.input_size = input_size\n",
    "        self.theta_size = theta_size\n",
    "        self.horizon = horizon\n",
    "        self.n_neurons = n_neurons\n",
    "        self.n_layers = n_layers\n",
    "\n",
    "        self.hidden = [tf.keras.layers.Dense(n_neurons, activation='relu') for _ in range(n_layers)]\n",
    "        self.theta_layer = tf.keras.layers.Dense(theta_size, activation='linear', name='theta')\n",
    "    \n",
    "    def call(self, inputs):\n",
    "        x = inputs\n",
    "        for layer in self.hidden:\n",
    "            x = layer(x)\n",
    "        theta = self.theta_layer(x)\n",
    "        backcast, forecast = theta[:, :self.input_size], theta[:, -self.horizon:]\n",
    "        return backcast, forecast"
   ]
  },
  {
   "cell_type": "code",
   "execution_count": 215,
   "metadata": {},
   "outputs": [
    {
     "data": {
      "text/html": [
       "<div>\n",
       "<style scoped>\n",
       "    .dataframe tbody tr th:only-of-type {\n",
       "        vertical-align: middle;\n",
       "    }\n",
       "\n",
       "    .dataframe tbody tr th {\n",
       "        vertical-align: top;\n",
       "    }\n",
       "\n",
       "    .dataframe thead th {\n",
       "        text-align: right;\n",
       "    }\n",
       "</style>\n",
       "<table border=\"1\" class=\"dataframe\">\n",
       "  <thead>\n",
       "    <tr style=\"text-align: right;\">\n",
       "      <th></th>\n",
       "      <th>Currency</th>\n",
       "      <th>Date</th>\n",
       "      <th>Closing Price (USD)</th>\n",
       "      <th>24h Open (USD)</th>\n",
       "      <th>24h High (USD)</th>\n",
       "      <th>24h Low (USD)</th>\n",
       "    </tr>\n",
       "  </thead>\n",
       "  <tbody>\n",
       "    <tr>\n",
       "      <th>0</th>\n",
       "      <td>BTC</td>\n",
       "      <td>2014-11-03</td>\n",
       "      <td>324.467934</td>\n",
       "      <td>323.826186</td>\n",
       "      <td>333.539527</td>\n",
       "      <td>323.106623</td>\n",
       "    </tr>\n",
       "    <tr>\n",
       "      <th>1</th>\n",
       "      <td>BTC</td>\n",
       "      <td>2014-11-04</td>\n",
       "      <td>328.644408</td>\n",
       "      <td>324.424164</td>\n",
       "      <td>330.671610</td>\n",
       "      <td>320.902900</td>\n",
       "    </tr>\n",
       "    <tr>\n",
       "      <th>2</th>\n",
       "      <td>BTC</td>\n",
       "      <td>2014-11-05</td>\n",
       "      <td>337.921358</td>\n",
       "      <td>328.653046</td>\n",
       "      <td>342.384170</td>\n",
       "      <td>328.597125</td>\n",
       "    </tr>\n",
       "    <tr>\n",
       "      <th>3</th>\n",
       "      <td>BTC</td>\n",
       "      <td>2014-11-06</td>\n",
       "      <td>348.992860</td>\n",
       "      <td>337.921358</td>\n",
       "      <td>352.585895</td>\n",
       "      <td>336.236830</td>\n",
       "    </tr>\n",
       "    <tr>\n",
       "      <th>4</th>\n",
       "      <td>BTC</td>\n",
       "      <td>2014-11-07</td>\n",
       "      <td>341.459753</td>\n",
       "      <td>348.992860</td>\n",
       "      <td>351.651854</td>\n",
       "      <td>340.196145</td>\n",
       "    </tr>\n",
       "  </tbody>\n",
       "</table>\n",
       "</div>"
      ],
      "text/plain": [
       "  Currency        Date  Closing Price (USD)  24h Open (USD)  24h High (USD)  \\\n",
       "0      BTC  2014-11-03           324.467934      323.826186      333.539527   \n",
       "1      BTC  2014-11-04           328.644408      324.424164      330.671610   \n",
       "2      BTC  2014-11-05           337.921358      328.653046      342.384170   \n",
       "3      BTC  2014-11-06           348.992860      337.921358      352.585895   \n",
       "4      BTC  2014-11-07           341.459753      348.992860      351.651854   \n",
       "\n",
       "   24h Low (USD)  \n",
       "0     323.106623  \n",
       "1     320.902900  \n",
       "2     328.597125  \n",
       "3     336.236830  \n",
       "4     340.196145  "
      ]
     },
     "execution_count": 215,
     "metadata": {},
     "output_type": "execute_result"
    }
   ],
   "source": [
    "## Creating High Performance Dataset for training\n",
    "\n",
    "HORIZON = 1\n",
    "WINDOW_SIZE = 7\n",
    "df.head()"
   ]
  },
  {
   "cell_type": "code",
   "execution_count": 216,
   "metadata": {},
   "outputs": [
    {
     "data": {
      "text/html": [
       "<div>\n",
       "<style scoped>\n",
       "    .dataframe tbody tr th:only-of-type {\n",
       "        vertical-align: middle;\n",
       "    }\n",
       "\n",
       "    .dataframe tbody tr th {\n",
       "        vertical-align: top;\n",
       "    }\n",
       "\n",
       "    .dataframe thead th {\n",
       "        text-align: right;\n",
       "    }\n",
       "</style>\n",
       "<table border=\"1\" class=\"dataframe\">\n",
       "  <thead>\n",
       "    <tr style=\"text-align: right;\">\n",
       "      <th></th>\n",
       "      <th>Price</th>\n",
       "    </tr>\n",
       "  </thead>\n",
       "  <tbody>\n",
       "    <tr>\n",
       "      <th>0</th>\n",
       "      <td>324.467934</td>\n",
       "    </tr>\n",
       "    <tr>\n",
       "      <th>1</th>\n",
       "      <td>328.644408</td>\n",
       "    </tr>\n",
       "    <tr>\n",
       "      <th>2</th>\n",
       "      <td>337.921358</td>\n",
       "    </tr>\n",
       "    <tr>\n",
       "      <th>3</th>\n",
       "      <td>348.992860</td>\n",
       "    </tr>\n",
       "    <tr>\n",
       "      <th>4</th>\n",
       "      <td>341.459753</td>\n",
       "    </tr>\n",
       "  </tbody>\n",
       "</table>\n",
       "</div>"
      ],
      "text/plain": [
       "        Price\n",
       "0  324.467934\n",
       "1  328.644408\n",
       "2  337.921358\n",
       "3  348.992860\n",
       "4  341.459753"
      ]
     },
     "execution_count": 216,
     "metadata": {},
     "output_type": "execute_result"
    }
   ],
   "source": [
    "bitcoin_prices = pd.DataFrame(df[\"Closing Price (USD)\"]).rename(columns={\"Closing Price (USD)\": \"Price\"})\n",
    "bitcoin_prices.head()"
   ]
  },
  {
   "cell_type": "code",
   "execution_count": 217,
   "metadata": {},
   "outputs": [
    {
     "data": {
      "text/html": [
       "<div>\n",
       "<style scoped>\n",
       "    .dataframe tbody tr th:only-of-type {\n",
       "        vertical-align: middle;\n",
       "    }\n",
       "\n",
       "    .dataframe tbody tr th {\n",
       "        vertical-align: top;\n",
       "    }\n",
       "\n",
       "    .dataframe thead th {\n",
       "        text-align: right;\n",
       "    }\n",
       "</style>\n",
       "<table border=\"1\" class=\"dataframe\">\n",
       "  <thead>\n",
       "    <tr style=\"text-align: right;\">\n",
       "      <th></th>\n",
       "      <th>Price</th>\n",
       "      <th>Price+1</th>\n",
       "      <th>Price+2</th>\n",
       "      <th>Price+3</th>\n",
       "      <th>Price+4</th>\n",
       "      <th>Price+5</th>\n",
       "      <th>Price+6</th>\n",
       "      <th>Price+7</th>\n",
       "    </tr>\n",
       "  </thead>\n",
       "  <tbody>\n",
       "    <tr>\n",
       "      <th>0</th>\n",
       "      <td>324.467934</td>\n",
       "      <td>NaN</td>\n",
       "      <td>NaN</td>\n",
       "      <td>NaN</td>\n",
       "      <td>NaN</td>\n",
       "      <td>NaN</td>\n",
       "      <td>NaN</td>\n",
       "      <td>NaN</td>\n",
       "    </tr>\n",
       "    <tr>\n",
       "      <th>1</th>\n",
       "      <td>328.644408</td>\n",
       "      <td>324.467934</td>\n",
       "      <td>NaN</td>\n",
       "      <td>NaN</td>\n",
       "      <td>NaN</td>\n",
       "      <td>NaN</td>\n",
       "      <td>NaN</td>\n",
       "      <td>NaN</td>\n",
       "    </tr>\n",
       "    <tr>\n",
       "      <th>2</th>\n",
       "      <td>337.921358</td>\n",
       "      <td>328.644408</td>\n",
       "      <td>324.467934</td>\n",
       "      <td>NaN</td>\n",
       "      <td>NaN</td>\n",
       "      <td>NaN</td>\n",
       "      <td>NaN</td>\n",
       "      <td>NaN</td>\n",
       "    </tr>\n",
       "    <tr>\n",
       "      <th>3</th>\n",
       "      <td>348.992860</td>\n",
       "      <td>337.921358</td>\n",
       "      <td>328.644408</td>\n",
       "      <td>324.467934</td>\n",
       "      <td>NaN</td>\n",
       "      <td>NaN</td>\n",
       "      <td>NaN</td>\n",
       "      <td>NaN</td>\n",
       "    </tr>\n",
       "    <tr>\n",
       "      <th>4</th>\n",
       "      <td>341.459753</td>\n",
       "      <td>348.992860</td>\n",
       "      <td>337.921358</td>\n",
       "      <td>328.644408</td>\n",
       "      <td>324.467934</td>\n",
       "      <td>NaN</td>\n",
       "      <td>NaN</td>\n",
       "      <td>NaN</td>\n",
       "    </tr>\n",
       "    <tr>\n",
       "      <th>5</th>\n",
       "      <td>344.745289</td>\n",
       "      <td>341.459753</td>\n",
       "      <td>348.992860</td>\n",
       "      <td>337.921358</td>\n",
       "      <td>328.644408</td>\n",
       "      <td>324.467934</td>\n",
       "      <td>NaN</td>\n",
       "      <td>NaN</td>\n",
       "    </tr>\n",
       "    <tr>\n",
       "      <th>6</th>\n",
       "      <td>357.239982</td>\n",
       "      <td>344.745289</td>\n",
       "      <td>341.459753</td>\n",
       "      <td>348.992860</td>\n",
       "      <td>337.921358</td>\n",
       "      <td>328.644408</td>\n",
       "      <td>324.467934</td>\n",
       "      <td>NaN</td>\n",
       "    </tr>\n",
       "    <tr>\n",
       "      <th>7</th>\n",
       "      <td>371.116917</td>\n",
       "      <td>357.239982</td>\n",
       "      <td>344.745289</td>\n",
       "      <td>341.459753</td>\n",
       "      <td>348.992860</td>\n",
       "      <td>337.921358</td>\n",
       "      <td>328.644408</td>\n",
       "      <td>324.467934</td>\n",
       "    </tr>\n",
       "    <tr>\n",
       "      <th>8</th>\n",
       "      <td>366.664633</td>\n",
       "      <td>371.116917</td>\n",
       "      <td>357.239982</td>\n",
       "      <td>344.745289</td>\n",
       "      <td>341.459753</td>\n",
       "      <td>348.992860</td>\n",
       "      <td>337.921358</td>\n",
       "      <td>328.644408</td>\n",
       "    </tr>\n",
       "    <tr>\n",
       "      <th>9</th>\n",
       "      <td>428.882925</td>\n",
       "      <td>366.664633</td>\n",
       "      <td>371.116917</td>\n",
       "      <td>357.239982</td>\n",
       "      <td>344.745289</td>\n",
       "      <td>341.459753</td>\n",
       "      <td>348.992860</td>\n",
       "      <td>337.921358</td>\n",
       "    </tr>\n",
       "  </tbody>\n",
       "</table>\n",
       "</div>"
      ],
      "text/plain": [
       "        Price     Price+1     Price+2     Price+3     Price+4     Price+5  \\\n",
       "0  324.467934         NaN         NaN         NaN         NaN         NaN   \n",
       "1  328.644408  324.467934         NaN         NaN         NaN         NaN   \n",
       "2  337.921358  328.644408  324.467934         NaN         NaN         NaN   \n",
       "3  348.992860  337.921358  328.644408  324.467934         NaN         NaN   \n",
       "4  341.459753  348.992860  337.921358  328.644408  324.467934         NaN   \n",
       "5  344.745289  341.459753  348.992860  337.921358  328.644408  324.467934   \n",
       "6  357.239982  344.745289  341.459753  348.992860  337.921358  328.644408   \n",
       "7  371.116917  357.239982  344.745289  341.459753  348.992860  337.921358   \n",
       "8  366.664633  371.116917  357.239982  344.745289  341.459753  348.992860   \n",
       "9  428.882925  366.664633  371.116917  357.239982  344.745289  341.459753   \n",
       "\n",
       "      Price+6     Price+7  \n",
       "0         NaN         NaN  \n",
       "1         NaN         NaN  \n",
       "2         NaN         NaN  \n",
       "3         NaN         NaN  \n",
       "4         NaN         NaN  \n",
       "5         NaN         NaN  \n",
       "6  324.467934         NaN  \n",
       "7  328.644408  324.467934  \n",
       "8  337.921358  328.644408  \n",
       "9  348.992860  337.921358  "
      ]
     },
     "execution_count": 217,
     "metadata": {},
     "output_type": "execute_result"
    }
   ],
   "source": [
    "# Make a copy of the Bitcoin historical data with block reward feature\n",
    "bitcoin_prices_windowed = bitcoin_prices.copy()\n",
    "\n",
    "# Add windowed columns\n",
    "for i in range(WINDOW_SIZE): # Shift values for each step in WINDOW_SIZE\n",
    "  bitcoin_prices_windowed[f\"Price+{i+1}\"] = bitcoin_prices_windowed[\"Price\"].shift(periods=i+1)\n",
    "bitcoin_prices_windowed.head(10)"
   ]
  },
  {
   "cell_type": "code",
   "execution_count": 218,
   "metadata": {},
   "outputs": [
    {
     "data": {
      "text/html": [
       "<div>\n",
       "<style scoped>\n",
       "    .dataframe tbody tr th:only-of-type {\n",
       "        vertical-align: middle;\n",
       "    }\n",
       "\n",
       "    .dataframe tbody tr th {\n",
       "        vertical-align: top;\n",
       "    }\n",
       "\n",
       "    .dataframe thead th {\n",
       "        text-align: right;\n",
       "    }\n",
       "</style>\n",
       "<table border=\"1\" class=\"dataframe\">\n",
       "  <thead>\n",
       "    <tr style=\"text-align: right;\">\n",
       "      <th></th>\n",
       "      <th>Price</th>\n",
       "      <th>Price+1</th>\n",
       "      <th>Price+2</th>\n",
       "      <th>Price+3</th>\n",
       "      <th>Price+4</th>\n",
       "      <th>Price+5</th>\n",
       "      <th>Price+6</th>\n",
       "      <th>Price+7</th>\n",
       "    </tr>\n",
       "  </thead>\n",
       "  <tbody>\n",
       "    <tr>\n",
       "      <th>7</th>\n",
       "      <td>371.116917</td>\n",
       "      <td>357.239982</td>\n",
       "      <td>344.745289</td>\n",
       "      <td>341.459753</td>\n",
       "      <td>348.992860</td>\n",
       "      <td>337.921358</td>\n",
       "      <td>328.644408</td>\n",
       "      <td>324.467934</td>\n",
       "    </tr>\n",
       "    <tr>\n",
       "      <th>8</th>\n",
       "      <td>366.664633</td>\n",
       "      <td>371.116917</td>\n",
       "      <td>357.239982</td>\n",
       "      <td>344.745289</td>\n",
       "      <td>341.459753</td>\n",
       "      <td>348.992860</td>\n",
       "      <td>337.921358</td>\n",
       "      <td>328.644408</td>\n",
       "    </tr>\n",
       "    <tr>\n",
       "      <th>9</th>\n",
       "      <td>428.882925</td>\n",
       "      <td>366.664633</td>\n",
       "      <td>371.116917</td>\n",
       "      <td>357.239982</td>\n",
       "      <td>344.745289</td>\n",
       "      <td>341.459753</td>\n",
       "      <td>348.992860</td>\n",
       "      <td>337.921358</td>\n",
       "    </tr>\n",
       "    <tr>\n",
       "      <th>10</th>\n",
       "      <td>418.944218</td>\n",
       "      <td>428.882925</td>\n",
       "      <td>366.664633</td>\n",
       "      <td>371.116917</td>\n",
       "      <td>357.239982</td>\n",
       "      <td>344.745289</td>\n",
       "      <td>341.459753</td>\n",
       "      <td>348.992860</td>\n",
       "    </tr>\n",
       "    <tr>\n",
       "      <th>11</th>\n",
       "      <td>399.688315</td>\n",
       "      <td>418.944218</td>\n",
       "      <td>428.882925</td>\n",
       "      <td>366.664633</td>\n",
       "      <td>371.116917</td>\n",
       "      <td>357.239982</td>\n",
       "      <td>344.745289</td>\n",
       "      <td>341.459753</td>\n",
       "    </tr>\n",
       "  </tbody>\n",
       "</table>\n",
       "</div>"
      ],
      "text/plain": [
       "         Price     Price+1     Price+2     Price+3     Price+4     Price+5  \\\n",
       "7   371.116917  357.239982  344.745289  341.459753  348.992860  337.921358   \n",
       "8   366.664633  371.116917  357.239982  344.745289  341.459753  348.992860   \n",
       "9   428.882925  366.664633  371.116917  357.239982  344.745289  341.459753   \n",
       "10  418.944218  428.882925  366.664633  371.116917  357.239982  344.745289   \n",
       "11  399.688315  418.944218  428.882925  366.664633  371.116917  357.239982   \n",
       "\n",
       "       Price+6     Price+7  \n",
       "7   328.644408  324.467934  \n",
       "8   337.921358  328.644408  \n",
       "9   348.992860  337.921358  \n",
       "10  341.459753  348.992860  \n",
       "11  344.745289  341.459753  "
      ]
     },
     "execution_count": 218,
     "metadata": {},
     "output_type": "execute_result"
    }
   ],
   "source": [
    "# Add windowed columns\n",
    "bitcoin_prices_nbeats = bitcoin_prices.copy()\n",
    "for i in range(WINDOW_SIZE):\n",
    "  bitcoin_prices_nbeats[f\"Price+{i+1}\"] = bitcoin_prices_nbeats[\"Price\"].shift(periods=i+1)\n",
    "bitcoin_prices_nbeats.dropna().head()"
   ]
  },
  {
   "cell_type": "code",
   "execution_count": 219,
   "metadata": {},
   "outputs": [
    {
     "data": {
      "text/plain": [
       "((2115, 7), (529, 7), (2115,), (529,))"
      ]
     },
     "execution_count": 219,
     "metadata": {},
     "output_type": "execute_result"
    }
   ],
   "source": [
    "# Make features and labels\n",
    "X = bitcoin_prices_nbeats.dropna().drop(\"Price\", axis=1)\n",
    "y = bitcoin_prices_nbeats.dropna()[\"Price\"]\n",
    "\n",
    "# Make train and test sets\n",
    "split_size = int(len(X) * 0.8)\n",
    "X_train, y_train = X[:split_size], y[:split_size]\n",
    "X_test, y_test = X[split_size:], y[split_size:]\n",
    "X_train.shape, X_test.shape, y_train.shape, y_test.shape"
   ]
  },
  {
   "cell_type": "code",
   "execution_count": 220,
   "metadata": {},
   "outputs": [],
   "source": [
    "train_ds_features = tf.data.Dataset.from_tensor_slices(X_train)\n",
    "train_ds_labels = tf.data.Dataset.from_tensor_slices(y_train)\n",
    "\n",
    "test_ds_features = tf.data.Dataset.from_tensor_slices(X_test)\n",
    "test_ds_labels = tf.data.Dataset.from_tensor_slices(y_test)"
   ]
  },
  {
   "cell_type": "code",
   "execution_count": 221,
   "metadata": {},
   "outputs": [],
   "source": [
    "train_ds = tf.data.Dataset.zip((train_ds_features, train_ds_labels))"
   ]
  },
  {
   "cell_type": "code",
   "execution_count": 222,
   "metadata": {},
   "outputs": [],
   "source": [
    "test_ds = tf.data.Dataset.zip((test_ds_features, test_ds_labels))"
   ]
  },
  {
   "cell_type": "code",
   "execution_count": 223,
   "metadata": {},
   "outputs": [],
   "source": [
    "BATCH_SIZE = 1024\n",
    "train_ds = train_ds.batch(BATCH_SIZE).prefetch(tf.data.AUTOTUNE)\n",
    "test_ds = test_ds.batch(BATCH_SIZE).prefetch(tf.data.AUTOTUNE)"
   ]
  },
  {
   "cell_type": "code",
   "execution_count": 224,
   "metadata": {},
   "outputs": [
    {
     "data": {
      "text/plain": [
       "(<PrefetchDataset shapes: ((None, 7), (None,)), types: (tf.float64, tf.float64)>,\n",
       " <PrefetchDataset shapes: ((None, 7), (None,)), types: (tf.float64, tf.float64)>)"
      ]
     },
     "execution_count": 224,
     "metadata": {},
     "output_type": "execute_result"
    }
   ],
   "source": [
    "train_ds, test_ds"
   ]
  },
  {
   "cell_type": "code",
   "execution_count": 225,
   "metadata": {},
   "outputs": [],
   "source": [
    "N_EPOCHS = 1024\n",
    "N_NEURONS = 512\n",
    "N_LAYERS = 4\n",
    "N_STACKS = 30\n",
    "\n",
    "INPUT_SIZE = WINDOW_SIZE * HORIZON\n",
    "THETA_SIZE = INPUT_SIZE + HORIZON"
   ]
  },
  {
   "cell_type": "code",
   "execution_count": 226,
   "metadata": {},
   "outputs": [
    {
     "data": {
      "text/plain": [
       "(7, 8)"
      ]
     },
     "execution_count": 226,
     "metadata": {},
     "output_type": "execute_result"
    }
   ],
   "source": [
    "INPUT_SIZE, THETA_SIZE"
   ]
  },
  {
   "cell_type": "code",
   "execution_count": 229,
   "metadata": {},
   "outputs": [],
   "source": [
    "tf.random.set_seed(42)\n",
    "def create_nbeats():\n",
    "    block_layer = NBeatsBlock(\n",
    "        input_size=INPUT_SIZE,\n",
    "        theta_size=THETA_SIZE,\n",
    "        horizon=HORIZON,\n",
    "        n_neurons=N_NEURONS,\n",
    "        n_layers = N_LAYERS,\n",
    "        name=\"InitialBlock\",\n",
    "    )\n",
    "\n",
    "    input_stack = layers.Input(shape=(INPUT_SIZE), name='stack_input')\n",
    "    backcast, forecast = block_layer(input_stack)\n",
    "    residuals = layers.subtract([input_stack, backcast], name=f\"subtract_00\")\n",
    "\n",
    "    for i,_ in enumerate(range(N_STACKS)):\n",
    "        backcast, block_forecast = NBeatsBlock(\n",
    "            input_size=INPUT_SIZE,\n",
    "            theta_size=THETA_SIZE,\n",
    "            horizon=HORIZON,\n",
    "            n_neurons=N_NEURONS,\n",
    "            n_layers = N_LAYERS,\n",
    "            name=f\"NBeatsBlock_{i}\",\n",
    "        )(residuals)\n",
    "\n",
    "        residuals = layers.subtract([residuals, backcast], name=f\"subtract_{i}\")\n",
    "        forecast= layers.add([forecast, block_forecast], name=f\"add_{i}\")\n",
    "    \n",
    "    model = tf.keras.Model(\n",
    "        inputs=input_stack,\n",
    "        outputs=forecast,\n",
    "        name='model_7_NBEATS'\n",
    "    )\n",
    "\n",
    "    model.compile(\n",
    "        loss='mae',\n",
    "        optimizer=tf.keras.optimizers.Adam(0.001),\n",
    "        metrics=['mae', 'mse'],\n",
    "    )\n",
    "\n",
    "    return model"
   ]
  },
  {
   "cell_type": "code",
   "execution_count": 230,
   "metadata": {},
   "outputs": [],
   "source": [
    "model7 = create_nbeats()"
   ]
  },
  {
   "cell_type": "code",
   "execution_count": 231,
   "metadata": {},
   "outputs": [
    {
     "name": "stdout",
     "output_type": "stream",
     "text": [
      "Model: \"model_7_NBEATS\"\n",
      "__________________________________________________________________________________________________\n",
      " Layer (type)                   Output Shape         Param #     Connected to                     \n",
      "==================================================================================================\n",
      " stack_input (InputLayer)       [(None, 7)]          0           []                               \n",
      "                                                                                                  \n",
      " InitialBlock (NBeatsBlock)     ((None, 7),          796168      ['stack_input[0][0]']            \n",
      "                                 (None, 1))                                                       \n",
      "                                                                                                  \n",
      " subtract_00 (Subtract)         (None, 7)            0           ['stack_input[0][0]',            \n",
      "                                                                  'InitialBlock[0][0]']           \n",
      "                                                                                                  \n",
      " NBeatsBlock_0 (NBeatsBlock)    ((None, 7),          796168      ['subtract_00[0][0]']            \n",
      "                                 (None, 1))                                                       \n",
      "                                                                                                  \n",
      " subtract_0 (Subtract)          (None, 7)            0           ['subtract_00[0][0]',            \n",
      "                                                                  'NBeatsBlock_0[0][0]']          \n",
      "                                                                                                  \n",
      " NBeatsBlock_1 (NBeatsBlock)    ((None, 7),          796168      ['subtract_0[0][0]']             \n",
      "                                 (None, 1))                                                       \n",
      "                                                                                                  \n",
      " subtract_1 (Subtract)          (None, 7)            0           ['subtract_0[0][0]',             \n",
      "                                                                  'NBeatsBlock_1[0][0]']          \n",
      "                                                                                                  \n",
      " NBeatsBlock_2 (NBeatsBlock)    ((None, 7),          796168      ['subtract_1[0][0]']             \n",
      "                                 (None, 1))                                                       \n",
      "                                                                                                  \n",
      " subtract_2 (Subtract)          (None, 7)            0           ['subtract_1[0][0]',             \n",
      "                                                                  'NBeatsBlock_2[0][0]']          \n",
      "                                                                                                  \n",
      " NBeatsBlock_3 (NBeatsBlock)    ((None, 7),          796168      ['subtract_2[0][0]']             \n",
      "                                 (None, 1))                                                       \n",
      "                                                                                                  \n",
      " subtract_3 (Subtract)          (None, 7)            0           ['subtract_2[0][0]',             \n",
      "                                                                  'NBeatsBlock_3[0][0]']          \n",
      "                                                                                                  \n",
      " NBeatsBlock_4 (NBeatsBlock)    ((None, 7),          796168      ['subtract_3[0][0]']             \n",
      "                                 (None, 1))                                                       \n",
      "                                                                                                  \n",
      " subtract_4 (Subtract)          (None, 7)            0           ['subtract_3[0][0]',             \n",
      "                                                                  'NBeatsBlock_4[0][0]']          \n",
      "                                                                                                  \n",
      " NBeatsBlock_5 (NBeatsBlock)    ((None, 7),          796168      ['subtract_4[0][0]']             \n",
      "                                 (None, 1))                                                       \n",
      "                                                                                                  \n",
      " subtract_5 (Subtract)          (None, 7)            0           ['subtract_4[0][0]',             \n",
      "                                                                  'NBeatsBlock_5[0][0]']          \n",
      "                                                                                                  \n",
      " NBeatsBlock_6 (NBeatsBlock)    ((None, 7),          796168      ['subtract_5[0][0]']             \n",
      "                                 (None, 1))                                                       \n",
      "                                                                                                  \n",
      " subtract_6 (Subtract)          (None, 7)            0           ['subtract_5[0][0]',             \n",
      "                                                                  'NBeatsBlock_6[0][0]']          \n",
      "                                                                                                  \n",
      " NBeatsBlock_7 (NBeatsBlock)    ((None, 7),          796168      ['subtract_6[0][0]']             \n",
      "                                 (None, 1))                                                       \n",
      "                                                                                                  \n",
      " subtract_7 (Subtract)          (None, 7)            0           ['subtract_6[0][0]',             \n",
      "                                                                  'NBeatsBlock_7[0][0]']          \n",
      "                                                                                                  \n",
      " NBeatsBlock_8 (NBeatsBlock)    ((None, 7),          796168      ['subtract_7[0][0]']             \n",
      "                                 (None, 1))                                                       \n",
      "                                                                                                  \n",
      " subtract_8 (Subtract)          (None, 7)            0           ['subtract_7[0][0]',             \n",
      "                                                                  'NBeatsBlock_8[0][0]']          \n",
      "                                                                                                  \n",
      " NBeatsBlock_9 (NBeatsBlock)    ((None, 7),          796168      ['subtract_8[0][0]']             \n",
      "                                 (None, 1))                                                       \n",
      "                                                                                                  \n",
      " subtract_9 (Subtract)          (None, 7)            0           ['subtract_8[0][0]',             \n",
      "                                                                  'NBeatsBlock_9[0][0]']          \n",
      "                                                                                                  \n",
      " NBeatsBlock_10 (NBeatsBlock)   ((None, 7),          796168      ['subtract_9[0][0]']             \n",
      "                                 (None, 1))                                                       \n",
      "                                                                                                  \n",
      " subtract_10 (Subtract)         (None, 7)            0           ['subtract_9[0][0]',             \n",
      "                                                                  'NBeatsBlock_10[0][0]']         \n",
      "                                                                                                  \n",
      " NBeatsBlock_11 (NBeatsBlock)   ((None, 7),          796168      ['subtract_10[0][0]']            \n",
      "                                 (None, 1))                                                       \n",
      "                                                                                                  \n",
      " subtract_11 (Subtract)         (None, 7)            0           ['subtract_10[0][0]',            \n",
      "                                                                  'NBeatsBlock_11[0][0]']         \n",
      "                                                                                                  \n",
      " NBeatsBlock_12 (NBeatsBlock)   ((None, 7),          796168      ['subtract_11[0][0]']            \n",
      "                                 (None, 1))                                                       \n",
      "                                                                                                  \n",
      " subtract_12 (Subtract)         (None, 7)            0           ['subtract_11[0][0]',            \n",
      "                                                                  'NBeatsBlock_12[0][0]']         \n",
      "                                                                                                  \n",
      " NBeatsBlock_13 (NBeatsBlock)   ((None, 7),          796168      ['subtract_12[0][0]']            \n",
      "                                 (None, 1))                                                       \n",
      "                                                                                                  \n",
      " subtract_13 (Subtract)         (None, 7)            0           ['subtract_12[0][0]',            \n",
      "                                                                  'NBeatsBlock_13[0][0]']         \n",
      "                                                                                                  \n",
      " NBeatsBlock_14 (NBeatsBlock)   ((None, 7),          796168      ['subtract_13[0][0]']            \n",
      "                                 (None, 1))                                                       \n",
      "                                                                                                  \n",
      " subtract_14 (Subtract)         (None, 7)            0           ['subtract_13[0][0]',            \n",
      "                                                                  'NBeatsBlock_14[0][0]']         \n",
      "                                                                                                  \n",
      " add_0 (Add)                    (None, 1)            0           ['InitialBlock[0][1]',           \n",
      "                                                                  'NBeatsBlock_0[0][1]']          \n",
      "                                                                                                  \n",
      " NBeatsBlock_15 (NBeatsBlock)   ((None, 7),          796168      ['subtract_14[0][0]']            \n",
      "                                 (None, 1))                                                       \n",
      "                                                                                                  \n",
      " add_1 (Add)                    (None, 1)            0           ['add_0[0][0]',                  \n",
      "                                                                  'NBeatsBlock_1[0][1]']          \n",
      "                                                                                                  \n",
      " subtract_15 (Subtract)         (None, 7)            0           ['subtract_14[0][0]',            \n",
      "                                                                  'NBeatsBlock_15[0][0]']         \n",
      "                                                                                                  \n",
      " add_2 (Add)                    (None, 1)            0           ['add_1[0][0]',                  \n",
      "                                                                  'NBeatsBlock_2[0][1]']          \n",
      "                                                                                                  \n",
      " NBeatsBlock_16 (NBeatsBlock)   ((None, 7),          796168      ['subtract_15[0][0]']            \n",
      "                                 (None, 1))                                                       \n",
      "                                                                                                  \n",
      " add_3 (Add)                    (None, 1)            0           ['add_2[0][0]',                  \n",
      "                                                                  'NBeatsBlock_3[0][1]']          \n",
      "                                                                                                  \n",
      " subtract_16 (Subtract)         (None, 7)            0           ['subtract_15[0][0]',            \n",
      "                                                                  'NBeatsBlock_16[0][0]']         \n",
      "                                                                                                  \n",
      " add_4 (Add)                    (None, 1)            0           ['add_3[0][0]',                  \n",
      "                                                                  'NBeatsBlock_4[0][1]']          \n",
      "                                                                                                  \n",
      " NBeatsBlock_17 (NBeatsBlock)   ((None, 7),          796168      ['subtract_16[0][0]']            \n",
      "                                 (None, 1))                                                       \n",
      "                                                                                                  \n",
      " add_5 (Add)                    (None, 1)            0           ['add_4[0][0]',                  \n",
      "                                                                  'NBeatsBlock_5[0][1]']          \n",
      "                                                                                                  \n",
      " subtract_17 (Subtract)         (None, 7)            0           ['subtract_16[0][0]',            \n",
      "                                                                  'NBeatsBlock_17[0][0]']         \n",
      "                                                                                                  \n",
      " add_6 (Add)                    (None, 1)            0           ['add_5[0][0]',                  \n",
      "                                                                  'NBeatsBlock_6[0][1]']          \n",
      "                                                                                                  \n",
      " NBeatsBlock_18 (NBeatsBlock)   ((None, 7),          796168      ['subtract_17[0][0]']            \n",
      "                                 (None, 1))                                                       \n",
      "                                                                                                  \n",
      " add_7 (Add)                    (None, 1)            0           ['add_6[0][0]',                  \n",
      "                                                                  'NBeatsBlock_7[0][1]']          \n",
      "                                                                                                  \n",
      " subtract_18 (Subtract)         (None, 7)            0           ['subtract_17[0][0]',            \n",
      "                                                                  'NBeatsBlock_18[0][0]']         \n",
      "                                                                                                  \n",
      " add_8 (Add)                    (None, 1)            0           ['add_7[0][0]',                  \n",
      "                                                                  'NBeatsBlock_8[0][1]']          \n",
      "                                                                                                  \n",
      " NBeatsBlock_19 (NBeatsBlock)   ((None, 7),          796168      ['subtract_18[0][0]']            \n",
      "                                 (None, 1))                                                       \n",
      "                                                                                                  \n",
      " add_9 (Add)                    (None, 1)            0           ['add_8[0][0]',                  \n",
      "                                                                  'NBeatsBlock_9[0][1]']          \n",
      "                                                                                                  \n",
      " subtract_19 (Subtract)         (None, 7)            0           ['subtract_18[0][0]',            \n",
      "                                                                  'NBeatsBlock_19[0][0]']         \n",
      "                                                                                                  \n",
      " add_10 (Add)                   (None, 1)            0           ['add_9[0][0]',                  \n",
      "                                                                  'NBeatsBlock_10[0][1]']         \n",
      "                                                                                                  \n",
      " NBeatsBlock_20 (NBeatsBlock)   ((None, 7),          796168      ['subtract_19[0][0]']            \n",
      "                                 (None, 1))                                                       \n",
      "                                                                                                  \n",
      " add_11 (Add)                   (None, 1)            0           ['add_10[0][0]',                 \n",
      "                                                                  'NBeatsBlock_11[0][1]']         \n",
      "                                                                                                  \n",
      " subtract_20 (Subtract)         (None, 7)            0           ['subtract_19[0][0]',            \n",
      "                                                                  'NBeatsBlock_20[0][0]']         \n",
      "                                                                                                  \n",
      " add_12 (Add)                   (None, 1)            0           ['add_11[0][0]',                 \n",
      "                                                                  'NBeatsBlock_12[0][1]']         \n",
      "                                                                                                  \n",
      " NBeatsBlock_21 (NBeatsBlock)   ((None, 7),          796168      ['subtract_20[0][0]']            \n",
      "                                 (None, 1))                                                       \n",
      "                                                                                                  \n",
      " add_13 (Add)                   (None, 1)            0           ['add_12[0][0]',                 \n",
      "                                                                  'NBeatsBlock_13[0][1]']         \n",
      "                                                                                                  \n",
      " subtract_21 (Subtract)         (None, 7)            0           ['subtract_20[0][0]',            \n",
      "                                                                  'NBeatsBlock_21[0][0]']         \n",
      "                                                                                                  \n",
      " add_14 (Add)                   (None, 1)            0           ['add_13[0][0]',                 \n",
      "                                                                  'NBeatsBlock_14[0][1]']         \n",
      "                                                                                                  \n",
      " NBeatsBlock_22 (NBeatsBlock)   ((None, 7),          796168      ['subtract_21[0][0]']            \n",
      "                                 (None, 1))                                                       \n",
      "                                                                                                  \n",
      " add_15 (Add)                   (None, 1)            0           ['add_14[0][0]',                 \n",
      "                                                                  'NBeatsBlock_15[0][1]']         \n",
      "                                                                                                  \n",
      " subtract_22 (Subtract)         (None, 7)            0           ['subtract_21[0][0]',            \n",
      "                                                                  'NBeatsBlock_22[0][0]']         \n",
      "                                                                                                  \n",
      " add_16 (Add)                   (None, 1)            0           ['add_15[0][0]',                 \n",
      "                                                                  'NBeatsBlock_16[0][1]']         \n",
      "                                                                                                  \n",
      " NBeatsBlock_23 (NBeatsBlock)   ((None, 7),          796168      ['subtract_22[0][0]']            \n",
      "                                 (None, 1))                                                       \n",
      "                                                                                                  \n",
      " add_17 (Add)                   (None, 1)            0           ['add_16[0][0]',                 \n",
      "                                                                  'NBeatsBlock_17[0][1]']         \n",
      "                                                                                                  \n",
      " subtract_23 (Subtract)         (None, 7)            0           ['subtract_22[0][0]',            \n",
      "                                                                  'NBeatsBlock_23[0][0]']         \n",
      "                                                                                                  \n",
      " add_18 (Add)                   (None, 1)            0           ['add_17[0][0]',                 \n",
      "                                                                  'NBeatsBlock_18[0][1]']         \n",
      "                                                                                                  \n",
      " NBeatsBlock_24 (NBeatsBlock)   ((None, 7),          796168      ['subtract_23[0][0]']            \n",
      "                                 (None, 1))                                                       \n",
      "                                                                                                  \n",
      " add_19 (Add)                   (None, 1)            0           ['add_18[0][0]',                 \n",
      "                                                                  'NBeatsBlock_19[0][1]']         \n",
      "                                                                                                  \n",
      " subtract_24 (Subtract)         (None, 7)            0           ['subtract_23[0][0]',            \n",
      "                                                                  'NBeatsBlock_24[0][0]']         \n",
      "                                                                                                  \n",
      " add_20 (Add)                   (None, 1)            0           ['add_19[0][0]',                 \n",
      "                                                                  'NBeatsBlock_20[0][1]']         \n",
      "                                                                                                  \n",
      " NBeatsBlock_25 (NBeatsBlock)   ((None, 7),          796168      ['subtract_24[0][0]']            \n",
      "                                 (None, 1))                                                       \n",
      "                                                                                                  \n",
      " add_21 (Add)                   (None, 1)            0           ['add_20[0][0]',                 \n",
      "                                                                  'NBeatsBlock_21[0][1]']         \n",
      "                                                                                                  \n",
      " subtract_25 (Subtract)         (None, 7)            0           ['subtract_24[0][0]',            \n",
      "                                                                  'NBeatsBlock_25[0][0]']         \n",
      "                                                                                                  \n",
      " add_22 (Add)                   (None, 1)            0           ['add_21[0][0]',                 \n",
      "                                                                  'NBeatsBlock_22[0][1]']         \n",
      "                                                                                                  \n",
      " NBeatsBlock_26 (NBeatsBlock)   ((None, 7),          796168      ['subtract_25[0][0]']            \n",
      "                                 (None, 1))                                                       \n",
      "                                                                                                  \n",
      " add_23 (Add)                   (None, 1)            0           ['add_22[0][0]',                 \n",
      "                                                                  'NBeatsBlock_23[0][1]']         \n",
      "                                                                                                  \n",
      " subtract_26 (Subtract)         (None, 7)            0           ['subtract_25[0][0]',            \n",
      "                                                                  'NBeatsBlock_26[0][0]']         \n",
      "                                                                                                  \n",
      " add_24 (Add)                   (None, 1)            0           ['add_23[0][0]',                 \n",
      "                                                                  'NBeatsBlock_24[0][1]']         \n",
      "                                                                                                  \n",
      " NBeatsBlock_27 (NBeatsBlock)   ((None, 7),          796168      ['subtract_26[0][0]']            \n",
      "                                 (None, 1))                                                       \n",
      "                                                                                                  \n",
      " add_25 (Add)                   (None, 1)            0           ['add_24[0][0]',                 \n",
      "                                                                  'NBeatsBlock_25[0][1]']         \n",
      "                                                                                                  \n",
      " subtract_27 (Subtract)         (None, 7)            0           ['subtract_26[0][0]',            \n",
      "                                                                  'NBeatsBlock_27[0][0]']         \n",
      "                                                                                                  \n",
      " add_26 (Add)                   (None, 1)            0           ['add_25[0][0]',                 \n",
      "                                                                  'NBeatsBlock_26[0][1]']         \n",
      "                                                                                                  \n",
      " NBeatsBlock_28 (NBeatsBlock)   ((None, 7),          796168      ['subtract_27[0][0]']            \n",
      "                                 (None, 1))                                                       \n",
      "                                                                                                  \n",
      " add_27 (Add)                   (None, 1)            0           ['add_26[0][0]',                 \n",
      "                                                                  'NBeatsBlock_27[0][1]']         \n",
      "                                                                                                  \n",
      " subtract_28 (Subtract)         (None, 7)            0           ['subtract_27[0][0]',            \n",
      "                                                                  'NBeatsBlock_28[0][0]']         \n",
      "                                                                                                  \n",
      " add_28 (Add)                   (None, 1)            0           ['add_27[0][0]',                 \n",
      "                                                                  'NBeatsBlock_28[0][1]']         \n",
      "                                                                                                  \n",
      " NBeatsBlock_29 (NBeatsBlock)   ((None, 7),          796168      ['subtract_28[0][0]']            \n",
      "                                 (None, 1))                                                       \n",
      "                                                                                                  \n",
      " add_29 (Add)                   (None, 1)            0           ['add_28[0][0]',                 \n",
      "                                                                  'NBeatsBlock_29[0][1]']         \n",
      "                                                                                                  \n",
      "==================================================================================================\n",
      "Total params: 24,681,208\n",
      "Trainable params: 24,681,208\n",
      "Non-trainable params: 0\n",
      "__________________________________________________________________________________________________\n"
     ]
    }
   ],
   "source": [
    "model7.summary()"
   ]
  },
  {
   "cell_type": "code",
   "execution_count": 232,
   "metadata": {},
   "outputs": [
    {
     "name": "stdout",
     "output_type": "stream",
     "text": [
      "\n",
      "Epoch 00315: ReduceLROnPlateau reducing learning rate to 0.00010000000474974513.\n",
      "\n",
      "Epoch 00415: ReduceLROnPlateau reducing learning rate to 1.0000000474974514e-05.\n"
     ]
    },
    {
     "data": {
      "text/plain": [
       "<keras.callbacks.History at 0x21278c03070>"
      ]
     },
     "execution_count": 232,
     "metadata": {},
     "output_type": "execute_result"
    }
   ],
   "source": [
    "model7.fit(\n",
    "    train_ds,\n",
    "    epochs=N_EPOCHS,\n",
    "    validation_data= test_ds,\n",
    "    verbose=0,\n",
    "    callbacks=[tf.keras.callbacks.EarlyStopping(monitor=\"val_loss\", patience=200, restore_best_weights=True),\n",
    "                      tf.keras.callbacks.ReduceLROnPlateau(monitor=\"val_loss\", patience=100, verbose=1)]\n",
    ")"
   ]
  },
  {
   "cell_type": "code",
   "execution_count": 233,
   "metadata": {},
   "outputs": [
    {
     "name": "stdout",
     "output_type": "stream",
     "text": [
      "1/1 [==============================] - 0s 101ms/step - loss: 1195.0071 - mae: 1195.0071 - mse: 2941354.2500\n"
     ]
    },
    {
     "data": {
      "text/plain": [
       "[1195.007080078125, 1195.007080078125, 2941354.25]"
      ]
     },
     "execution_count": 233,
     "metadata": {},
     "output_type": "execute_result"
    }
   ],
   "source": [
    "model7.evaluate(test_ds)"
   ]
  },
  {
   "cell_type": "code",
   "execution_count": 234,
   "metadata": {},
   "outputs": [],
   "source": [
    "model7_preds = make_preds(model7, test_ds)"
   ]
  },
  {
   "cell_type": "code",
   "execution_count": 235,
   "metadata": {},
   "outputs": [],
   "source": [
    "model7_res = evaluate_preds(y_true=y_test, y_pred=model7_preds)"
   ]
  },
  {
   "cell_type": "code",
   "execution_count": 236,
   "metadata": {},
   "outputs": [
    {
     "data": {
      "text/plain": [
       "{'MAE': 1195.0071,\n",
       " 'MSE': 2941354.2,\n",
       " 'RSME': 1715.0377,\n",
       " 'MAPE': 3.0100145,\n",
       " 'MASE': 1.0484252}"
      ]
     },
     "execution_count": 236,
     "metadata": {},
     "output_type": "execute_result"
    }
   ],
   "source": [
    "model7_res"
   ]
  },
  {
   "cell_type": "code",
   "execution_count": 237,
   "metadata": {},
   "outputs": [
    {
     "name": "stdout",
     "output_type": "stream",
     "text": [
      "('You must install pydot (`pip install pydot`) and install graphviz (see instructions at https://graphviz.gitlab.io/download/) ', 'for plot_model/model_to_dot to work.')\n"
     ]
    }
   ],
   "source": [
    "from tensorflow.keras.utils import plot_model\n",
    "plot_model(model7)"
   ]
  },
  {
   "cell_type": "code",
   "execution_count": 240,
   "metadata": {},
   "outputs": [],
   "source": [
    "def ensemble_models(\n",
    "    horizon=HORIZON,\n",
    "    train_ds=train_ds,\n",
    "    test_ds=test_ds,\n",
    "    num_iter=10,\n",
    "    num_epochs=100,\n",
    "    loss_fns=[\"mae\", \"mse\", \"mape\"],\n",
    "    ):\n",
    "    '''\n",
    "    Returns a list of num_iter models each trained on MAE, MSE and MAPE loss\n",
    "\n",
    "    For example,\n",
    "    10 * len([\"mae\", \"mse\", \"mape\"])\n",
    "    '''\n",
    "\n",
    "    ensemble_models = []\n",
    "    for i in range(num_iter):\n",
    "\n",
    "        # create new model\n",
    "        for loss_function in loss_fns:\n",
    "            print(f\"Optimizing model by reducing  {loss_function} for {num_epochs}, model number {i}.\")\n",
    "\n",
    "            model = tf.keras.Sequential([\n",
    "                layers.Dense(128, kernel_initializer='he_normal', activation='relu'),\n",
    "                layers.Dense(128, kernel_initializer='he_normal', activation='relu'),\n",
    "                layers.Dense(HORIZON),\n",
    "            ])\n",
    "\n",
    "            model.compile(loss=loss_function,\n",
    "                          optimizer=tf.keras.optimizers.Adam(),\n",
    "                          metrics=['mae', 'mse']\n",
    "                )\n",
    "            model.fit(\n",
    "                train_ds,\n",
    "                epochs=num_epochs,\n",
    "                verbose=0,\n",
    "                validation_data = test_ds,\n",
    "                callbacks = [\n",
    "                    tf.keras.callbacks.EarlyStopping(monitor='val_loss', patience=200, restore_best_weights=True),\n",
    "                    tf.keras.callbacks.ReduceLROnPlateau(monitor='val_loss', patience=100, verbose=1)\n",
    "                    ]\n",
    "            )\n",
    "            ensemble_models.append(model)\n",
    "    return ensemble_models\n"
   ]
  },
  {
   "cell_type": "code",
   "execution_count": 241,
   "metadata": {},
   "outputs": [
    {
     "name": "stdout",
     "output_type": "stream",
     "text": [
      "Optimizing model by reducing  mae for 1000, model number 0.\n",
      "Optimizing model by reducing  mse for 1000, model number 0.\n",
      "\n",
      "Epoch 00487: ReduceLROnPlateau reducing learning rate to 0.00010000000474974513.\n",
      "\n",
      "Epoch 00587: ReduceLROnPlateau reducing learning rate to 1.0000000474974514e-05.\n",
      "Optimizing model by reducing  mape for 1000, model number 0.\n",
      "\n",
      "Epoch 00308: ReduceLROnPlateau reducing learning rate to 0.00010000000474974513.\n",
      "Optimizing model by reducing  mae for 1000, model number 1.\n",
      "Optimizing model by reducing  mse for 1000, model number 1.\n",
      "\n",
      "Epoch 00930: ReduceLROnPlateau reducing learning rate to 0.00010000000474974513.\n",
      "Optimizing model by reducing  mape for 1000, model number 1.\n",
      "\n",
      "Epoch 00175: ReduceLROnPlateau reducing learning rate to 0.00010000000474974513.\n",
      "\n",
      "Epoch 00907: ReduceLROnPlateau reducing learning rate to 1.0000000474974514e-05.\n",
      "Optimizing model by reducing  mae for 1000, model number 2.\n",
      "Optimizing model by reducing  mse for 1000, model number 2.\n",
      "\n",
      "Epoch 00286: ReduceLROnPlateau reducing learning rate to 0.00010000000474974513.\n",
      "\n",
      "Epoch 00386: ReduceLROnPlateau reducing learning rate to 1.0000000474974514e-05.\n",
      "Optimizing model by reducing  mape for 1000, model number 2.\n",
      "\n",
      "Epoch 00157: ReduceLROnPlateau reducing learning rate to 0.00010000000474974513.\n",
      "Optimizing model by reducing  mae for 1000, model number 3.\n",
      "\n",
      "Epoch 00481: ReduceLROnPlateau reducing learning rate to 0.00010000000474974513.\n",
      "\n",
      "Epoch 00940: ReduceLROnPlateau reducing learning rate to 1.0000000474974514e-05.\n",
      "Optimizing model by reducing  mse for 1000, model number 3.\n",
      "\n",
      "Epoch 00321: ReduceLROnPlateau reducing learning rate to 0.00010000000474974513.\n",
      "\n",
      "Epoch 00421: ReduceLROnPlateau reducing learning rate to 1.0000000474974514e-05.\n",
      "Optimizing model by reducing  mape for 1000, model number 3.\n",
      "\n",
      "Epoch 00117: ReduceLROnPlateau reducing learning rate to 0.00010000000474974513.\n",
      "Optimizing model by reducing  mae for 1000, model number 4.\n",
      "\n",
      "Epoch 00965: ReduceLROnPlateau reducing learning rate to 0.00010000000474974513.\n",
      "Optimizing model by reducing  mse for 1000, model number 4.\n",
      "\n",
      "Epoch 00297: ReduceLROnPlateau reducing learning rate to 0.00010000000474974513.\n",
      "\n",
      "Epoch 00397: ReduceLROnPlateau reducing learning rate to 1.0000000474974514e-05.\n",
      "Optimizing model by reducing  mape for 1000, model number 4.\n",
      "\n",
      "Epoch 00126: ReduceLROnPlateau reducing learning rate to 0.00010000000474974513.\n",
      "\n",
      "Epoch 00828: ReduceLROnPlateau reducing learning rate to 1.0000000474974514e-05.\n",
      "\n",
      "Epoch 00928: ReduceLROnPlateau reducing learning rate to 1.0000000656873453e-06.\n"
     ]
    }
   ],
   "source": [
    "models = ensemble_models(num_iter=5, num_epochs=1000)"
   ]
  },
  {
   "cell_type": "code",
   "execution_count": 248,
   "metadata": {},
   "outputs": [],
   "source": [
    "def ensemble_preds(models, data):\n",
    "    preds = []\n",
    "\n",
    "    for model in models:\n",
    "        pred = model.predict(data)\n",
    "        preds.append(pred)\n",
    "    \n",
    "    return tf.constant(tf.squeeze(preds))"
   ]
  },
  {
   "cell_type": "code",
   "execution_count": 249,
   "metadata": {},
   "outputs": [],
   "source": [
    "preds = ensemble_preds(models=models, data=test_ds)"
   ]
  },
  {
   "cell_type": "code",
   "execution_count": 250,
   "metadata": {},
   "outputs": [],
   "source": [
    "models_res = evaluate_preds(y_true = y_test, y_pred=np.median(preds, axis=0))"
   ]
  },
  {
   "cell_type": "code",
   "execution_count": 251,
   "metadata": {},
   "outputs": [
    {
     "data": {
      "text/plain": [
       "{'MAE': 1146.1455,\n",
       " 'MSE': 2788495.0,\n",
       " 'RSME': 1669.8788,\n",
       " 'MAPE': 2.8602996,\n",
       " 'MASE': 1.0055571}"
      ]
     },
     "execution_count": 251,
     "metadata": {},
     "output_type": "execute_result"
    }
   ],
   "source": [
    "model_res"
   ]
  },
  {
   "cell_type": "code",
   "execution_count": 253,
   "metadata": {},
   "outputs": [],
   "source": [
    "## Point based predictions are almost always gonna be bad\n",
    "\n",
    "## Want something like prediction intervals / uncertainty estimates\n",
    "\n",
    "def get_upper_lower(preds):\n",
    "\n",
    "    std = tf.math.reduce_std(preds, axis=0)\n",
    "\n",
    "    interval= 1.96 * std\n",
    "\n",
    "    preds_mean = tf.reduce_mean(preds, axis=0)\n",
    "\n",
    "    lower, upper = preds_mean - interval, preds_mean + interval\n",
    "    return lower,upper"
   ]
  },
  {
   "cell_type": "code",
   "execution_count": 254,
   "metadata": {},
   "outputs": [],
   "source": [
    "lower, upper = get_upper_lower(preds=preds)"
   ]
  },
  {
   "cell_type": "code",
   "execution_count": 256,
   "metadata": {},
   "outputs": [],
   "source": [
    "ensemble_median = np.median(preds, axis=0)"
   ]
  },
  {
   "cell_type": "code",
   "execution_count": 257,
   "metadata": {},
   "outputs": [
    {
     "data": {
      "image/png": "[encoded data removed]",
      "text/plain": [
       "<Figure size 720x504 with 1 Axes>"
      ]
     },
     "metadata": {
      "needs_background": "light"
     },
     "output_type": "display_data"
    }
   ],
   "source": [
    "offset = 500\n",
    "\n",
    "plt.figure(figsize=(10, 7))\n",
    "plt.plot(X_test.index[offset:], y_test[offset:], \"g\", label=\"Test Data\")\n",
    "plt.plot(X_test.index[offset:], ensemble_median[offset:], \"k-\", label=\"Ensemble Median\")\n",
    "plt.xlabel(\"Date\")\n",
    "plt.ylabel(\"BTC Price\")\n",
    "plt.fill_between(X_test.index[offset:], \n",
    "                 (lower)[offset:], \n",
    "                 (upper)[offset:], label=\"Prediction Intervals\")\n",
    "plt.legend(loc=\"upper left\", fontsize=14)"
   ]
  },
  {
   "cell_type": "code",
   "execution_count": null,
   "metadata": {},
   "outputs": [],
   "source": []
  }
 ],
 "metadata": {
  "interpreter": {
   "hash": "33706f6da9b28b12de3d1d78ea840e472fd78eb772adbd1546a885ac7cd73372"
  },
  "kernelspec": {
   "display_name": "Python 3.9.10 64-bit (system)",
   "language": "python",
   "name": "python3"
  },
  "language_info": {
   "codemirror_mode": {
    "name": "ipython",
    "version": 3
   },
   "file_extension": ".py",
   "mimetype": "text/x-python",
   "name": "python",
   "nbconvert_exporter": "python",
   "pygments_lexer": "ipython3",
   "version": "3.9.10"
  },
  "orig_nbformat": 4
 },
 "nbformat": 4,
 "nbformat_minor": 2
}
