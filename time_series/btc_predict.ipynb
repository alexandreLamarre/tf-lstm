{
 "cells": [
  {
   "cell_type": "code",
   "execution_count": 2,
   "metadata": {},
   "outputs": [],
   "source": [
    "import pandas as pd\n",
    "import tensorflow as tf\n",
    "import seaborn as sns"
   ]
  },
  {
   "cell_type": "code",
   "execution_count": 3,
   "metadata": {},
   "outputs": [],
   "source": [
    "df = pd.read_csv('BTC_USD_2014-11-03_2022-02-04-CoinDesk.csv')"
   ]
  },
  {
   "cell_type": "code",
   "execution_count": 4,
   "metadata": {},
   "outputs": [
    {
     "data": {
      "text/html": [
       "<div>\n",
       "<style scoped>\n",
       "    .dataframe tbody tr th:only-of-type {\n",
       "        vertical-align: middle;\n",
       "    }\n",
       "\n",
       "    .dataframe tbody tr th {\n",
       "        vertical-align: top;\n",
       "    }\n",
       "\n",
       "    .dataframe thead th {\n",
       "        text-align: right;\n",
       "    }\n",
       "</style>\n",
       "<table border=\"1\" class=\"dataframe\">\n",
       "  <thead>\n",
       "    <tr style=\"text-align: right;\">\n",
       "      <th></th>\n",
       "      <th>Currency</th>\n",
       "      <th>Date</th>\n",
       "      <th>Closing Price (USD)</th>\n",
       "      <th>24h Open (USD)</th>\n",
       "      <th>24h High (USD)</th>\n",
       "      <th>24h Low (USD)</th>\n",
       "    </tr>\n",
       "  </thead>\n",
       "  <tbody>\n",
       "    <tr>\n",
       "      <th>0</th>\n",
       "      <td>BTC</td>\n",
       "      <td>2014-11-03</td>\n",
       "      <td>324.467934</td>\n",
       "      <td>323.826186</td>\n",
       "      <td>333.539527</td>\n",
       "      <td>323.106623</td>\n",
       "    </tr>\n",
       "    <tr>\n",
       "      <th>1</th>\n",
       "      <td>BTC</td>\n",
       "      <td>2014-11-04</td>\n",
       "      <td>328.644408</td>\n",
       "      <td>324.424164</td>\n",
       "      <td>330.671610</td>\n",
       "      <td>320.902900</td>\n",
       "    </tr>\n",
       "    <tr>\n",
       "      <th>2</th>\n",
       "      <td>BTC</td>\n",
       "      <td>2014-11-05</td>\n",
       "      <td>337.921358</td>\n",
       "      <td>328.653046</td>\n",
       "      <td>342.384170</td>\n",
       "      <td>328.597125</td>\n",
       "    </tr>\n",
       "    <tr>\n",
       "      <th>3</th>\n",
       "      <td>BTC</td>\n",
       "      <td>2014-11-06</td>\n",
       "      <td>348.992860</td>\n",
       "      <td>337.921358</td>\n",
       "      <td>352.585895</td>\n",
       "      <td>336.236830</td>\n",
       "    </tr>\n",
       "    <tr>\n",
       "      <th>4</th>\n",
       "      <td>BTC</td>\n",
       "      <td>2014-11-07</td>\n",
       "      <td>341.459753</td>\n",
       "      <td>348.992860</td>\n",
       "      <td>351.651854</td>\n",
       "      <td>340.196145</td>\n",
       "    </tr>\n",
       "  </tbody>\n",
       "</table>\n",
       "</div>"
      ],
      "text/plain": [
       "  Currency        Date  Closing Price (USD)  24h Open (USD)  24h High (USD)  \\\n",
       "0      BTC  2014-11-03           324.467934      323.826186      333.539527   \n",
       "1      BTC  2014-11-04           328.644408      324.424164      330.671610   \n",
       "2      BTC  2014-11-05           337.921358      328.653046      342.384170   \n",
       "3      BTC  2014-11-06           348.992860      337.921358      352.585895   \n",
       "4      BTC  2014-11-07           341.459753      348.992860      351.651854   \n",
       "\n",
       "   24h Low (USD)  \n",
       "0     323.106623  \n",
       "1     320.902900  \n",
       "2     328.597125  \n",
       "3     336.236830  \n",
       "4     340.196145  "
      ]
     },
     "execution_count": 4,
     "metadata": {},
     "output_type": "execute_result"
    }
   ],
   "source": [
    "df.head()"
   ]
  },
  {
   "cell_type": "code",
   "execution_count": 5,
   "metadata": {},
   "outputs": [
    {
     "name": "stdout",
     "output_type": "stream",
     "text": [
      "<class 'pandas.core.frame.DataFrame'>\n",
      "RangeIndex: 2651 entries, 0 to 2650\n",
      "Data columns (total 6 columns):\n",
      " #   Column               Non-Null Count  Dtype  \n",
      "---  ------               --------------  -----  \n",
      " 0   Currency             2651 non-null   object \n",
      " 1   Date                 2651 non-null   object \n",
      " 2   Closing Price (USD)  2651 non-null   float64\n",
      " 3   24h Open (USD)       2651 non-null   float64\n",
      " 4   24h High (USD)       2651 non-null   float64\n",
      " 5   24h Low (USD)        2651 non-null   float64\n",
      "dtypes: float64(4), object(2)\n",
      "memory usage: 124.4+ KB\n"
     ]
    }
   ],
   "source": [
    "df.info()"
   ]
  },
  {
   "cell_type": "code",
   "execution_count": 6,
   "metadata": {},
   "outputs": [
    {
     "data": {
      "text/plain": [
       "Text(0.5, 1.0, 'Closing Price of Bitcoin from 2013 to 2022')"
      ]
     },
     "execution_count": 6,
     "metadata": {},
     "output_type": "execute_result"
    },
    {
     "data": {
      "image/png": "[encoded data removed]",
      "text/plain": [
       "<Figure size 432x288 with 1 Axes>"
      ]
     },
     "metadata": {
      "needs_background": "light"
     },
     "output_type": "display_data"
    }
   ],
   "source": [
    "sns.lineplot(data=df, x='Date', y='Closing Price (USD)').set_title('Closing Price of Bitcoin from 2013 to 2022')"
   ]
  },
  {
   "cell_type": "code",
   "execution_count": 7,
   "metadata": {},
   "outputs": [],
   "source": [
    "import csv\n",
    "from datetime import datetime"
   ]
  },
  {
   "cell_type": "code",
   "execution_count": 8,
   "metadata": {},
   "outputs": [],
   "source": [
    "timesteps = []\n",
    "btc_price = []\n",
    "with open('BTC_USD_2014-11-03_2022-02-04-CoinDesk.csv') as f:\n",
    "    csv_reader = csv.reader(f, delimiter= ',')\n",
    "    next(csv_reader)\n",
    "    for line in csv_reader:\n",
    "        timesteps.append(datetime.strptime(line[1], \"%Y-%m-%d\"))\n",
    "        btc_price.append(float(line[2])) # Closing price\n"
   ]
  },
  {
   "cell_type": "code",
   "execution_count": 9,
   "metadata": {},
   "outputs": [],
   "source": [
    "import matplotlib.pyplot as plt\n",
    "import numpy as np"
   ]
  },
  {
   "cell_type": "code",
   "execution_count": 10,
   "metadata": {},
   "outputs": [
    {
     "data": {
      "text/plain": [
       "Text(0.5, 0, 'Date')"
      ]
     },
     "execution_count": 10,
     "metadata": {},
     "output_type": "execute_result"
    },
    {
     "data": {
      "image/png": "[encoded data removed]",
      "text/plain": [
       "<Figure size 720x504 with 1 Axes>"
      ]
     },
     "metadata": {
      "needs_background": "light"
     },
     "output_type": "display_data"
    }
   ],
   "source": [
    "plt.figure(figsize=(10,7))\n",
    "plt.plot(timesteps, btc_price)\n",
    "plt.ylabel(\"BTC Price\")\n",
    "plt.title(\"Price of Bitcoin form 1 Oct 2013 to 2022\", fontsize=16)\n",
    "plt.xlabel(\"Date\")"
   ]
  },
  {
   "cell_type": "code",
   "execution_count": 11,
   "metadata": {},
   "outputs": [],
   "source": [
    "## Create train and test sets of our time series data\n",
    "from sklearn.model_selection import train_test_split\n",
    "\n",
    "## Don't do naive train_test split!!! Temporal coherence will be affected.\n",
    "split_size = int(0.8 * len(df))"
   ]
  },
  {
   "cell_type": "code",
   "execution_count": 12,
   "metadata": {},
   "outputs": [],
   "source": [
    "X_train, y_train = timesteps[:split_size], btc_price[:split_size]\n",
    "X_test, y_test = timesteps[split_size:], btc_price[split_size:]"
   ]
  },
  {
   "cell_type": "code",
   "execution_count": 13,
   "metadata": {},
   "outputs": [
    {
     "data": {
      "image/png": "[encoded data removed]",
      "text/plain": [
       "<Figure size 720x504 with 1 Axes>"
      ]
     },
     "metadata": {
      "needs_background": "light"
     },
     "output_type": "display_data"
    }
   ],
   "source": [
    "plt.figure(figsize=(10,7))\n",
    "plt.scatter(X_train, y_train, s=5, label = \"Train data\")\n",
    "plt.scatter(X_test, y_test, s =5, label = \"Test data\")\n",
    "plt.xlabel(\"Date\")\n",
    "plt.ylabel(\"BTC Price\")\n",
    "plt.legend(fontsize=14)\n",
    "plt.show()"
   ]
  },
  {
   "cell_type": "code",
   "execution_count": 14,
   "metadata": {},
   "outputs": [],
   "source": [
    "# Create a function to plot time series data\n",
    "def plot_time_series(timesteps, values, format='.', start=0, end=None, label=None):\n",
    "  \"\"\"\n",
    "  Plots a timesteps (a series of points in time) against values (a series of values across timesteps).\n",
    "  \n",
    "  Parameters\n",
    "  ---------\n",
    "  timesteps : array of timesteps\n",
    "  values : array of values across time\n",
    "  format : style of plot, default \".\"\n",
    "  start : where to start the plot (setting a value will index from start of timesteps & values)\n",
    "  end : where to end the plot (setting a value will index from end of timesteps & values)\n",
    "  label : label to show on plot of values\n",
    "  \"\"\"\n",
    "  # Plot the series\n",
    "  plt.plot(timesteps[start:end], values[start:end], format, label=label)\n",
    "  plt.xlabel(\"Time\")\n",
    "  plt.ylabel(\"BTC Price\")\n",
    "  if label:\n",
    "    plt.legend(fontsize=14) # make label bigger\n",
    "  plt.grid(True)"
   ]
  },
  {
   "cell_type": "code",
   "execution_count": 15,
   "metadata": {},
   "outputs": [
    {
     "data": {
      "image/png": "[encoded data removed]",
      "text/plain": [
       "<Figure size 720x504 with 1 Axes>"
      ]
     },
     "metadata": {
      "needs_background": "light"
     },
     "output_type": "display_data"
    }
   ],
   "source": [
    "# Try out our plotting function\n",
    "plt.figure(figsize=(10, 7))\n",
    "plot_time_series(timesteps=X_train, values=y_train, label=\"Train data\")\n",
    "plot_time_series(timesteps=X_test, values=y_test, label=\"Test data\")"
   ]
  },
  {
   "cell_type": "code",
   "execution_count": 16,
   "metadata": {},
   "outputs": [],
   "source": [
    "naive_forecast = np.array(y_test[:-1])"
   ]
  },
  {
   "cell_type": "code",
   "execution_count": 17,
   "metadata": {},
   "outputs": [],
   "source": [
    "def MASE(y_true, y_pred):\n",
    "    '''\n",
    "    Mean Absolute Scaled Error implementation for use in tensorflow.\n",
    "\n",
    "    Assumes no seasonality.\n",
    "    '''\n",
    "\n",
    "    mae = tf.reduce_mean(tf.abs(y_true - y_pred))\n",
    "\n",
    "    # mae naive forecase no seasonality\n",
    "    mae_naive_ns = tf.reduce_mean(tf.abs(y_true[1:] - y_true[:-1]))\n",
    "\n",
    "    return mae / mae_naive_ns\n"
   ]
  },
  {
   "cell_type": "code",
   "execution_count": 18,
   "metadata": {},
   "outputs": [
    {
     "data": {
      "text/plain": [
       "0.998293997073448"
      ]
     },
     "execution_count": 18,
     "metadata": {},
     "output_type": "execute_result"
    }
   ],
   "source": [
    "MASE(y_true=np.array(y_test[1:]), y_pred=naive_forecast).numpy()"
   ]
  },
  {
   "cell_type": "code",
   "execution_count": 19,
   "metadata": {},
   "outputs": [],
   "source": [
    "def evaluate_preds(y_true, y_pred) -> dict:\n",
    "    '''\n",
    "\n",
    "\n",
    "    @warning Converts all datatypes to float32 when evaluating\n",
    "\n",
    "    '''\n",
    "    y_true = tf.cast(y_true, tf.float32)\n",
    "    y_pred = tf.cast(y_pred, tf.float32)\n",
    "\n",
    "    mae = tf.keras.metrics.mean_absolute_error(y_true, y_pred)\n",
    "    mse = tf.keras.metrics.mean_squared_error(y_true, y_pred)\n",
    "    rmse = tf.sqrt(mse)\n",
    "    mape = tf.keras.metrics.mean_absolute_percentage_error(y_true, y_pred)\n",
    "    mase = MASE(y_true, y_pred)\n",
    "\n",
    "    return {\n",
    "        \"MAE\" : mae.numpy(),\n",
    "        \"MSE\" : mse.numpy(),\n",
    "        \"RSME\" : rmse.numpy(),\n",
    "        \"MAPE\" : mape.numpy(),\n",
    "        \"MASE\" : mase.numpy(),\n",
    "    }"
   ]
  },
  {
   "cell_type": "code",
   "execution_count": 20,
   "metadata": {},
   "outputs": [
    {
     "data": {
      "text/plain": [
       "{'MAE': 1136.5298,\n",
       " 'MSE': 2740204.0,\n",
       " 'RSME': 1655.3562,\n",
       " 'MAPE': 2.8412292,\n",
       " 'MASE': 0.998294}"
      ]
     },
     "execution_count": 20,
     "metadata": {},
     "output_type": "execute_result"
    }
   ],
   "source": [
    "evaluate_preds(y_true=y_test[1:], y_pred = naive_forecast)"
   ]
  },
  {
   "cell_type": "markdown",
   "metadata": {},
   "source": [
    "### Windowing our datasets - turning ts data into supervised learning"
   ]
  },
  {
   "cell_type": "code",
   "execution_count": 21,
   "metadata": {},
   "outputs": [],
   "source": [
    "HORIZON = 1\n",
    "WINDOW_SIZE = 7"
   ]
  },
  {
   "cell_type": "code",
   "execution_count": 22,
   "metadata": {},
   "outputs": [],
   "source": [
    "def get_labelled_window(x, horizon = HORIZON):\n",
    "    '''\n",
    "    Creates labels for windowed dataset\n",
    "\n",
    "    Input : [0,1,2,3,4,5,6,7]\n",
    "    '''\n",
    "    return x[:, :-horizon], x[:, -horizon:]"
   ]
  },
  {
   "cell_type": "code",
   "execution_count": 23,
   "metadata": {},
   "outputs": [
    {
     "data": {
      "text/plain": [
       "(<tf.Tensor: shape=(1, 7), dtype=int32, numpy=array([[1, 2, 3, 4, 5, 6, 7]])>,\n",
       " <tf.Tensor: shape=(1, 1), dtype=int32, numpy=array([[8]])>)"
      ]
     },
     "execution_count": 23,
     "metadata": {},
     "output_type": "execute_result"
    }
   ],
   "source": [
    "test_window, test_label = get_labelled_window(tf.expand_dims(tf.range(8) + 1, axis = 0))\n",
    "test_window, test_label"
   ]
  },
  {
   "cell_type": "code",
   "execution_count": 24,
   "metadata": {},
   "outputs": [],
   "source": [
    "def make_windows(x, window_size = WINDOW_SIZE, horizon = HORIZON):\n",
    "    '''\n",
    "    Turns a 1D array into a 2D array of sequential labelled windows of window_size with horizon size labels.\n",
    "    '''\n",
    "    # Create a nested window\n",
    "    window_step = np.expand_dims(np.arange(window_size+ horizon), axis= 0)\n",
    "\n",
    "    window_index = window_step + np.expand_dims(np.arange(len(x) - (window_size + horizon - 1)), axis=0).T\n",
    "\n",
    "    # Index on the target array\n",
    "    windowed_array = x[window_index]\n",
    "\n",
    "    # windows with labels\n",
    "    windows, labels = get_labelled_window(windowed_array, horizon=horizon)\n",
    "    return windows, labels\n"
   ]
  },
  {
   "cell_type": "code",
   "execution_count": 25,
   "metadata": {},
   "outputs": [
    {
     "data": {
      "text/plain": [
       "array([[0, 1, 2, 3, 4, 5, 6, 7]])"
      ]
     },
     "execution_count": 25,
     "metadata": {},
     "output_type": "execute_result"
    }
   ],
   "source": [
    "np.expand_dims(np.arange(8), axis = 0)"
   ]
  },
  {
   "cell_type": "code",
   "execution_count": 51,
   "metadata": {},
   "outputs": [
    {
     "data": {
      "text/plain": [
       "((2644, 7), (2644, 1))"
      ]
     },
     "execution_count": 51,
     "metadata": {},
     "output_type": "execute_result"
    }
   ],
   "source": [
    "windows, labels = make_windows(np.array(btc_price))\n",
    "windows.shape, labels.shape"
   ]
  },
  {
   "cell_type": "code",
   "execution_count": 27,
   "metadata": {},
   "outputs": [
    {
     "data": {
      "text/plain": [
       "324.467934"
      ]
     },
     "execution_count": 27,
     "metadata": {},
     "output_type": "execute_result"
    }
   ],
   "source": [
    "btc_price[0]"
   ]
  },
  {
   "cell_type": "code",
   "execution_count": 28,
   "metadata": {},
   "outputs": [
    {
     "data": {
      "text/plain": [
       "array([324.467934, 328.644408, 337.921358, 348.99286 , 341.459753,\n",
       "       344.745289, 357.239982])"
      ]
     },
     "execution_count": 28,
     "metadata": {},
     "output_type": "execute_result"
    }
   ],
   "source": [
    "windows[0]"
   ]
  },
  {
   "cell_type": "code",
   "execution_count": 29,
   "metadata": {},
   "outputs": [
    {
     "name": "stdout",
     "output_type": "stream",
     "text": [
      "Window : [324.467934 328.644408 337.921358 348.99286  341.459753 344.745289\n",
      " 357.239982] -> Label : [371.116917]\n",
      "Window : [328.644408 337.921358 348.99286  341.459753 344.745289 357.239982\n",
      " 371.116917] -> Label : [366.664633]\n",
      "Window : [337.921358 348.99286  341.459753 344.745289 357.239982 371.116917\n",
      " 366.664633] -> Label : [428.882925]\n"
     ]
    }
   ],
   "source": [
    "for i in range(3):\n",
    "    print(f\"Window : {windows[i]} -> Label : {labels[i]}\")"
   ]
  },
  {
   "cell_type": "code",
   "execution_count": 52,
   "metadata": {},
   "outputs": [],
   "source": [
    "def train_test_split_windows(windows, labels, test_split= 0.2):\n",
    "    '''\n",
    "    Splits matching pairs of windows and labels into train and test splits\n",
    "    '''\n",
    "\n",
    "    split_size = int(len(windows) * (1 - test_split))\n",
    "    train_windows = windows[:split_size]\n",
    "    train_labels = labels[:split_size]\n",
    "    test_windows = windows[split_size:]\n",
    "    test_labels = labels[split_size:]\n",
    "    return train_windows, train_labels, test_windows, test_labels"
   ]
  },
  {
   "cell_type": "code",
   "execution_count": 53,
   "metadata": {},
   "outputs": [],
   "source": [
    "train_windows, train_labels, test_windows, test_labels = train_test_split_windows(windows, labels)"
   ]
  },
  {
   "cell_type": "markdown",
   "metadata": {},
   "source": [
    "### Make a modelling checkpoint"
   ]
  },
  {
   "cell_type": "code",
   "execution_count": 54,
   "metadata": {},
   "outputs": [],
   "source": [
    "import os\n",
    "\n",
    "# Model checkpoint callback with a specific filename\n",
    "\n",
    "def checkpoint_cb( model_name, save_path = 'models'):\n",
    "    return tf.keras.callbacks.ModelCheckpoint(filepath=os.path.join(save_path, model_name), verbose=0, save_best_only=True)\n"
   ]
  },
  {
   "cell_type": "code",
   "execution_count": 55,
   "metadata": {},
   "outputs": [
    {
     "name": "stdout",
     "output_type": "stream",
     "text": [
      "Epoch 1/100\n",
      " 1/17 [>.............................] - ETA: 3s - loss: 2887.5535 - mae: 2887.5535 - mse: 14889796.0000INFO:tensorflow:Assets written to: models\\Basic_Regression\\assets\n",
      "17/17 [==============================] - 1s 23ms/step - loss: 1100.0088 - mae: 1100.0088 - mse: 3562633.0000 - val_loss: 4832.4214 - val_mae: 4832.4214 - val_mse: 35321380.0000\n",
      "Epoch 2/100\n",
      " 1/17 [>.............................] - ETA: 0s - loss: 480.1158 - mae: 480.1158 - mse: 581015.8750INFO:tensorflow:Assets written to: models\\Basic_Regression\\assets\n",
      "17/17 [==============================] - 0s 21ms/step - loss: 326.0253 - mae: 326.0253 - mse: 339046.6562 - val_loss: 1938.8119 - val_mae: 1938.8119 - val_mse: 7271532.5000\n",
      "Epoch 3/100\n",
      " 1/17 [>.............................] - ETA: 0s - loss: 258.6329 - mae: 258.6329 - mse: 226584.7812INFO:tensorflow:Assets written to: models\\Basic_Regression\\assets\n",
      "17/17 [==============================] - 0s 19ms/step - loss: 238.5033 - mae: 238.5033 - mse: 216512.0469 - val_loss: 1862.6833 - val_mae: 1862.6833 - val_mse: 6723281.0000\n",
      "Epoch 4/100\n",
      " 1/17 [>.............................] - ETA: 0s - loss: 221.6058 - mae: 221.6058 - mse: 200151.4688INFO:tensorflow:Assets written to: models\\Basic_Regression\\assets\n",
      "17/17 [==============================] - 0s 19ms/step - loss: 217.9016 - mae: 217.9016 - mse: 189999.0000 - val_loss: 1797.5853 - val_mae: 1797.5853 - val_mse: 6169264.5000\n",
      "Epoch 5/100\n",
      " 1/17 [>.............................] - ETA: 0s - loss: 236.4433 - mae: 236.4433 - mse: 233427.0312INFO:tensorflow:Assets written to: models\\Basic_Regression\\assets\n",
      "17/17 [==============================] - 0s 19ms/step - loss: 209.6864 - mae: 209.6864 - mse: 181247.8594 - val_loss: 1759.8129 - val_mae: 1759.8129 - val_mse: 5802266.0000\n",
      "Epoch 6/100\n",
      " 1/17 [>.............................] - ETA: 0s - loss: 172.5761 - mae: 172.5761 - mse: 122325.9141INFO:tensorflow:Assets written to: models\\Basic_Regression\\assets\n",
      "17/17 [==============================] - 1s 36ms/step - loss: 207.2642 - mae: 207.2642 - mse: 175999.5938 - val_loss: 1736.6100 - val_mae: 1736.6100 - val_mse: 5524972.5000\n",
      "Epoch 7/100\n",
      " 1/17 [>.............................] - ETA: 0s - loss: 236.9054 - mae: 236.9054 - mse: 174441.4375INFO:tensorflow:Assets written to: models\\Basic_Regression\\assets\n",
      "17/17 [==============================] - 0s 19ms/step - loss: 198.8942 - mae: 198.8942 - mse: 162395.4844 - val_loss: 1671.9849 - val_mae: 1671.9849 - val_mse: 5206596.0000\n",
      "Epoch 8/100\n",
      " 1/17 [>.............................] - ETA: 0s - loss: 179.4370 - mae: 179.4370 - mse: 257998.2656INFO:tensorflow:Assets written to: models\\Basic_Regression\\assets\n",
      "17/17 [==============================] - 0s 19ms/step - loss: 191.9970 - mae: 191.9970 - mse: 155308.6094 - val_loss: 1597.7091 - val_mae: 1597.7091 - val_mse: 4767023.5000\n",
      "Epoch 9/100\n",
      " 1/17 [>.............................] - ETA: 0s - loss: 239.1881 - mae: 239.1881 - mse: 370481.8750INFO:tensorflow:Assets written to: models\\Basic_Regression\\assets\n",
      "17/17 [==============================] - 0s 19ms/step - loss: 183.0917 - mae: 183.0917 - mse: 142734.1719 - val_loss: 1556.5275 - val_mae: 1556.5275 - val_mse: 4502266.0000\n",
      "Epoch 10/100\n",
      " 1/17 [>.............................] - ETA: 0s - loss: 155.4874 - mae: 155.4874 - mse: 96258.8750INFO:tensorflow:Assets written to: models\\Basic_Regression\\assets\n",
      "17/17 [==============================] - 0s 19ms/step - loss: 177.1573 - mae: 177.1573 - mse: 134641.3594 - val_loss: 1502.5200 - val_mae: 1502.5200 - val_mse: 4281372.0000\n",
      "Epoch 11/100\n",
      " 1/17 [>.............................] - ETA: 0s - loss: 131.7504 - mae: 131.7504 - mse: 69129.6953INFO:tensorflow:Assets written to: models\\Basic_Regression\\assets\n",
      "17/17 [==============================] - 0s 19ms/step - loss: 173.1776 - mae: 173.1776 - mse: 128734.8828 - val_loss: 1464.0345 - val_mae: 1464.0345 - val_mse: 4065034.2500\n",
      "Epoch 12/100\n",
      "17/17 [==============================] - 0s 2ms/step - loss: 168.8621 - mae: 168.8621 - mse: 119908.8359 - val_loss: 1477.6394 - val_mae: 1477.6394 - val_mse: 4344430.5000\n",
      "Epoch 13/100\n",
      " 1/17 [>.............................] - ETA: 0s - loss: 175.3227 - mae: 175.3227 - mse: 162061.0312INFO:tensorflow:Assets written to: models\\Basic_Regression\\assets\n",
      "17/17 [==============================] - 0s 19ms/step - loss: 167.2007 - mae: 167.2007 - mse: 118854.7031 - val_loss: 1435.6801 - val_mae: 1435.6801 - val_mse: 4110816.0000\n",
      "Epoch 14/100\n",
      " 1/17 [>.............................] - ETA: 0s - loss: 167.6595 - mae: 167.6595 - mse: 136108.3438INFO:tensorflow:Assets written to: models\\Basic_Regression\\assets\n",
      "17/17 [==============================] - 0s 19ms/step - loss: 161.7444 - mae: 161.7444 - mse: 115189.5859 - val_loss: 1372.5480 - val_mae: 1372.5480 - val_mse: 3614053.7500\n",
      "Epoch 15/100\n",
      " 1/17 [>.............................] - ETA: 0s - loss: 179.6233 - mae: 179.6233 - mse: 240010.7812INFO:tensorflow:Assets written to: models\\Basic_Regression\\assets\n",
      "17/17 [==============================] - 0s 19ms/step - loss: 156.9918 - mae: 156.9918 - mse: 109645.4922 - val_loss: 1353.1664 - val_mae: 1353.1664 - val_mse: 3524554.7500\n",
      "Epoch 16/100\n",
      " 1/17 [>.............................] - ETA: 0s - loss: 149.3721 - mae: 149.3721 - mse: 79354.5312INFO:tensorflow:Assets written to: models\\Basic_Regression\\assets\n",
      "17/17 [==============================] - 0s 19ms/step - loss: 154.7787 - mae: 154.7787 - mse: 107324.2969 - val_loss: 1322.7933 - val_mae: 1322.7933 - val_mse: 3477713.2500\n",
      "Epoch 17/100\n",
      "17/17 [==============================] - 0s 2ms/step - loss: 151.3074 - mae: 151.3074 - mse: 102843.6875 - val_loss: 1332.7867 - val_mae: 1332.7867 - val_mse: 3416255.7500\n",
      "Epoch 18/100\n",
      "17/17 [==============================] - 0s 2ms/step - loss: 153.8849 - mae: 153.8849 - mse: 103798.4062 - val_loss: 1338.2802 - val_mae: 1338.2802 - val_mse: 3609273.2500\n",
      "Epoch 19/100\n",
      " 1/17 [>.............................] - ETA: 0s - loss: 169.0337 - mae: 169.0337 - mse: 162950.4688INFO:tensorflow:Assets written to: models\\Basic_Regression\\assets\n",
      "17/17 [==============================] - 0s 19ms/step - loss: 153.2554 - mae: 153.2554 - mse: 102605.8047 - val_loss: 1283.9106 - val_mae: 1283.9106 - val_mse: 3306646.5000\n",
      "Epoch 20/100\n",
      "17/17 [==============================] - 0s 2ms/step - loss: 153.9077 - mae: 153.9077 - mse: 102811.9141 - val_loss: 1350.1631 - val_mae: 1350.1631 - val_mse: 3435702.7500\n",
      "Epoch 21/100\n",
      " 1/17 [>.............................] - ETA: 0s - loss: 164.2326 - mae: 164.2326 - mse: 94429.6250INFO:tensorflow:Assets written to: models\\Basic_Regression\\assets\n",
      "17/17 [==============================] - 0s 19ms/step - loss: 149.0597 - mae: 149.0597 - mse: 99317.6094 - val_loss: 1269.5768 - val_mae: 1269.5768 - val_mse: 3221166.7500\n",
      "Epoch 22/100\n",
      " 1/17 [>.............................] - ETA: 0s - loss: 149.9391 - mae: 149.9391 - mse: 82166.7266INFO:tensorflow:Assets written to: models\\Basic_Regression\\assets\n",
      "17/17 [==============================] - 0s 19ms/step - loss: 147.3143 - mae: 147.3143 - mse: 98465.0469 - val_loss: 1264.8407 - val_mae: 1264.8407 - val_mse: 3192708.0000\n",
      "Epoch 23/100\n",
      "17/17 [==============================] - 0s 2ms/step - loss: 148.8669 - mae: 148.8669 - mse: 99371.8828 - val_loss: 1281.2993 - val_mae: 1281.2993 - val_mse: 3339289.5000\n",
      "Epoch 24/100\n",
      " 1/17 [>.............................] - ETA: 0s - loss: 115.2026 - mae: 115.2026 - mse: 51699.9609INFO:tensorflow:Assets written to: models\\Basic_Regression\\assets\n",
      "17/17 [==============================] - 0s 19ms/step - loss: 145.2228 - mae: 145.2228 - mse: 95431.9766 - val_loss: 1249.4242 - val_mae: 1249.4242 - val_mse: 3162298.2500\n",
      "Epoch 25/100\n",
      " 1/17 [>.............................] - ETA: 0s - loss: 137.5238 - mae: 137.5238 - mse: 78049.4844INFO:tensorflow:Assets written to: models\\Basic_Regression\\assets\n",
      "17/17 [==============================] - 0s 19ms/step - loss: 144.6646 - mae: 144.6646 - mse: 95354.7969 - val_loss: 1245.0958 - val_mae: 1245.0958 - val_mse: 3129555.5000\n",
      "Epoch 26/100\n",
      "17/17 [==============================] - 0s 2ms/step - loss: 145.2990 - mae: 145.2990 - mse: 96702.6094 - val_loss: 1256.2775 - val_mae: 1256.2775 - val_mse: 3226755.2500\n",
      "Epoch 27/100\n",
      "17/17 [==============================] - 0s 2ms/step - loss: 144.8088 - mae: 144.8088 - mse: 94450.2891 - val_loss: 1247.9430 - val_mae: 1247.9430 - val_mse: 3106416.0000\n",
      "Epoch 28/100\n",
      "17/17 [==============================] - 0s 2ms/step - loss: 143.5622 - mae: 143.5622 - mse: 94440.3047 - val_loss: 1263.2506 - val_mae: 1263.2506 - val_mse: 3266166.7500\n",
      "Epoch 29/100\n",
      " 1/17 [>.............................] - ETA: 0s - loss: 188.1716 - mae: 188.1716 - mse: 187246.2188INFO:tensorflow:Assets written to: models\\Basic_Regression\\assets\n",
      "17/17 [==============================] - 0s 19ms/step - loss: 145.0703 - mae: 145.0703 - mse: 94538.9219 - val_loss: 1233.2272 - val_mae: 1233.2272 - val_mse: 3064966.2500\n",
      "Epoch 30/100\n",
      " 1/17 [>.............................] - ETA: 0s - loss: 169.6327 - mae: 169.6327 - mse: 122043.3594INFO:tensorflow:Assets written to: models\\Basic_Regression\\assets\n",
      "17/17 [==============================] - 0s 19ms/step - loss: 145.1772 - mae: 145.1772 - mse: 93205.6172 - val_loss: 1224.8976 - val_mae: 1224.8976 - val_mse: 3050499.7500\n",
      "Epoch 31/100\n",
      "17/17 [==============================] - 0s 2ms/step - loss: 145.2660 - mae: 145.2660 - mse: 95290.3750 - val_loss: 1229.0269 - val_mae: 1229.0269 - val_mse: 3043492.0000\n",
      "Epoch 32/100\n",
      " 1/17 [>.............................] - ETA: 0s - loss: 183.0150 - mae: 183.0150 - mse: 113587.8359INFO:tensorflow:Assets written to: models\\Basic_Regression\\assets\n",
      "17/17 [==============================] - 0s 19ms/step - loss: 144.4902 - mae: 144.4902 - mse: 93946.7109 - val_loss: 1217.0050 - val_mae: 1217.0050 - val_mse: 3039840.0000\n",
      "Epoch 33/100\n",
      " 1/17 [>.............................] - ETA: 0s - loss: 160.8796 - mae: 160.8796 - mse: 121879.4688INFO:tensorflow:Assets written to: models\\Basic_Regression\\assets\n",
      "17/17 [==============================] - 0s 20ms/step - loss: 140.9361 - mae: 140.9361 - mse: 90534.8203 - val_loss: 1214.5574 - val_mae: 1214.5574 - val_mse: 3013901.2500\n",
      "Epoch 34/100\n",
      "17/17 [==============================] - 0s 2ms/step - loss: 141.4242 - mae: 141.4242 - mse: 91378.6484 - val_loss: 1254.8671 - val_mae: 1254.8671 - val_mse: 3227164.0000\n",
      "Epoch 35/100\n",
      "17/17 [==============================] - 0s 2ms/step - loss: 142.7932 - mae: 142.7932 - mse: 91201.2031 - val_loss: 1242.3945 - val_mae: 1242.3945 - val_mse: 3057855.5000\n",
      "Epoch 36/100\n",
      "17/17 [==============================] - 0s 2ms/step - loss: 142.6788 - mae: 142.6788 - mse: 90644.3672 - val_loss: 1220.2126 - val_mae: 1220.2126 - val_mse: 3085187.2500\n",
      "Epoch 37/100\n",
      "17/17 [==============================] - 0s 2ms/step - loss: 140.6822 - mae: 140.6822 - mse: 90400.6094 - val_loss: 1227.1687 - val_mae: 1227.1687 - val_mse: 3013656.0000\n",
      "Epoch 38/100\n",
      " 1/17 [>.............................] - ETA: 0s - loss: 157.0331 - mae: 157.0331 - mse: 126925.0000INFO:tensorflow:Assets written to: models\\Basic_Regression\\assets\n",
      "17/17 [==============================] - 0s 19ms/step - loss: 139.2202 - mae: 139.2202 - mse: 89063.1484 - val_loss: 1214.2247 - val_mae: 1214.2247 - val_mse: 3061598.7500\n",
      "Epoch 39/100\n",
      " 1/17 [>.............................] - ETA: 0s - loss: 100.0414 - mae: 100.0414 - mse: 48183.9453INFO:tensorflow:Assets written to: models\\Basic_Regression\\assets\n",
      "17/17 [==============================] - 0s 19ms/step - loss: 141.1915 - mae: 141.1915 - mse: 89097.6875 - val_loss: 1205.9772 - val_mae: 1205.9772 - val_mse: 3028169.0000\n",
      "Epoch 40/100\n",
      "17/17 [==============================] - 0s 2ms/step - loss: 140.2305 - mae: 140.2305 - mse: 90272.2578 - val_loss: 1210.4696 - val_mae: 1210.4696 - val_mse: 2969456.7500\n",
      "Epoch 41/100\n",
      " 1/17 [>.............................] - ETA: 0s - loss: 144.1943 - mae: 144.1943 - mse: 96643.6953INFO:tensorflow:Assets written to: models\\Basic_Regression\\assets\n",
      "17/17 [==============================] - 0s 19ms/step - loss: 140.7156 - mae: 140.7156 - mse: 90302.2812 - val_loss: 1190.8586 - val_mae: 1190.8586 - val_mse: 2947143.2500\n",
      "Epoch 42/100\n",
      "17/17 [==============================] - 0s 2ms/step - loss: 137.1881 - mae: 137.1881 - mse: 87136.0078 - val_loss: 1223.5610 - val_mae: 1223.5610 - val_mse: 2991205.2500\n",
      "Epoch 43/100\n",
      "17/17 [==============================] - 0s 2ms/step - loss: 137.4839 - mae: 137.4839 - mse: 87961.3750 - val_loss: 1192.3264 - val_mae: 1192.3264 - val_mse: 2975102.0000\n",
      "Epoch 44/100\n",
      " 1/17 [>.............................] - ETA: 0s - loss: 120.9327 - mae: 120.9327 - mse: 52985.2227INFO:tensorflow:Assets written to: models\\Basic_Regression\\assets\n",
      "17/17 [==============================] - 0s 19ms/step - loss: 137.6774 - mae: 137.6774 - mse: 88068.9766 - val_loss: 1186.4855 - val_mae: 1186.4855 - val_mse: 2918501.0000\n",
      "Epoch 45/100\n",
      "17/17 [==============================] - 0s 2ms/step - loss: 149.1908 - mae: 149.1908 - mse: 94516.7734 - val_loss: 1195.9091 - val_mae: 1195.9091 - val_mse: 2926036.0000\n",
      "Epoch 46/100\n",
      "17/17 [==============================] - 0s 2ms/step - loss: 137.7889 - mae: 137.7889 - mse: 87056.9453 - val_loss: 1239.6759 - val_mae: 1239.6759 - val_mse: 3148561.0000\n",
      "Epoch 47/100\n",
      "17/17 [==============================] - 0s 2ms/step - loss: 144.2467 - mae: 144.2467 - mse: 93770.3594 - val_loss: 1238.7310 - val_mae: 1238.7310 - val_mse: 3024261.2500\n",
      "Epoch 48/100\n",
      "17/17 [==============================] - 0s 2ms/step - loss: 145.5402 - mae: 145.5402 - mse: 91261.7812 - val_loss: 1266.5190 - val_mae: 1266.5190 - val_mse: 3251128.7500\n",
      "Epoch 49/100\n",
      " 1/17 [>.............................] - ETA: 0s - loss: 140.0802 - mae: 140.0802 - mse: 65199.1641INFO:tensorflow:Assets written to: models\\Basic_Regression\\assets\n",
      "17/17 [==============================] - 0s 19ms/step - loss: 140.5540 - mae: 140.5540 - mse: 88150.4219 - val_loss: 1173.8748 - val_mae: 1173.8748 - val_mse: 2894586.2500\n",
      "Epoch 50/100\n",
      "17/17 [==============================] - 0s 2ms/step - loss: 139.4987 - mae: 139.4987 - mse: 86102.8828 - val_loss: 1216.1863 - val_mae: 1216.1863 - val_mse: 3058416.7500\n",
      "Epoch 51/100\n",
      "17/17 [==============================] - 0s 2ms/step - loss: 143.5760 - mae: 143.5760 - mse: 88443.8516 - val_loss: 1202.7545 - val_mae: 1202.7545 - val_mse: 2926406.7500\n",
      "Epoch 52/100\n",
      "17/17 [==============================] - 0s 2ms/step - loss: 137.3636 - mae: 137.3636 - mse: 84436.3672 - val_loss: 1187.4672 - val_mae: 1187.4672 - val_mse: 2955236.5000\n",
      "Epoch 53/100\n",
      "17/17 [==============================] - 0s 2ms/step - loss: 138.8073 - mae: 138.8073 - mse: 85644.7969 - val_loss: 1285.1787 - val_mae: 1285.1787 - val_mse: 3169237.0000\n",
      "Epoch 54/100\n",
      "17/17 [==============================] - 0s 2ms/step - loss: 141.0556 - mae: 141.0556 - mse: 89139.4062 - val_loss: 1180.2330 - val_mae: 1180.2330 - val_mse: 2929822.2500\n",
      "Epoch 55/100\n",
      " 1/17 [>.............................] - ETA: 0s - loss: 161.7261 - mae: 161.7261 - mse: 127429.7109INFO:tensorflow:Assets written to: models\\Basic_Regression\\assets\n",
      "17/17 [==============================] - 0s 19ms/step - loss: 139.7080 - mae: 139.7080 - mse: 89632.3750 - val_loss: 1171.3090 - val_mae: 1171.3090 - val_mse: 2897711.0000\n",
      "Epoch 56/100\n",
      " 1/17 [>.............................] - ETA: 0s - loss: 128.4098 - mae: 128.4098 - mse: 62673.2070INFO:tensorflow:Assets written to: models\\Basic_Regression\\assets\n",
      "17/17 [==============================] - 0s 19ms/step - loss: 137.7280 - mae: 137.7280 - mse: 85759.8906 - val_loss: 1167.3553 - val_mae: 1167.3553 - val_mse: 2884312.2500\n",
      "Epoch 57/100\n",
      " 1/17 [>.............................] - ETA: 0s - loss: 115.2193 - mae: 115.2193 - mse: 51403.1172INFO:tensorflow:Assets written to: models\\Basic_Regression\\assets\n",
      "17/17 [==============================] - 0s 19ms/step - loss: 138.4172 - mae: 138.4172 - mse: 87486.4688 - val_loss: 1165.7684 - val_mae: 1165.7684 - val_mse: 2858905.5000\n",
      "Epoch 58/100\n",
      "17/17 [==============================] - 0s 2ms/step - loss: 139.5711 - mae: 139.5711 - mse: 86207.4531 - val_loss: 1284.6182 - val_mae: 1284.6182 - val_mse: 3168568.2500\n",
      "Epoch 59/100\n",
      "17/17 [==============================] - 0s 2ms/step - loss: 137.4915 - mae: 137.4915 - mse: 86821.5859 - val_loss: 1167.6244 - val_mae: 1167.6244 - val_mse: 2885756.0000\n",
      "Epoch 60/100\n",
      "17/17 [==============================] - 0s 2ms/step - loss: 137.4839 - mae: 137.4839 - mse: 86542.3125 - val_loss: 1216.8805 - val_mae: 1216.8805 - val_mse: 3051518.7500\n",
      "Epoch 61/100\n",
      "17/17 [==============================] - 0s 2ms/step - loss: 138.7612 - mae: 138.7612 - mse: 85837.2578 - val_loss: 1188.8071 - val_mae: 1188.8071 - val_mse: 2954784.2500\n",
      "Epoch 62/100\n",
      "17/17 [==============================] - 0s 2ms/step - loss: 137.6039 - mae: 137.6039 - mse: 86945.5625 - val_loss: 1200.6973 - val_mae: 1200.6973 - val_mse: 2911490.7500\n",
      "Epoch 63/100\n",
      "17/17 [==============================] - 0s 2ms/step - loss: 137.7038 - mae: 137.7038 - mse: 85061.7500 - val_loss: 1183.5376 - val_mae: 1183.5376 - val_mse: 2936461.5000\n",
      "Epoch 64/100\n",
      " 1/17 [>.............................] - ETA: 0s - loss: 133.5981 - mae: 133.5981 - mse: 56673.2422INFO:tensorflow:Assets written to: models\\Basic_Regression\\assets\n",
      "17/17 [==============================] - 0s 22ms/step - loss: 137.7446 - mae: 137.7446 - mse: 86433.8125 - val_loss: 1163.1316 - val_mae: 1163.1316 - val_mse: 2869422.2500\n",
      "Epoch 65/100\n",
      "17/17 [==============================] - 0s 2ms/step - loss: 135.6216 - mae: 135.6216 - mse: 84227.1797 - val_loss: 1174.5527 - val_mae: 1174.5527 - val_mse: 2855044.0000\n",
      "Epoch 66/100\n",
      "17/17 [==============================] - 0s 2ms/step - loss: 135.2639 - mae: 135.2639 - mse: 84476.3594 - val_loss: 1198.7582 - val_mae: 1198.7582 - val_mse: 2905013.2500\n",
      "Epoch 67/100\n",
      "17/17 [==============================] - 0s 2ms/step - loss: 137.4402 - mae: 137.4402 - mse: 85881.8438 - val_loss: 1198.7954 - val_mae: 1198.7954 - val_mse: 2986088.5000\n",
      "Epoch 68/100\n",
      "17/17 [==============================] - 0s 2ms/step - loss: 138.1136 - mae: 138.1136 - mse: 85909.9375 - val_loss: 1182.5857 - val_mae: 1182.5857 - val_mse: 2867758.5000\n",
      "Epoch 69/100\n",
      "17/17 [==============================] - 0s 2ms/step - loss: 134.9343 - mae: 134.9343 - mse: 84021.6094 - val_loss: 1215.6560 - val_mae: 1215.6560 - val_mse: 3042528.5000\n",
      "Epoch 70/100\n",
      " 1/17 [>.............................] - ETA: 0s - loss: 109.9536 - mae: 109.9536 - mse: 59806.5781INFO:tensorflow:Assets written to: models\\Basic_Regression\\assets\n",
      "17/17 [==============================] - 0s 19ms/step - loss: 136.1590 - mae: 136.1590 - mse: 83648.6328 - val_loss: 1161.7458 - val_mae: 1161.7458 - val_mse: 2832334.7500\n",
      "Epoch 71/100\n",
      "17/17 [==============================] - 0s 2ms/step - loss: 134.1623 - mae: 134.1623 - mse: 84342.9141 - val_loss: 1200.2009 - val_mae: 1200.2009 - val_mse: 2989144.7500\n",
      "Epoch 72/100\n",
      "17/17 [==============================] - 0s 2ms/step - loss: 133.5909 - mae: 133.5909 - mse: 83178.6719 - val_loss: 1178.3068 - val_mae: 1178.3068 - val_mse: 2857181.7500\n",
      "Epoch 73/100\n",
      "17/17 [==============================] - 0s 2ms/step - loss: 136.0924 - mae: 136.0924 - mse: 83541.5781 - val_loss: 1201.5133 - val_mae: 1201.5133 - val_mse: 2993297.5000\n",
      "Epoch 74/100\n",
      "17/17 [==============================] - 0s 2ms/step - loss: 138.5354 - mae: 138.5354 - mse: 87112.5547 - val_loss: 1177.9244 - val_mae: 1177.9244 - val_mse: 2854854.2500\n",
      "Epoch 75/100\n",
      "17/17 [==============================] - 0s 2ms/step - loss: 133.1730 - mae: 133.1730 - mse: 82610.0859 - val_loss: 1177.0339 - val_mae: 1177.0339 - val_mse: 2852087.5000\n",
      "Epoch 76/100\n",
      "17/17 [==============================] - 0s 2ms/step - loss: 136.3862 - mae: 136.3862 - mse: 84007.8047 - val_loss: 1179.5499 - val_mae: 1179.5499 - val_mse: 2917643.7500\n",
      "Epoch 77/100\n",
      "17/17 [==============================] - 0s 2ms/step - loss: 133.4189 - mae: 133.4189 - mse: 82847.4062 - val_loss: 1180.7435 - val_mae: 1180.7435 - val_mse: 2858711.5000\n",
      "Epoch 78/100\n",
      "17/17 [==============================] - 0s 2ms/step - loss: 135.1774 - mae: 135.1774 - mse: 84386.9609 - val_loss: 1216.2390 - val_mae: 1216.2390 - val_mse: 2951514.0000\n",
      "Epoch 79/100\n",
      "17/17 [==============================] - 0s 2ms/step - loss: 134.2957 - mae: 134.2957 - mse: 82071.7109 - val_loss: 1211.8495 - val_mae: 1211.8495 - val_mse: 3024365.2500\n",
      "Epoch 80/100\n",
      " 1/17 [>.............................] - ETA: 0s - loss: 117.2368 - mae: 117.2368 - mse: 52591.3672INFO:tensorflow:Assets written to: models\\Basic_Regression\\assets\n",
      "17/17 [==============================] - 1s 38ms/step - loss: 138.4166 - mae: 138.4166 - mse: 84778.9531 - val_loss: 1154.3478 - val_mae: 1154.3478 - val_mse: 2831816.7500\n",
      "Epoch 81/100\n",
      "17/17 [==============================] - 0s 2ms/step - loss: 134.0037 - mae: 134.0037 - mse: 83089.4766 - val_loss: 1156.9806 - val_mae: 1156.9806 - val_mse: 2840927.5000\n",
      "Epoch 82/100\n",
      "17/17 [==============================] - 0s 2ms/step - loss: 133.2936 - mae: 133.2936 - mse: 81893.0078 - val_loss: 1161.0953 - val_mae: 1161.0953 - val_mse: 2819268.5000\n",
      "Epoch 83/100\n",
      "17/17 [==============================] - 0s 2ms/step - loss: 133.9187 - mae: 133.9187 - mse: 82944.4609 - val_loss: 1158.1207 - val_mae: 1158.1207 - val_mse: 2843879.0000\n",
      "Epoch 84/100\n",
      "17/17 [==============================] - 0s 2ms/step - loss: 136.1581 - mae: 136.1581 - mse: 85319.9922 - val_loss: 1248.9554 - val_mae: 1248.9554 - val_mse: 3159199.7500\n",
      "Epoch 85/100\n",
      "17/17 [==============================] - 0s 2ms/step - loss: 141.1752 - mae: 141.1752 - mse: 85738.6406 - val_loss: 1178.5933 - val_mae: 1178.5933 - val_mse: 2910859.7500\n",
      "Epoch 86/100\n",
      "17/17 [==============================] - 0s 2ms/step - loss: 134.3971 - mae: 134.3971 - mse: 83346.8125 - val_loss: 1173.8964 - val_mae: 1173.8964 - val_mse: 2840531.5000\n",
      "Epoch 87/100\n",
      "17/17 [==============================] - 0s 2ms/step - loss: 138.6716 - mae: 138.6716 - mse: 85438.7969 - val_loss: 1299.0344 - val_mae: 1299.0344 - val_mse: 3354265.2500\n",
      "Epoch 88/100\n",
      " 1/17 [>.............................] - ETA: 0s - loss: 126.6734 - mae: 126.6734 - mse: 59464.5625INFO:tensorflow:Assets written to: models\\Basic_Regression\\assets\n",
      "17/17 [==============================] - 0s 18ms/step - loss: 144.0350 - mae: 144.0350 - mse: 85832.5312 - val_loss: 1148.0674 - val_mae: 1148.0674 - val_mse: 2798140.2500\n",
      "Epoch 89/100\n",
      "17/17 [==============================] - 0s 2ms/step - loss: 134.4126 - mae: 134.4126 - mse: 83118.4688 - val_loss: 1178.6228 - val_mae: 1178.6228 - val_mse: 2850672.5000\n",
      "Epoch 90/100\n",
      "17/17 [==============================] - 0s 2ms/step - loss: 135.9302 - mae: 135.9302 - mse: 84471.6719 - val_loss: 1149.1436 - val_mae: 1149.1436 - val_mse: 2806135.0000\n",
      "Epoch 91/100\n",
      "17/17 [==============================] - 0s 2ms/step - loss: 132.7269 - mae: 132.7269 - mse: 81690.2266 - val_loss: 1152.5922 - val_mae: 1152.5922 - val_mse: 2800297.7500\n",
      "Epoch 92/100\n",
      "17/17 [==============================] - 0s 2ms/step - loss: 138.0502 - mae: 138.0502 - mse: 83817.1641 - val_loss: 1210.9938 - val_mae: 1210.9938 - val_mse: 2935016.5000\n",
      "Epoch 93/100\n",
      "17/17 [==============================] - 0s 2ms/step - loss: 136.2990 - mae: 136.2990 - mse: 83977.4609 - val_loss: 1154.4585 - val_mae: 1154.4585 - val_mse: 2827028.0000\n",
      "Epoch 94/100\n",
      " 1/17 [>.............................] - ETA: 0s - loss: 166.3980 - mae: 166.3980 - mse: 150132.7812INFO:tensorflow:Assets written to: models\\Basic_Regression\\assets\n",
      "17/17 [==============================] - 0s 19ms/step - loss: 145.7048 - mae: 145.7048 - mse: 88719.6953 - val_loss: 1147.9894 - val_mae: 1147.9894 - val_mse: 2799419.2500\n",
      "Epoch 95/100\n",
      "17/17 [==============================] - 0s 2ms/step - loss: 135.4870 - mae: 135.4870 - mse: 84201.3906 - val_loss: 1172.7299 - val_mae: 1172.7299 - val_mse: 2835702.2500\n",
      "Epoch 96/100\n",
      "17/17 [==============================] - 0s 2ms/step - loss: 134.1915 - mae: 134.1915 - mse: 82612.3438 - val_loss: 1171.4586 - val_mae: 1171.4586 - val_mse: 2832420.2500\n",
      "Epoch 97/100\n",
      " 1/17 [>.............................] - ETA: 0s - loss: 118.9392 - mae: 118.9392 - mse: 63405.0156INFO:tensorflow:Assets written to: models\\Basic_Regression\\assets\n",
      "17/17 [==============================] - 0s 18ms/step - loss: 133.4753 - mae: 133.4753 - mse: 82279.9922 - val_loss: 1146.1454 - val_mae: 1146.1454 - val_mse: 2788494.7500\n",
      "Epoch 98/100\n",
      "17/17 [==============================] - 0s 2ms/step - loss: 132.3125 - mae: 132.3125 - mse: 81229.1328 - val_loss: 1146.7180 - val_mae: 1146.7180 - val_mse: 2786954.7500\n",
      "Epoch 99/100\n",
      "17/17 [==============================] - 0s 2ms/step - loss: 134.2297 - mae: 134.2297 - mse: 82210.7891 - val_loss: 1172.5747 - val_mae: 1172.5747 - val_mse: 2885879.7500\n",
      "Epoch 100/100\n",
      "17/17 [==============================] - 0s 2ms/step - loss: 136.5226 - mae: 136.5226 - mse: 83922.4297 - val_loss: 1272.8016 - val_mae: 1272.8016 - val_mse: 3129840.5000\n"
     ]
    },
    {
     "data": {
      "text/plain": [
       "<keras.callbacks.History at 0x2125b0b59a0>"
      ]
     },
     "execution_count": 55,
     "metadata": {},
     "output_type": "execute_result"
    }
   ],
   "source": [
    "### Basic Linear Regression model\n",
    "from tensorflow.keras import layers\n",
    "tf.random.set_seed(42)\n",
    "\n",
    "model1 = tf.keras.Sequential([\n",
    "    layers.Dense(128, activation='relu'),\n",
    "    layers.Dense(HORIZON, activation='linear') # no activatoin\n",
    "], name = 'Basic_Regression')\n",
    "\n",
    "model1.compile(loss = \"mae\", optimizer = tf.keras.optimizers.Adam(), metrics=[\"mae\", \"mse\"])\n",
    "\n",
    "model1.fit(\n",
    "    x = train_windows, \n",
    "    y = train_labels, \n",
    "    epochs=100, \n",
    "    verbose = 1,\n",
    "    batch_size=128, \n",
    "    validation_data = (test_windows, test_labels), \n",
    "    callbacks=  [checkpoint_cb(model_name=model1.name)])"
   ]
  },
  {
   "cell_type": "code",
   "execution_count": 56,
   "metadata": {},
   "outputs": [
    {
     "name": "stdout",
     "output_type": "stream",
     "text": [
      "17/17 [==============================] - 0s 625us/step - loss: 1272.8014 - mae: 1272.8014 - mse: 3129840.5000\n"
     ]
    },
    {
     "data": {
      "text/plain": [
       "[1272.8013916015625, 1272.8013916015625, 3129840.5]"
      ]
     },
     "execution_count": 56,
     "metadata": {},
     "output_type": "execute_result"
    }
   ],
   "source": [
    "model1.evaluate(test_windows, test_labels)"
   ]
  },
  {
   "cell_type": "code",
   "execution_count": 57,
   "metadata": {},
   "outputs": [],
   "source": [
    "model1 = tf.keras.models.load_model('models/Basic_Regression')"
   ]
  },
  {
   "cell_type": "code",
   "execution_count": 58,
   "metadata": {},
   "outputs": [
    {
     "name": "stdout",
     "output_type": "stream",
     "text": [
      "17/17 [==============================] - 0s 625us/step - loss: 1146.1456 - mae: 1146.1456 - mse: 2788494.7500\n"
     ]
    },
    {
     "data": {
      "text/plain": [
       "[1146.1456298828125, 1146.1456298828125, 2788494.75]"
      ]
     },
     "execution_count": 58,
     "metadata": {},
     "output_type": "execute_result"
    }
   ],
   "source": [
    "model1.evaluate(test_windows, test_labels)"
   ]
  },
  {
   "cell_type": "code",
   "execution_count": 59,
   "metadata": {},
   "outputs": [],
   "source": [
    "def make_preds(model, input_data):\n",
    "    forecast = model.predict(input_data)\n",
    "    return tf.squeeze(forecast)"
   ]
  },
  {
   "cell_type": "code",
   "execution_count": 60,
   "metadata": {},
   "outputs": [],
   "source": [
    "model_preds = make_preds(model1, test_windows)"
   ]
  },
  {
   "cell_type": "code",
   "execution_count": 61,
   "metadata": {},
   "outputs": [],
   "source": [
    "model_res = evaluate_preds(y_true=tf.squeeze(test_labels), y_pred = model_preds)"
   ]
  },
  {
   "cell_type": "code",
   "execution_count": 64,
   "metadata": {},
   "outputs": [
    {
     "data": {
      "text/plain": [
       "{'MAE': 1146.1455,\n",
       " 'MSE': 2788495.0,\n",
       " 'RSME': 1669.8788,\n",
       " 'MAPE': 2.8602996,\n",
       " 'MASE': 1.0055571}"
      ]
     },
     "execution_count": 64,
     "metadata": {},
     "output_type": "execute_result"
    }
   ],
   "source": [
    "model_res"
   ]
  },
  {
   "cell_type": "code",
   "execution_count": null,
   "metadata": {},
   "outputs": [],
   "source": []
  }
 ],
 "metadata": {
  "interpreter": {
   "hash": "33706f6da9b28b12de3d1d78ea840e472fd78eb772adbd1546a885ac7cd73372"
  },
  "kernelspec": {
   "display_name": "Python 3.9.10 64-bit (system)",
   "language": "python",
   "name": "python3"
  },
  "language_info": {
   "codemirror_mode": {
    "name": "ipython",
    "version": 3
   },
   "file_extension": ".py",
   "mimetype": "text/x-python",
   "name": "python",
   "nbconvert_exporter": "python",
   "pygments_lexer": "ipython3",
   "version": "3.9.10"
  },
  "orig_nbformat": 4
 },
 "nbformat": 4,
 "nbformat_minor": 2
}
